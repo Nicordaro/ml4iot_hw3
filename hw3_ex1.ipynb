{
  "nbformat": 4,
  "nbformat_minor": 0,
  "metadata": {
    "colab": {
      "name": "hw3_ex1.ipynb",
      "provenance": [],
      "authorship_tag": "ABX9TyPQso+yu35tNYNUNaik25z9",
      "include_colab_link": true
    },
    "kernelspec": {
      "name": "python3",
      "display_name": "Python 3"
    }
  },
  "cells": [
    {
      "cell_type": "markdown",
      "metadata": {
        "id": "view-in-github",
        "colab_type": "text"
      },
      "source": [
        "<a href=\"https://colab.research.google.com/github/Nicordaro/ml4iot_hw3/blob/main/hw3_ex1.ipynb\" target=\"_parent\"><img src=\"https://colab.research.google.com/assets/colab-badge.svg\" alt=\"Open In Colab\"/></a>"
      ]
    },
    {
      "cell_type": "code",
      "metadata": {
        "id": "ptGFVkqIZYjw"
      },
      "source": [
        "import os\r\n",
        "# Clone github repository with data\r\n",
        "# if os.path.isdir('./Project_MLDL'):\r\n",
        "!rm -rf Project_MLDL\r\n",
        "if not os.path.isdir('./resources'):\r\n",
        "  !git clone https://github.com/Nicordaro/ml4iot_hw3\r\n",
        "DATA_DIR = './ml4iot_hw3'"
      ],
      "execution_count": null,
      "outputs": []
    },
    {
      "cell_type": "markdown",
      "metadata": {
        "id": "yOcuLl5Ya--9"
      },
      "source": [
        "PROVA AAAAAAAAAAAAAAAAAAAAA"
      ]
    }
  ]
}