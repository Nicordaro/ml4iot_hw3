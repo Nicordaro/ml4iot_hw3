{
  "nbformat": 4,
  "nbformat_minor": 0,
  "metadata": {
    "kernelspec": {
      "display_name": "Python 3",
      "language": "python",
      "name": "python3"
    },
    "language_info": {
      "codemirror_mode": {
        "name": "ipython",
        "version": 3
      },
      "file_extension": ".py",
      "mimetype": "text/x-python",
      "name": "python",
      "nbconvert_exporter": "python",
      "pygments_lexer": "ipython3",
      "version": "3.7.3"
    },
    "colab": {
      "name": "small_model_stft.ipynb",
      "provenance": [],
      "include_colab_link": true
    },
    "accelerator": "GPU"
  },
  "cells": [
    {
      "cell_type": "markdown",
      "metadata": {
        "id": "view-in-github",
        "colab_type": "text"
      },
      "source": [
        "<a href=\"https://colab.research.google.com/github/Nicordaro/ml4iot_hw3/blob/main/small_model_stft.ipynb\" target=\"_parent\"><img src=\"https://colab.research.google.com/assets/colab-badge.svg\" alt=\"Open In Colab\"/></a>"
      ]
    },
    {
      "cell_type": "code",
      "metadata": {
        "colab": {
          "base_uri": "https://localhost:8080/"
        },
        "id": "K_Ks5w24z3Rv",
        "outputId": "c4aa9c9d-aa85-410d-90c1-a6bff8e5bdd3"
      },
      "source": [
        "pip install tensorflow_model_optimization"
      ],
      "execution_count": 298,
      "outputs": [
        {
          "output_type": "stream",
          "text": [
            "Requirement already satisfied: tensorflow_model_optimization in /usr/local/lib/python3.6/dist-packages (0.5.0)\n",
            "Requirement already satisfied: dm-tree~=0.1.1 in /usr/local/lib/python3.6/dist-packages (from tensorflow_model_optimization) (0.1.5)\n",
            "Requirement already satisfied: six~=1.10 in /usr/local/lib/python3.6/dist-packages (from tensorflow_model_optimization) (1.15.0)\n",
            "Requirement already satisfied: numpy~=1.14 in /usr/local/lib/python3.6/dist-packages (from tensorflow_model_optimization) (1.19.4)\n"
          ],
          "name": "stdout"
        }
      ]
    },
    {
      "cell_type": "code",
      "metadata": {
        "id": "dm-avjys0Pgf"
      },
      "source": [
        "import os\r\n",
        "# Clone github repository with data\r\n",
        "# if os.path.isdir('./Project_MLDL'):\r\n",
        "!rm -rf Project_MLDL\r\n",
        "DATA_DIR = './ml4iot_hw3'\r\n",
        "if not os.path.isdir(DATA_DIR):\r\n",
        "  !git clone https://github.com/Nicordaro/ml4iot_hw3"
      ],
      "execution_count": 299,
      "outputs": []
    },
    {
      "cell_type": "code",
      "metadata": {
        "id": "c7rxgp7Qzlhj"
      },
      "source": [
        "import argparse\n",
        "import os\n",
        "import numpy as np\n",
        "import tensorflow as tf\n",
        "from tensorflow import keras\n",
        "import tensorflow_model_optimization as tfmot\n",
        "import zlib\n",
        "import shutil\n",
        "\n",
        "seed = 42\n",
        "tf.random.set_seed(seed)\n",
        "np.random.seed(seed)\n",
        "\n",
        "zip_path = tf.keras.utils.get_file(\n",
        "                origin = 'http://storage.googleapis.com/download.tensorflow.org/data/mini_speech_commands.zip',\n",
        "                fname = 'mini_speech_commands.zip',\n",
        "                extract = True,\n",
        "                cache_dir = '.',\n",
        "                cache_subdir = 'data')\n",
        "\n",
        "data_dir = os.path.join('.','data', 'mini_speech_commands')\n",
        "\n",
        "def filenames(path) :\n",
        "    with open(path, \"rb\") as fp:\n",
        "        arr = np.array(fp.read().splitlines())\n",
        "    return arr\n",
        "    \n",
        "train_files = filenames(DATA_DIR+\"/kws_train_split.txt\")\n",
        "val_files = filenames(DATA_DIR+\"/kws_val_split.txt\")\n",
        "test_files = filenames(DATA_DIR+\"/kws_test_split.txt\")\n",
        "\n",
        "LABELS = np.array(tf.io.gfile.listdir(str(data_dir)))\n",
        "LABELS = LABELS[LABELS != 'README.md']"
      ],
      "execution_count": 300,
      "outputs": []
    },
    {
      "cell_type": "code",
      "metadata": {
        "id": "pK4GjgFezlhl"
      },
      "source": [
        "class SignalGenerator:\n",
        "    def __init__(self, labels, sampling_rate, frame_length, frame_step, num_mel_bins=None, lower_frequency=None,\n",
        "                upper_frequency=None, num_coefficients=None, mfcc=False):\n",
        "        \n",
        "        self.labels = labels\n",
        "        self.sampling_rate = sampling_rate \n",
        "        self.frame_length = frame_length  \n",
        "        self.frame_step = frame_step       \n",
        "        self.num_mel_bins = num_mel_bins   \n",
        "        self.lower_frequency = lower_frequency  \n",
        "        self.upper_frequency = upper_frequency  \n",
        "        self.num_coefficients = num_coefficients  \n",
        "        self.mfcc = mfcc  \n",
        "        \n",
        "        if mfcc is True:\n",
        "            self.preprocess = self.preprocess_with_mfcc\n",
        "        else :\n",
        "            self.preprocess = self.preprocess_with_stft\n",
        "            \n",
        "            \n",
        "    def read(self, file_path):\n",
        "        parts = tf.strings.split(file_path, os.path.sep)\n",
        "        label = parts[-2]  \n",
        "        label_id = tf.argmax(label == self.labels)\n",
        "        \n",
        "        audio_binary = tf.io.read_file(file_path)\n",
        "        audio,_ = tf.audio.decode_wav(audio_binary)\n",
        "        audio = tf.squeeze(audio, axis=1)  \n",
        "        audio = self.pad(audio)\n",
        "        \n",
        "        return audio, label_id\n",
        "    \n",
        "    def pad(self, audio):\n",
        "        zero_padding = tf.zeros([self.sampling_rate] - tf.shape(audio), dtype=tf.float32)\n",
        "        audio = tf.concat([audio, zero_padding], 0)\n",
        "        audio.set_shape([self.sampling_rate])\n",
        "        \n",
        "        return audio\n",
        "      \n",
        "    def preprocess_with_stft(self, file_path):\n",
        "        audio, label = self.read(file_path)\n",
        "        \n",
        "        stft = tf.signal.stft(audio, frame_length=self.frame_length, frame_step=self.frame_step, fft_length=self.frame_length)\n",
        "        spectrogram = tf.abs(stft)\n",
        "        \n",
        "        if self.mfcc == False:\n",
        "            spectrogram = tf.expand_dims(spectrogram, -1)\n",
        "            spectrogram = tf.image.resize(spectrogram, [55,55])\n",
        "            \n",
        "        return spectrogram, label\n",
        "    \n",
        "    \n",
        "    def preprocess_with_mfcc(self, file_path):\n",
        "        \n",
        "        spectrogram, label = self.preprocess_with_stft(file_path)\n",
        "        \n",
        "        num_spectrogram_bins = spectrogram.shape[-1]\n",
        "        linear_to_mel_weight_matrix = tf.signal.linear_to_mel_weight_matrix(self.num_mel_bins, num_spectrogram_bins,\n",
        "                                                                            self.sampling_rate, \n",
        "                                                                            self.lower_frequency, self.upper_frequency)\n",
        "        \n",
        "        mel_spectrogram = tf.tensordot(spectrogram, linear_to_mel_weight_matrix, 1)\n",
        "        log_mel_spectrogram = tf.math.log(mel_spectrogram + 1e-6)\n",
        "        mfccs = tf.signal.mfccs_from_log_mel_spectrograms(log_mel_spectrogram)[..., :self.num_coefficients]\n",
        "        mfccs = tf.expand_dims(mfccs, -1)\n",
        "          \n",
        "        return mfccs, label\n",
        "        \n",
        "    \n",
        "    def make_ds(self, filenames, train):\n",
        "        ds = tf.data.Dataset.from_tensor_slices(filenames)\n",
        "        ds = ds.map(self.preprocess, num_parallel_calls=4)\n",
        "        ds = ds.batch(32)\n",
        "        ds = ds.cache()\n",
        "        \n",
        "        if train == True:\n",
        "            ds = ds.shuffle(100, reshuffle_each_iteration=True)\n",
        "            \n",
        "        return ds"
      ],
      "execution_count": 301,
      "outputs": []
    },
    {
      "cell_type": "code",
      "metadata": {
        "id": "lo-vw8Xuzlhm"
      },
      "source": [
        "sampling_rate = 16000\n",
        "frame_length = 256\n",
        "frame_step = 128"
      ],
      "execution_count": 302,
      "outputs": []
    },
    {
      "cell_type": "code",
      "metadata": {
        "id": "qaMEvYeBzlhm"
      },
      "source": [
        "generator = SignalGenerator(LABELS, sampling_rate, frame_length, frame_step)                          # STFT\n",
        "\n",
        "train_ds = generator.make_ds(train_files, True)\n",
        "val_ds = generator.make_ds(val_files, False)\n",
        "test_ds = generator.make_ds(test_files, False)"
      ],
      "execution_count": 303,
      "outputs": []
    },
    {
      "cell_type": "code",
      "metadata": {
        "id": "kRccvJTNzlhm"
      },
      "source": [
        "def model_creation(name, alpha, mfcc=False):\n",
        "    \n",
        "    stride = [2,2]  #[2,2]\n",
        "        \n",
        "    if name == \"cnn\":\n",
        "        model = keras.Sequential([\n",
        "            keras.layers.Conv2D(filters = int(128*alpha), kernel_size=[3,3], strides=stride, use_bias=False, activation='relu'), \n",
        "            keras.layers.BatchNormalization(momentum=0.1),\n",
        "            keras.layers.Conv2D(filters = int(128*alpha), kernel_size=[3,3], strides=[1,1], use_bias=False, activation='relu'), \n",
        "            keras.layers.BatchNormalization(momentum=0.1),\n",
        "            keras.layers.Conv2D(filters = int(128*alpha), kernel_size=[3,3], strides=[1,1], use_bias=False, activation='relu'), \n",
        "            keras.layers.BatchNormalization(momentum=0.1),\n",
        "            keras.layers.GlobalAveragePooling2D(),\n",
        "            keras.layers.Dense(8)\n",
        "        ])\n",
        "    \n",
        "    return model"
      ],
      "execution_count": 304,
      "outputs": []
    },
    {
      "cell_type": "code",
      "metadata": {
        "id": "YrmL-CjFzlhn"
      },
      "source": [
        "alpha = 0.28\n",
        "mfcc = False\n",
        "number_of_clusters = 32\n",
        "    \n",
        "optimizer = tf.keras.optimizers.Adam(learning_rate = 0.02)\n",
        "loss = tf.keras.losses.SparseCategoricalCrossentropy(from_logits=True)\n",
        "metric = tf.keras.metrics.SparseCategoricalAccuracy()\n",
        "n_epochs = 30\n",
        "model_name = 'cnn'\n",
        "\n",
        "def scheduler(epoch, lr):\n",
        "    if epoch == 10 or epoch == 17:\n",
        "        return lr*0.1   \n",
        "    return lr"
      ],
      "execution_count": 305,
      "outputs": []
    },
    {
      "cell_type": "code",
      "metadata": {
        "id": "sEnc5U7Dzlhn"
      },
      "source": [
        "# Callbacks\n",
        "early_stopping = tf.keras.callbacks.EarlyStopping(monitor = 'val_loss', mode = 'min', min_delta = 0.005, patience = 5)\n",
        "\n",
        "checkpoint = tf.keras.callbacks.ModelCheckpoint( './solutions Group16/small_model_stft', \n",
        "                                                 save_best_only = True,\n",
        "                                                 save_weights_only = True,\n",
        "                                                 monitor = 'val_loss',\n",
        "                                                 mode = 'min')\n",
        "\n",
        "schedule_callback = tf.keras.callbacks.LearningRateScheduler(schedule = scheduler)"
      ],
      "execution_count": 306,
      "outputs": []
    },
    {
      "cell_type": "code",
      "metadata": {
        "id": "Km8OvR9mzlhn",
        "colab": {
          "base_uri": "https://localhost:8080/"
        },
        "outputId": "b6f43027-ffc9-404e-8bdc-54a3f262fbbe"
      },
      "source": [
        "cnn = model_creation(model_name, alpha, mfcc = mfcc)\n",
        "\n",
        "cnn.compile(optimizer = optimizer,\n",
        "            loss = loss,              \n",
        "            metrics = metric)\n",
        "\n",
        "cnn.fit(train_ds, epochs = n_epochs, validation_data=val_ds, callbacks = [schedule_callback, checkpoint])"
      ],
      "execution_count": 307,
      "outputs": [
        {
          "output_type": "stream",
          "text": [
            "Epoch 1/30\n",
            "200/200 [==============================] - 14s 40ms/step - loss: 1.8795 - sparse_categorical_accuracy: 0.2759 - val_loss: 1.3459 - val_sparse_categorical_accuracy: 0.5263\n",
            "Epoch 2/30\n",
            "200/200 [==============================] - 1s 4ms/step - loss: 1.0994 - sparse_categorical_accuracy: 0.6310 - val_loss: 0.7700 - val_sparse_categorical_accuracy: 0.7262\n",
            "Epoch 3/30\n",
            "200/200 [==============================] - 1s 4ms/step - loss: 0.6699 - sparse_categorical_accuracy: 0.7711 - val_loss: 0.5862 - val_sparse_categorical_accuracy: 0.8188\n",
            "Epoch 4/30\n",
            "200/200 [==============================] - 1s 4ms/step - loss: 0.5344 - sparse_categorical_accuracy: 0.8189 - val_loss: 0.4735 - val_sparse_categorical_accuracy: 0.8425\n",
            "Epoch 5/30\n",
            "200/200 [==============================] - 1s 4ms/step - loss: 0.4750 - sparse_categorical_accuracy: 0.8421 - val_loss: 0.9329 - val_sparse_categorical_accuracy: 0.7300\n",
            "Epoch 6/30\n",
            "200/200 [==============================] - 1s 4ms/step - loss: 0.3894 - sparse_categorical_accuracy: 0.8805 - val_loss: 0.4375 - val_sparse_categorical_accuracy: 0.8600\n",
            "Epoch 7/30\n",
            "200/200 [==============================] - 1s 4ms/step - loss: 0.3356 - sparse_categorical_accuracy: 0.8928 - val_loss: 0.4710 - val_sparse_categorical_accuracy: 0.8263\n",
            "Epoch 8/30\n",
            "200/200 [==============================] - 1s 4ms/step - loss: 0.3387 - sparse_categorical_accuracy: 0.8912 - val_loss: 0.5832 - val_sparse_categorical_accuracy: 0.8000\n",
            "Epoch 9/30\n",
            "200/200 [==============================] - 1s 4ms/step - loss: 0.3100 - sparse_categorical_accuracy: 0.8929 - val_loss: 0.3518 - val_sparse_categorical_accuracy: 0.8813\n",
            "Epoch 10/30\n",
            "200/200 [==============================] - 1s 4ms/step - loss: 0.2793 - sparse_categorical_accuracy: 0.9078 - val_loss: 0.3674 - val_sparse_categorical_accuracy: 0.8900\n",
            "Epoch 11/30\n",
            "200/200 [==============================] - 1s 4ms/step - loss: 0.2061 - sparse_categorical_accuracy: 0.9378 - val_loss: 0.3229 - val_sparse_categorical_accuracy: 0.8950\n",
            "Epoch 12/30\n",
            "200/200 [==============================] - 1s 4ms/step - loss: 0.1597 - sparse_categorical_accuracy: 0.9520 - val_loss: 0.3189 - val_sparse_categorical_accuracy: 0.8963\n",
            "Epoch 13/30\n",
            "200/200 [==============================] - 1s 4ms/step - loss: 0.1564 - sparse_categorical_accuracy: 0.9544 - val_loss: 0.3050 - val_sparse_categorical_accuracy: 0.8963\n",
            "Epoch 14/30\n",
            "200/200 [==============================] - 1s 4ms/step - loss: 0.1533 - sparse_categorical_accuracy: 0.9545 - val_loss: 0.3341 - val_sparse_categorical_accuracy: 0.8913\n",
            "Epoch 15/30\n",
            "200/200 [==============================] - 1s 4ms/step - loss: 0.1495 - sparse_categorical_accuracy: 0.9585 - val_loss: 0.2922 - val_sparse_categorical_accuracy: 0.9087\n",
            "Epoch 16/30\n",
            "200/200 [==============================] - 1s 4ms/step - loss: 0.1287 - sparse_categorical_accuracy: 0.9617 - val_loss: 0.2768 - val_sparse_categorical_accuracy: 0.9212\n",
            "Epoch 17/30\n",
            "200/200 [==============================] - 1s 4ms/step - loss: 0.1289 - sparse_categorical_accuracy: 0.9629 - val_loss: 0.2767 - val_sparse_categorical_accuracy: 0.9125\n",
            "Epoch 18/30\n",
            "200/200 [==============================] - 1s 4ms/step - loss: 0.1229 - sparse_categorical_accuracy: 0.9650 - val_loss: 0.2882 - val_sparse_categorical_accuracy: 0.9013\n",
            "Epoch 19/30\n",
            "200/200 [==============================] - 1s 4ms/step - loss: 0.1232 - sparse_categorical_accuracy: 0.9640 - val_loss: 0.3069 - val_sparse_categorical_accuracy: 0.9087\n",
            "Epoch 20/30\n",
            "200/200 [==============================] - 1s 4ms/step - loss: 0.1236 - sparse_categorical_accuracy: 0.9667 - val_loss: 0.2975 - val_sparse_categorical_accuracy: 0.9025\n",
            "Epoch 21/30\n",
            "200/200 [==============================] - 1s 4ms/step - loss: 0.1203 - sparse_categorical_accuracy: 0.9657 - val_loss: 0.2984 - val_sparse_categorical_accuracy: 0.9087\n",
            "Epoch 22/30\n",
            "200/200 [==============================] - 1s 4ms/step - loss: 0.1175 - sparse_categorical_accuracy: 0.9676 - val_loss: 0.2847 - val_sparse_categorical_accuracy: 0.9137\n",
            "Epoch 23/30\n",
            "200/200 [==============================] - 1s 4ms/step - loss: 0.1285 - sparse_categorical_accuracy: 0.9602 - val_loss: 0.2757 - val_sparse_categorical_accuracy: 0.9125\n",
            "Epoch 24/30\n",
            "200/200 [==============================] - 1s 4ms/step - loss: 0.1126 - sparse_categorical_accuracy: 0.9674 - val_loss: 0.2865 - val_sparse_categorical_accuracy: 0.9100\n",
            "Epoch 25/30\n",
            "200/200 [==============================] - 1s 4ms/step - loss: 0.1215 - sparse_categorical_accuracy: 0.9649 - val_loss: 0.2642 - val_sparse_categorical_accuracy: 0.9137\n",
            "Epoch 26/30\n",
            "200/200 [==============================] - 1s 4ms/step - loss: 0.1171 - sparse_categorical_accuracy: 0.9672 - val_loss: 0.2938 - val_sparse_categorical_accuracy: 0.9038\n",
            "Epoch 27/30\n",
            "200/200 [==============================] - 1s 4ms/step - loss: 0.1210 - sparse_categorical_accuracy: 0.9655 - val_loss: 0.2714 - val_sparse_categorical_accuracy: 0.9175\n",
            "Epoch 28/30\n",
            "200/200 [==============================] - 1s 4ms/step - loss: 0.1142 - sparse_categorical_accuracy: 0.9682 - val_loss: 0.3116 - val_sparse_categorical_accuracy: 0.9025\n",
            "Epoch 29/30\n",
            "200/200 [==============================] - 1s 4ms/step - loss: 0.1114 - sparse_categorical_accuracy: 0.9696 - val_loss: 0.3135 - val_sparse_categorical_accuracy: 0.8850\n",
            "Epoch 30/30\n",
            "200/200 [==============================] - 1s 4ms/step - loss: 0.1126 - sparse_categorical_accuracy: 0.9683 - val_loss: 0.2702 - val_sparse_categorical_accuracy: 0.9250\n"
          ],
          "name": "stdout"
        },
        {
          "output_type": "execute_result",
          "data": {
            "text/plain": [
              "<tensorflow.python.keras.callbacks.History at 0x7f4899fa12e8>"
            ]
          },
          "metadata": {
            "tags": []
          },
          "execution_count": 307
        }
      ]
    },
    {
      "cell_type": "code",
      "metadata": {
        "id": "nJosedkSzlho",
        "colab": {
          "base_uri": "https://localhost:8080/"
        },
        "outputId": "f301a9ea-9d37-4cdf-df36-88831dbb5fc4"
      },
      "source": [
        "cnn.load_weights('./solutions Group16/small_model_stft')\n",
        "test_loss, test_accuracy = cnn.evaluate(test_ds, verbose=2)\n",
        "test_accuracy"
      ],
      "execution_count": 308,
      "outputs": [
        {
          "output_type": "stream",
          "text": [
            "25/25 - 1s - loss: 0.2847 - sparse_categorical_accuracy: 0.9125\n"
          ],
          "name": "stdout"
        },
        {
          "output_type": "execute_result",
          "data": {
            "text/plain": [
              "0.9125000238418579"
            ]
          },
          "metadata": {
            "tags": []
          },
          "execution_count": 308
        }
      ]
    },
    {
      "cell_type": "code",
      "metadata": {
        "id": "iu2qnIifzlho",
        "colab": {
          "base_uri": "https://localhost:8080/"
        },
        "outputId": "3cf3c4b4-0186-4b91-eb19-441447710350"
      },
      "source": [
        "# Weights clustering\n",
        "cnn_clustered = tfmot.clustering.keras.cluster_weights(cnn, \n",
        "                                            number_of_clusters = number_of_clusters,\n",
        "                                            cluster_centroids_init = tfmot.clustering.keras.CentroidInitialization.LINEAR)\n",
        "\n",
        "cnn_clustered.compile(optimizer = optimizer,\n",
        "            loss = loss,              \n",
        "            metrics = metric)\n",
        "\n",
        "cnn_clustered.fit(train_ds, epochs = n_epochs, validation_data=val_ds, callbacks = [checkpoint, schedule_callback, early_stopping])"
      ],
      "execution_count": 309,
      "outputs": [
        {
          "output_type": "stream",
          "text": [
            "Epoch 1/30\n",
            "200/200 [==============================] - 2s 7ms/step - loss: 0.2180 - sparse_categorical_accuracy: 0.9326 - val_loss: 0.2533 - val_sparse_categorical_accuracy: 0.9050\n",
            "Epoch 2/30\n",
            "200/200 [==============================] - 1s 6ms/step - loss: 0.1550 - sparse_categorical_accuracy: 0.9490 - val_loss: 0.2469 - val_sparse_categorical_accuracy: 0.9150\n",
            "Epoch 3/30\n",
            "200/200 [==============================] - 1s 6ms/step - loss: 0.1562 - sparse_categorical_accuracy: 0.9464 - val_loss: 0.2431 - val_sparse_categorical_accuracy: 0.9162\n",
            "Epoch 4/30\n",
            "200/200 [==============================] - 1s 6ms/step - loss: 0.1384 - sparse_categorical_accuracy: 0.9548 - val_loss: 0.2443 - val_sparse_categorical_accuracy: 0.9150\n",
            "Epoch 5/30\n",
            "200/200 [==============================] - 1s 6ms/step - loss: 0.1351 - sparse_categorical_accuracy: 0.9547 - val_loss: 0.2422 - val_sparse_categorical_accuracy: 0.9162\n",
            "Epoch 6/30\n",
            "200/200 [==============================] - 1s 6ms/step - loss: 0.1390 - sparse_categorical_accuracy: 0.9528 - val_loss: 0.2411 - val_sparse_categorical_accuracy: 0.9162\n",
            "Epoch 7/30\n",
            "200/200 [==============================] - 1s 6ms/step - loss: 0.1413 - sparse_categorical_accuracy: 0.9537 - val_loss: 0.2398 - val_sparse_categorical_accuracy: 0.9175\n",
            "Epoch 8/30\n",
            "200/200 [==============================] - 1s 6ms/step - loss: 0.1381 - sparse_categorical_accuracy: 0.9536 - val_loss: 0.2415 - val_sparse_categorical_accuracy: 0.9150\n",
            "Epoch 9/30\n",
            "200/200 [==============================] - 1s 6ms/step - loss: 0.1291 - sparse_categorical_accuracy: 0.9594 - val_loss: 0.2407 - val_sparse_categorical_accuracy: 0.9187\n",
            "Epoch 10/30\n",
            "200/200 [==============================] - 1s 6ms/step - loss: 0.1296 - sparse_categorical_accuracy: 0.9563 - val_loss: 0.2396 - val_sparse_categorical_accuracy: 0.9187\n",
            "Epoch 11/30\n",
            "200/200 [==============================] - 1s 6ms/step - loss: 0.1321 - sparse_categorical_accuracy: 0.9565 - val_loss: 0.2397 - val_sparse_categorical_accuracy: 0.9187\n"
          ],
          "name": "stdout"
        },
        {
          "output_type": "execute_result",
          "data": {
            "text/plain": [
              "<tensorflow.python.keras.callbacks.History at 0x7f48d82cb198>"
            ]
          },
          "metadata": {
            "tags": []
          },
          "execution_count": 309
        }
      ]
    },
    {
      "cell_type": "code",
      "metadata": {
        "id": "KURmclt2zlhp",
        "colab": {
          "base_uri": "https://localhost:8080/"
        },
        "outputId": "4d88e1c8-d4aa-40b1-f6d3-bdd4de5b1f45"
      },
      "source": [
        "cnn_clustered.load_weights('./solutions Group16/small_model_stft')\n",
        "test_loss, test_accuracy = cnn_clustered.evaluate(test_ds, verbose=2)\n",
        "test_accuracy"
      ],
      "execution_count": 310,
      "outputs": [
        {
          "output_type": "stream",
          "text": [
            "25/25 - 0s - loss: 0.2648 - sparse_categorical_accuracy: 0.9175\n"
          ],
          "name": "stdout"
        },
        {
          "output_type": "execute_result",
          "data": {
            "text/plain": [
              "0.9175000190734863"
            ]
          },
          "metadata": {
            "tags": []
          },
          "execution_count": 310
        }
      ]
    },
    {
      "cell_type": "code",
      "metadata": {
        "id": "43hN7YXNzlhp",
        "colab": {
          "base_uri": "https://localhost:8080/"
        },
        "outputId": "a3d72bca-cab2-4d99-c14f-1044f425d067"
      },
      "source": [
        "# Save the clustered model\n",
        "cnn_clustered = tfmot.clustering.keras.strip_clustering(cnn_clustered)\n",
        "cnn_clustered.save('./solutions Group16/small_model_stft')"
      ],
      "execution_count": 311,
      "outputs": [
        {
          "output_type": "stream",
          "text": [
            "INFO:tensorflow:Assets written to: ./solutions Group16/small_model_stft/assets\n"
          ],
          "name": "stdout"
        }
      ]
    },
    {
      "cell_type": "code",
      "metadata": {
        "id": "0Hv9RvD_zlhp"
      },
      "source": [
        "# Save the tflite\n",
        "converter = tf.lite.TFLiteConverter.from_saved_model('./solutions Group16/small_model_stft')\n",
        "    \n",
        "tflite_model = converter.convert()\n",
        "\n",
        "with open('small_model_stft.tflite.zlib', 'wb') as fp:\n",
        "    fp.write(tflite_model)"
      ],
      "execution_count": 312,
      "outputs": []
    },
    {
      "cell_type": "code",
      "metadata": {
        "id": "j90jwn1jzlhp"
      },
      "source": [
        "tflite_model = converter.convert()\n",
        "\n",
        "with open('small_model_stft.tflite.zlib', 'wb') as fp:\n",
        "    tflite_compressed = zlib.compress(tflite_model)\n",
        "    fp.write(tflite_compressed)"
      ],
      "execution_count": 313,
      "outputs": []
    },
    {
      "cell_type": "code",
      "metadata": {
        "id": "2KWADwwSzlhq"
      },
      "source": [
        "# Delete the directory with keras models and checkpoints\n",
        "#shutil.rmtree('solutions Group16', ignore_errors=True)"
      ],
      "execution_count": 314,
      "outputs": []
    },
    {
      "cell_type": "code",
      "metadata": {
        "id": "Hq8jy6Zjzlhq"
      },
      "source": [
        "# Test the model\n",
        "test_ds_tflite = test_ds.unbatch().batch(1)\n",
        "\n",
        "def acc_inference(interpreter):\n",
        "    \n",
        "    interpreter.allocate_tensors()\n",
        "    input_details = interpreter.get_input_details() \n",
        "    output_details = interpreter.get_output_details()\n",
        "    \n",
        "    acc = tf.keras.metrics.SparseCategoricalAccuracy()\n",
        "    \n",
        "    for (x,y) in test_ds_tflite:\n",
        "        interpreter.set_tensor(input_details[0][\"index\"], x)\n",
        "        interpreter.invoke()\n",
        "        y_pred = interpreter.get_tensor(output_details[0][\"index\"])\n",
        "        \n",
        "        y_true = y\n",
        "        acc.update_state(y_true, y_pred)\n",
        "    \n",
        "    return acc.result().numpy()"
      ],
      "execution_count": 315,
      "outputs": []
    },
    {
      "cell_type": "code",
      "metadata": {
        "id": "Xetn1bXFzlhq",
        "colab": {
          "base_uri": "https://localhost:8080/"
        },
        "outputId": "7da79564-7e36-4d2c-9043-1ab8ce8d2e9a"
      },
      "source": [
        "with open('small_model_stft.tflite.zlib', 'rb') as fp:\n",
        "    model_zip = zlib.decompress(fp.read())\n",
        "    interpreter = tf.lite.Interpreter(model_content=model_zip)\n",
        "    tflite_acc = acc_inference(interpreter)\n",
        "tflite_acc, os.path.getsize('small_model_stft.tflite.zlib')"
      ],
      "execution_count": 316,
      "outputs": [
        {
          "output_type": "execute_result",
          "data": {
            "text/plain": [
              "(0.9175, 19264)"
            ]
          },
          "metadata": {
            "tags": []
          },
          "execution_count": 316
        }
      ]
    }
  ]
}