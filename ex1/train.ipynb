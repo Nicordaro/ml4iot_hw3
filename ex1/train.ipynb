{
  "nbformat": 4,
  "nbformat_minor": 0,
  "metadata": {
    "kernelspec": {
      "display_name": "Python 3",
      "language": "python",
      "name": "python3"
    },
    "language_info": {
      "codemirror_mode": {
        "name": "ipython",
        "version": 3
      },
      "file_extension": ".py",
      "mimetype": "text/x-python",
      "name": "python",
      "nbconvert_exporter": "python",
      "pygments_lexer": "ipython3",
      "version": "3.7.3"
    },
    "colab": {
      "name": "small_model_stft.ipynb",
      "provenance": [],
      "include_colab_link": true
    },
    "accelerator": "GPU"
  },
  "cells": [
    {
      "cell_type": "markdown",
      "metadata": {
        "id": "view-in-github",
        "colab_type": "text"
      },
      "source": [
        "<a href=\"https://colab.research.google.com/github/Nicordaro/ml4iot_hw3/blob/main/ex1/train.ipynb\" target=\"_parent\"><img src=\"https://colab.research.google.com/assets/colab-badge.svg\" alt=\"Open In Colab\"/></a>"
      ]
    },
    {
      "cell_type": "code",
      "metadata": {
        "id": "c7rxgp7Qzlhj"
      },
      "source": [
        "import argparse\n",
        "import os\n",
        "import numpy as np\n",
        "import tensorflow as tf\n",
        "from tensorflow import keras\n",
        "import tensorflow_model_optimization as tfmot\n",
        "import zlib\n",
        "import shutil\n",
        "\n",
        "parser = argparse.ArgumentParser()\n",
        "parser.add_argument('--version', type=str, required=False,\n",
        "                    help='model version: big or little')\n",
        "args = parser.parse_args()\n",
        "version = args.version\n",
        "\n",
        "seed = 42\n",
        "tf.random.set_seed(seed)\n",
        "np.random.seed(seed)\n",
        "\n",
        "zip_path = tf.keras.utils.get_file(\n",
        "                origin = 'http://storage.googleapis.com/download.tensorflow.org/data/mini_speech_commands.zip',\n",
        "                fname = 'mini_speech_commands.zip',\n",
        "                extract = True,\n",
        "                cache_dir = '.',\n",
        "                cache_subdir = 'data')\n",
        "\n",
        "data_dir = os.path.join('.','data', 'mini_speech_commands')\n",
        "\n",
        "def filenames(path) :\n",
        "    with open(path, \"rb\") as fp:\n",
        "        arr = np.array(fp.read().splitlines())\n",
        "    return arr\n",
        "    \n",
        "train_files = filenames(\"/kws_train_split.txt\")\n",
        "val_files = filenames(\"/kws_val_split.txt\")\n",
        "test_files = filenames(\"/kws_test_split.txt\")\n",
        "\n",
        "LABELS = np.array(['down', 'stop', 'right', 'left', 'up', 'yes', 'no', 'go'])"
      ],
      "execution_count": 22,
      "outputs": []
    },
    {
      "cell_type": "code",
      "metadata": {
        "id": "pK4GjgFezlhl"
      },
      "source": [
        "class SignalGenerator:\n",
        "    def __init__(self, labels, sampling_rate, frame_length, frame_step, num_mel_bins=None, lower_frequency=None,\n",
        "                upper_frequency=None, num_coefficients=None, mfcc=False):\n",
        "        \n",
        "        self.labels = labels\n",
        "        self.sampling_rate = sampling_rate \n",
        "        self.frame_length = frame_length  \n",
        "        self.frame_step = frame_step       \n",
        "        self.num_mel_bins = num_mel_bins   \n",
        "        self.lower_frequency = lower_frequency  \n",
        "        self.upper_frequency = upper_frequency  \n",
        "        self.num_coefficients = num_coefficients  \n",
        "        self.mfcc = mfcc  \n",
        "        \n",
        "        if mfcc is True:\n",
        "            self.preprocess = self.preprocess_with_mfcc\n",
        "        else :\n",
        "            self.preprocess = self.preprocess_with_stft\n",
        "            \n",
        "            \n",
        "    def read(self, file_path):\n",
        "        parts = tf.strings.split(file_path, os.path.sep)\n",
        "        label = parts[-2]  \n",
        "        label_id = tf.argmax(label == self.labels)\n",
        "        \n",
        "        audio_binary = tf.io.read_file(file_path)\n",
        "        audio,_ = tf.audio.decode_wav(audio_binary)\n",
        "        audio = tf.squeeze(audio, axis=1)  \n",
        "        audio = self.pad(audio)\n",
        "        \n",
        "        return audio, label_id\n",
        "    \n",
        "    def pad(self, audio):\n",
        "        zero_padding = tf.zeros([self.sampling_rate] - tf.shape(audio), dtype=tf.float32)\n",
        "        audio = tf.concat([audio, zero_padding], 0)\n",
        "        audio.set_shape([self.sampling_rate])\n",
        "        \n",
        "        return audio\n",
        "      \n",
        "    def preprocess_with_stft(self, file_path):\n",
        "        audio, label = self.read(file_path)\n",
        "        \n",
        "        stft = tf.signal.stft(audio, frame_length=self.frame_length, frame_step=self.frame_step, fft_length=self.frame_length)\n",
        "        spectrogram = tf.abs(stft)\n",
        "        \n",
        "        if self.mfcc == False:\n",
        "            spectrogram = tf.expand_dims(spectrogram, -1)\n",
        "            spectrogram = tf.image.resize(spectrogram, [55,55])\n",
        "            \n",
        "        return spectrogram, label\n",
        "    \n",
        "    \n",
        "    def preprocess_with_mfcc(self, file_path):\n",
        "        \n",
        "        spectrogram, label = self.preprocess_with_stft(file_path)\n",
        "        \n",
        "        num_spectrogram_bins = spectrogram.shape[-1]\n",
        "        linear_to_mel_weight_matrix = tf.signal.linear_to_mel_weight_matrix(self.num_mel_bins, num_spectrogram_bins,\n",
        "                                                                            self.sampling_rate, \n",
        "                                                                            self.lower_frequency, self.upper_frequency)\n",
        "        \n",
        "        mel_spectrogram = tf.tensordot(spectrogram, linear_to_mel_weight_matrix, 1)\n",
        "        log_mel_spectrogram = tf.math.log(mel_spectrogram + 1e-6)\n",
        "        mfccs = tf.signal.mfccs_from_log_mel_spectrograms(log_mel_spectrogram)[..., :self.num_coefficients]\n",
        "        mfccs = tf.expand_dims(mfccs, -1)\n",
        "          \n",
        "        return mfccs, label\n",
        "        \n",
        "    \n",
        "    def make_ds(self, filenames, train):\n",
        "        ds = tf.data.Dataset.from_tensor_slices(filenames)\n",
        "        ds = ds.map(self.preprocess, num_parallel_calls=4)\n",
        "        ds = ds.batch(32)\n",
        "        ds = ds.cache()\n",
        "        \n",
        "        if train == True:\n",
        "            ds = ds.shuffle(100, reshuffle_each_iteration=True)\n",
        "            \n",
        "        return ds"
      ],
      "execution_count": 23,
      "outputs": []
    },
    {
      "cell_type": "code",
      "metadata": {
        "id": "lo-vw8Xuzlhm"
      },
      "source": [
        "if version == 'big':\n",
        "  # Big model parameters\n",
        "  sampling_rate = 16000\n",
        "  frame_length = 640\n",
        "  frame_step = 320\n",
        "  num_mel_bins = 40\n",
        "  lower_frequency = 20\n",
        "  upper_frequency = 4000\n",
        "  num_mfccs = 12\n",
        "else:\n",
        "  sampling_rate = 16000\n",
        "  frame_length = 256\n",
        "  frame_step = 128"
      ],
      "execution_count": 24,
      "outputs": []
    },
    {
      "cell_type": "code",
      "metadata": {
        "id": "qaMEvYeBzlhm"
      },
      "source": [
        "if version == 'big':\n",
        "  # MFCC\n",
        "  generator = SignalGenerator(LABELS, sampling_rate, frame_length, frame_step, num_mel_bins, \n",
        "                                  lower_frequency, upper_frequency, num_mfccs, mfcc=True) \n",
        "else:\n",
        "  # STFT\n",
        "  generator = SignalGenerator(LABELS, sampling_rate, frame_length, frame_step)                       \n",
        "\n",
        "train_ds = generator.make_ds(train_files, True)\n",
        "val_ds = generator.make_ds(val_files, False)\n",
        "test_ds = generator.make_ds(test_files, False)"
      ],
      "execution_count": 25,
      "outputs": []
    },
    {
      "cell_type": "code",
      "metadata": {
        "id": "kRccvJTNzlhm"
      },
      "source": [
        "def model_creation(name, alpha):\n",
        "\n",
        "    if name == \"big\":\n",
        "        model = keras.Sequential([\n",
        "            keras.layers.Conv2D(filters = int(128*alpha), kernel_size=[3,3], strides=[1,1], use_bias=False, activation='relu'), \n",
        "            keras.layers.BatchNormalization(momentum=0.1),\n",
        "            keras.layers.Conv2D(filters = int(128*alpha), kernel_size=[3,3], strides=[1,1], use_bias=False, activation='relu'), \n",
        "            keras.layers.BatchNormalization(momentum=0.1),\n",
        "            keras.layers.Conv2D(filters = int(128*alpha), kernel_size=[3,3], strides=[1,1], use_bias=False, activation='relu'), \n",
        "            keras.layers.BatchNormalization(momentum=0.1),\n",
        "            keras.layers.Conv2D(filters = int(128*alpha), kernel_size=[3,3], strides=[1,1], use_bias=False, activation='relu'), \n",
        "            keras.layers.BatchNormalization(momentum=0.1),\n",
        "            keras.layers.GlobalAveragePooling2D(),\n",
        "            keras.layers.Dense(8)\n",
        "        ])\n",
        "\n",
        "      \n",
        "    if name == \"little\":\n",
        "        model = keras.Sequential([\n",
        "            keras.layers.Conv2D(filters = int(128*alpha), kernel_size=[3,3], strides=[2,2], use_bias=False, activation='relu'), \n",
        "            keras.layers.BatchNormalization(momentum=0.1),\n",
        "            keras.layers.Conv2D(filters = int(128*alpha), kernel_size=[3,3], strides=[1,1], use_bias=False, activation='relu'), \n",
        "            keras.layers.BatchNormalization(momentum=0.1),\n",
        "            keras.layers.Conv2D(filters = int(128*alpha), kernel_size=[3,3], strides=[1,1], use_bias=False, activation='relu'), \n",
        "            keras.layers.BatchNormalization(momentum=0.1),\n",
        "            keras.layers.GlobalAveragePooling2D(),\n",
        "            keras.layers.Dense(8)\n",
        "        ])\n",
        "    \n",
        "    return model"
      ],
      "execution_count": 26,
      "outputs": []
    },
    {
      "cell_type": "code",
      "metadata": {
        "id": "YrmL-CjFzlhn"
      },
      "source": [
        "if version == 'big':\n",
        "  alpha = 1\n",
        "  mfcc = True\n",
        "  n_epochs = 20\n",
        "  model_name = 'big'\n",
        "\n",
        "  def scheduler(epoch, lr):\n",
        "    if epoch == 10 or epoch == 14:\n",
        "        return lr*0.1   \n",
        "    return lr\n",
        "else:\n",
        "  alpha = 0.28\n",
        "  mfcc = False\n",
        "  number_of_clusters = 32\n",
        "  n_epochs = 30\n",
        "  model_name = 'little'\n",
        "\n",
        "  def scheduler(epoch, lr):\n",
        "    if epoch == 10 or epoch == 17:\n",
        "        return lr*0.1   \n",
        "    return lr\n",
        "    \n",
        "optimizer = tf.keras.optimizers.Adam(learning_rate = 0.02)\n",
        "loss = tf.keras.losses.SparseCategoricalCrossentropy(from_logits=True)\n",
        "metric = tf.keras.metrics.SparseCategoricalAccuracy()"
      ],
      "execution_count": 27,
      "outputs": []
    },
    {
      "cell_type": "code",
      "metadata": {
        "id": "sEnc5U7Dzlhn"
      },
      "source": [
        "# Callbacks\n",
        "early_stopping = tf.keras.callbacks.EarlyStopping(monitor = 'val_loss', mode = 'min', min_delta = 0.005, patience = 5)\n",
        "\n",
        "checkpoint = tf.keras.callbacks.ModelCheckpoint( './solutions Group16/'+version, \n",
        "                                                 save_best_only = True,\n",
        "                                                 save_weights_only = True,\n",
        "                                                 monitor = 'val_loss',\n",
        "                                                 mode = 'min')\n",
        "\n",
        "schedule_callback = tf.keras.callbacks.LearningRateScheduler(schedule = scheduler)"
      ],
      "execution_count": 28,
      "outputs": []
    },
    {
      "cell_type": "code",
      "metadata": {
        "id": "Km8OvR9mzlhn",
        "colab": {
          "base_uri": "https://localhost:8080/"
        },
        "outputId": "a8a4d145-5ab2-42f3-ca9f-939ebca71e52"
      },
      "source": [
        "cnn = model_creation(model_name, alpha)\n",
        "\n",
        "cnn.compile(optimizer = optimizer,\n",
        "            loss = loss,              \n",
        "            metrics = metric)\n",
        "\n",
        "cnn.fit(train_ds, epochs = n_epochs, validation_data=val_ds, callbacks = [schedule_callback, checkpoint])"
      ],
      "execution_count": 29,
      "outputs": [
        {
          "output_type": "stream",
          "text": [
            "Epoch 1/30\n",
            "200/200 [==============================] - 14s 38ms/step - loss: 1.8614 - sparse_categorical_accuracy: 0.2807 - val_loss: 1.1910 - val_sparse_categorical_accuracy: 0.5625\n",
            "Epoch 2/30\n",
            "200/200 [==============================] - 1s 4ms/step - loss: 1.1354 - sparse_categorical_accuracy: 0.6040 - val_loss: 0.7014 - val_sparse_categorical_accuracy: 0.7713\n",
            "Epoch 3/30\n",
            "200/200 [==============================] - 1s 4ms/step - loss: 0.6550 - sparse_categorical_accuracy: 0.7796 - val_loss: 0.4957 - val_sparse_categorical_accuracy: 0.8388\n",
            "Epoch 4/30\n",
            "200/200 [==============================] - 1s 4ms/step - loss: 0.5160 - sparse_categorical_accuracy: 0.8312 - val_loss: 0.4526 - val_sparse_categorical_accuracy: 0.8450\n",
            "Epoch 5/30\n",
            "200/200 [==============================] - 1s 4ms/step - loss: 0.4596 - sparse_categorical_accuracy: 0.8467 - val_loss: 0.5263 - val_sparse_categorical_accuracy: 0.8175\n",
            "Epoch 6/30\n",
            "200/200 [==============================] - 1s 4ms/step - loss: 0.3847 - sparse_categorical_accuracy: 0.8729 - val_loss: 0.4349 - val_sparse_categorical_accuracy: 0.8562\n",
            "Epoch 7/30\n",
            "200/200 [==============================] - 1s 4ms/step - loss: 0.3340 - sparse_categorical_accuracy: 0.8845 - val_loss: 0.4040 - val_sparse_categorical_accuracy: 0.8512\n",
            "Epoch 8/30\n",
            "200/200 [==============================] - 1s 4ms/step - loss: 0.3350 - sparse_categorical_accuracy: 0.8922 - val_loss: 0.4510 - val_sparse_categorical_accuracy: 0.8487\n",
            "Epoch 9/30\n",
            "200/200 [==============================] - 1s 4ms/step - loss: 0.3238 - sparse_categorical_accuracy: 0.8910 - val_loss: 0.3500 - val_sparse_categorical_accuracy: 0.8825\n",
            "Epoch 10/30\n",
            "200/200 [==============================] - 1s 4ms/step - loss: 0.2612 - sparse_categorical_accuracy: 0.9144 - val_loss: 0.3972 - val_sparse_categorical_accuracy: 0.8763\n",
            "Epoch 11/30\n",
            "200/200 [==============================] - 1s 4ms/step - loss: 0.1928 - sparse_categorical_accuracy: 0.9406 - val_loss: 0.3118 - val_sparse_categorical_accuracy: 0.9000\n",
            "Epoch 12/30\n",
            "200/200 [==============================] - 1s 4ms/step - loss: 0.1547 - sparse_categorical_accuracy: 0.9545 - val_loss: 0.3264 - val_sparse_categorical_accuracy: 0.8988\n",
            "Epoch 13/30\n",
            "200/200 [==============================] - 1s 4ms/step - loss: 0.1494 - sparse_categorical_accuracy: 0.9563 - val_loss: 0.2994 - val_sparse_categorical_accuracy: 0.9075\n",
            "Epoch 14/30\n",
            "200/200 [==============================] - 1s 4ms/step - loss: 0.1473 - sparse_categorical_accuracy: 0.9559 - val_loss: 0.3160 - val_sparse_categorical_accuracy: 0.9125\n",
            "Epoch 15/30\n",
            "200/200 [==============================] - 1s 4ms/step - loss: 0.1491 - sparse_categorical_accuracy: 0.9579 - val_loss: 0.2386 - val_sparse_categorical_accuracy: 0.9187\n",
            "Epoch 16/30\n",
            "200/200 [==============================] - 1s 4ms/step - loss: 0.1216 - sparse_categorical_accuracy: 0.9660 - val_loss: 0.2536 - val_sparse_categorical_accuracy: 0.9175\n",
            "Epoch 17/30\n",
            "200/200 [==============================] - 1s 4ms/step - loss: 0.1315 - sparse_categorical_accuracy: 0.9627 - val_loss: 0.2329 - val_sparse_categorical_accuracy: 0.9162\n",
            "Epoch 18/30\n",
            "200/200 [==============================] - 1s 4ms/step - loss: 0.1230 - sparse_categorical_accuracy: 0.9648 - val_loss: 0.2432 - val_sparse_categorical_accuracy: 0.9137\n",
            "Epoch 19/30\n",
            "200/200 [==============================] - 1s 4ms/step - loss: 0.1264 - sparse_categorical_accuracy: 0.9645 - val_loss: 0.2318 - val_sparse_categorical_accuracy: 0.9212\n",
            "Epoch 20/30\n",
            "200/200 [==============================] - 1s 4ms/step - loss: 0.1219 - sparse_categorical_accuracy: 0.9665 - val_loss: 0.2368 - val_sparse_categorical_accuracy: 0.9262\n",
            "Epoch 21/30\n",
            "200/200 [==============================] - 1s 4ms/step - loss: 0.1191 - sparse_categorical_accuracy: 0.9677 - val_loss: 0.2900 - val_sparse_categorical_accuracy: 0.9162\n",
            "Epoch 22/30\n",
            "200/200 [==============================] - 1s 4ms/step - loss: 0.1145 - sparse_categorical_accuracy: 0.9681 - val_loss: 0.2753 - val_sparse_categorical_accuracy: 0.9162\n",
            "Epoch 23/30\n",
            "200/200 [==============================] - 1s 4ms/step - loss: 0.1279 - sparse_categorical_accuracy: 0.9640 - val_loss: 0.2414 - val_sparse_categorical_accuracy: 0.9212\n",
            "Epoch 24/30\n",
            "200/200 [==============================] - 1s 4ms/step - loss: 0.1143 - sparse_categorical_accuracy: 0.9674 - val_loss: 0.2746 - val_sparse_categorical_accuracy: 0.9062\n",
            "Epoch 25/30\n",
            "200/200 [==============================] - 1s 4ms/step - loss: 0.1171 - sparse_categorical_accuracy: 0.9695 - val_loss: 0.2415 - val_sparse_categorical_accuracy: 0.9075\n",
            "Epoch 26/30\n",
            "200/200 [==============================] - 1s 4ms/step - loss: 0.1126 - sparse_categorical_accuracy: 0.9705 - val_loss: 0.2737 - val_sparse_categorical_accuracy: 0.9000\n",
            "Epoch 27/30\n",
            "200/200 [==============================] - 1s 5ms/step - loss: 0.1182 - sparse_categorical_accuracy: 0.9661 - val_loss: 0.2393 - val_sparse_categorical_accuracy: 0.9275\n",
            "Epoch 28/30\n",
            "200/200 [==============================] - 1s 4ms/step - loss: 0.1116 - sparse_categorical_accuracy: 0.9728 - val_loss: 0.2557 - val_sparse_categorical_accuracy: 0.9087\n",
            "Epoch 29/30\n",
            "200/200 [==============================] - 1s 4ms/step - loss: 0.1115 - sparse_categorical_accuracy: 0.9701 - val_loss: 0.3465 - val_sparse_categorical_accuracy: 0.8913\n",
            "Epoch 30/30\n",
            "200/200 [==============================] - 1s 4ms/step - loss: 0.1107 - sparse_categorical_accuracy: 0.9699 - val_loss: 0.2657 - val_sparse_categorical_accuracy: 0.9237\n"
          ],
          "name": "stdout"
        },
        {
          "output_type": "execute_result",
          "data": {
            "text/plain": [
              "<tensorflow.python.keras.callbacks.History at 0x7f8984af1780>"
            ]
          },
          "metadata": {
            "tags": []
          },
          "execution_count": 29
        }
      ]
    },
    {
      "cell_type": "code",
      "metadata": {
        "id": "nJosedkSzlho",
        "colab": {
          "base_uri": "https://localhost:8080/"
        },
        "outputId": "b5ccf983-c9f2-4c75-c415-3d3346077fba"
      },
      "source": [
        "cnn.load_weights('./solutions Group16/'+version)\n",
        "test_loss, test_accuracy = cnn.evaluate(test_ds, verbose=2)\n",
        "test_accuracy"
      ],
      "execution_count": 30,
      "outputs": [
        {
          "output_type": "stream",
          "text": [
            "25/25 - 1s - loss: 0.3253 - sparse_categorical_accuracy: 0.9087\n"
          ],
          "name": "stdout"
        },
        {
          "output_type": "execute_result",
          "data": {
            "text/plain": [
              "0.9087499976158142"
            ]
          },
          "metadata": {
            "tags": []
          },
          "execution_count": 30
        }
      ]
    },
    {
      "cell_type": "code",
      "metadata": {
        "id": "iu2qnIifzlho",
        "colab": {
          "base_uri": "https://localhost:8080/"
        },
        "outputId": "77a82e23-6575-4a9d-c782-15eefa58a470"
      },
      "source": [
        "if version == 'little':\n",
        "  # Weights clustering\n",
        "  cnn_clustered = tfmot.clustering.keras.cluster_weights(cnn, \n",
        "                                              number_of_clusters = number_of_clusters,\n",
        "                                              cluster_centroids_init = tfmot.clustering.keras.CentroidInitialization.LINEAR)\n",
        "\n",
        "  cnn_clustered.compile(optimizer = optimizer,\n",
        "              loss = loss,              \n",
        "              metrics = metric)\n",
        "\n",
        "  cnn_clustered.fit(train_ds, epochs = n_epochs, validation_data=val_ds, callbacks = [checkpoint, schedule_callback, early_stopping])\n",
        "\n",
        "  cnn_clustered.load_weights('./solutions Group16/little')\n",
        "  test_loss, test_accuracy = cnn_clustered.evaluate(test_ds, verbose=2)\n",
        "  print(test_accuracy)\n",
        "\n",
        "  # Save the clustered model\n",
        "  cnn_clustered = tfmot.clustering.keras.strip_clustering(cnn_clustered)\n",
        "  cnn_clustered.save('./solutions Group16/little')\n",
        "else:\n",
        "  # Save the model\n",
        "  cnn.save('./solutions Group16/big')"
      ],
      "execution_count": 31,
      "outputs": [
        {
          "output_type": "stream",
          "text": [
            "Epoch 1/30\n",
            "200/200 [==============================] - 2s 7ms/step - loss: 0.1640 - sparse_categorical_accuracy: 0.9390 - val_loss: 0.2260 - val_sparse_categorical_accuracy: 0.9250\n",
            "Epoch 2/30\n",
            "200/200 [==============================] - 1s 5ms/step - loss: 0.1417 - sparse_categorical_accuracy: 0.9529 - val_loss: 0.2215 - val_sparse_categorical_accuracy: 0.9225\n",
            "Epoch 3/30\n",
            "200/200 [==============================] - 1s 6ms/step - loss: 0.1485 - sparse_categorical_accuracy: 0.9507 - val_loss: 0.2184 - val_sparse_categorical_accuracy: 0.9262\n",
            "Epoch 4/30\n",
            "200/200 [==============================] - 1s 6ms/step - loss: 0.1316 - sparse_categorical_accuracy: 0.9557 - val_loss: 0.2169 - val_sparse_categorical_accuracy: 0.9250\n",
            "Epoch 5/30\n",
            "200/200 [==============================] - 1s 6ms/step - loss: 0.1270 - sparse_categorical_accuracy: 0.9631 - val_loss: 0.2193 - val_sparse_categorical_accuracy: 0.9287\n",
            "Epoch 6/30\n",
            "200/200 [==============================] - 1s 6ms/step - loss: 0.1339 - sparse_categorical_accuracy: 0.9537 - val_loss: 0.2174 - val_sparse_categorical_accuracy: 0.9300\n",
            "Epoch 7/30\n",
            "200/200 [==============================] - 1s 6ms/step - loss: 0.1363 - sparse_categorical_accuracy: 0.9565 - val_loss: 0.2185 - val_sparse_categorical_accuracy: 0.9250\n",
            "Epoch 8/30\n",
            "200/200 [==============================] - 1s 5ms/step - loss: 0.1339 - sparse_categorical_accuracy: 0.9549 - val_loss: 0.2191 - val_sparse_categorical_accuracy: 0.9287\n",
            "25/25 - 0s - loss: 0.3100 - sparse_categorical_accuracy: 0.9100\n",
            "0.9100000262260437\n",
            "INFO:tensorflow:Assets written to: ./solutions Group16/little/assets\n"
          ],
          "name": "stdout"
        }
      ]
    },
    {
      "cell_type": "code",
      "metadata": {
        "id": "0Hv9RvD_zlhp"
      },
      "source": [
        "# Save the tflite\n",
        "converter = tf.lite.TFLiteConverter.from_saved_model('./solutions Group16/'+version)\n",
        "    \n",
        "tflite_model = converter.convert()\n",
        "\n",
        "if version == 'big':\n",
        "  with open('big.tflite', 'wb') as fp:\n",
        "      fp.write(tflite_model)\n",
        "else:\n",
        "    with open('little.tflite.zlib', 'wb') as fp:\n",
        "      fp.write(tflite_model)"
      ],
      "execution_count": 32,
      "outputs": []
    },
    {
      "cell_type": "code",
      "metadata": {
        "id": "j90jwn1jzlhp"
      },
      "source": [
        "if version == 'little':\n",
        "  tflite_model = converter.convert()\n",
        "  with open('little.tflite.zlib', 'wb') as fp:\n",
        "      tflite_compressed = zlib.compress(tflite_model)\n",
        "      fp.write(tflite_compressed)"
      ],
      "execution_count": 33,
      "outputs": []
    },
    {
      "cell_type": "code",
      "metadata": {
        "id": "2KWADwwSzlhq"
      },
      "source": [
        "# Delete the directory with keras models and checkpoints\n",
        "shutil.rmtree('solutions Group16', ignore_errors=True)"
      ],
      "execution_count": 34,
      "outputs": []
    },
    {
      "cell_type": "code",
      "metadata": {
        "id": "Hq8jy6Zjzlhq"
      },
      "source": [
        "# Test the model\n",
        "test_ds_tflite = test_ds.unbatch().batch(1)\n",
        "\n",
        "def acc_inference(interpreter):\n",
        "    \n",
        "    interpreter.allocate_tensors()\n",
        "    input_details = interpreter.get_input_details() \n",
        "    output_details = interpreter.get_output_details()\n",
        "    \n",
        "    acc = tf.keras.metrics.SparseCategoricalAccuracy()\n",
        "    \n",
        "    for (x,y) in test_ds_tflite:\n",
        "        interpreter.set_tensor(input_details[0][\"index\"], x)\n",
        "        interpreter.invoke()\n",
        "        y_pred = interpreter.get_tensor(output_details[0][\"index\"])\n",
        "        \n",
        "        y_true = y\n",
        "        acc.update_state(y_true, y_pred)\n",
        "    \n",
        "    return acc.result().numpy()"
      ],
      "execution_count": 35,
      "outputs": []
    },
    {
      "cell_type": "code",
      "metadata": {
        "colab": {
          "base_uri": "https://localhost:8080/"
        },
        "id": "hNrMI7imR2xn",
        "outputId": "0baae118-9939-48ac-d4ae-d81f240ff9c6"
      },
      "source": [
        "if version == 'big':\r\n",
        "  interpreter = tf.lite.Interpreter(model_path='big.tflite')\r\n",
        "  size = os.path.getsize('big.tflite')\r\n",
        "else:\r\n",
        "  with open('little.tflite.zlib', 'rb') as fp:\r\n",
        "      model_zip = zlib.decompress(fp.read())\r\n",
        "      interpreter = tf.lite.Interpreter(model_content=model_zip)\r\n",
        "      size = os.path.getsize('little.tflite.zlib')\r\n",
        "  \r\n",
        "tflite_acc = acc_inference(interpreter)\r\n",
        "print(tflite_acc, size)"
      ],
      "execution_count": 36,
      "outputs": [
        {
          "output_type": "stream",
          "text": [
            "0.91 19401\n"
          ],
          "name": "stdout"
        }
      ]
    }
  ]
}