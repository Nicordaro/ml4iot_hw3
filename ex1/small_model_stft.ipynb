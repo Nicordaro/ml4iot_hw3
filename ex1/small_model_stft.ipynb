{
  "nbformat": 4,
  "nbformat_minor": 0,
  "metadata": {
    "kernelspec": {
      "display_name": "Python 3",
      "language": "python",
      "name": "python3"
    },
    "language_info": {
      "codemirror_mode": {
        "name": "ipython",
        "version": 3
      },
      "file_extension": ".py",
      "mimetype": "text/x-python",
      "name": "python",
      "nbconvert_exporter": "python",
      "pygments_lexer": "ipython3",
      "version": "3.7.3"
    },
    "colab": {
      "name": "small_model_stft.ipynb",
      "provenance": [],
      "include_colab_link": true
    },
    "accelerator": "GPU"
  },
  "cells": [
    {
      "cell_type": "markdown",
      "metadata": {
        "id": "view-in-github",
        "colab_type": "text"
      },
      "source": [
        "<a href=\"https://colab.research.google.com/github/Nicordaro/ml4iot_hw3/blob/main/small_model_stft.ipynb\" target=\"_parent\"><img src=\"https://colab.research.google.com/assets/colab-badge.svg\" alt=\"Open In Colab\"/></a>"
      ]
    },
    {
      "cell_type": "code",
      "metadata": {
        "colab": {
          "base_uri": "https://localhost:8080/"
        },
        "id": "K_Ks5w24z3Rv",
        "outputId": "f3f28593-2506-435b-dfd7-c1ef0bf76546"
      },
      "source": [
        "pip install tensorflow_model_optimization"
      ],
      "execution_count": 1,
      "outputs": [
        {
          "output_type": "stream",
          "text": [
            "Collecting tensorflow_model_optimization\n",
            "\u001b[?25l  Downloading https://files.pythonhosted.org/packages/55/38/4fd48ea1bfcb0b6e36d949025200426fe9c3a8bfae029f0973d85518fa5a/tensorflow_model_optimization-0.5.0-py2.py3-none-any.whl (172kB)\n",
            "\r\u001b[K     |██                              | 10kB 16.6MB/s eta 0:00:01\r\u001b[K     |███▉                            | 20kB 23.6MB/s eta 0:00:01\r\u001b[K     |█████▊                          | 30kB 14.6MB/s eta 0:00:01\r\u001b[K     |███████▋                        | 40kB 10.9MB/s eta 0:00:01\r\u001b[K     |█████████▌                      | 51kB 7.9MB/s eta 0:00:01\r\u001b[K     |███████████▍                    | 61kB 8.3MB/s eta 0:00:01\r\u001b[K     |█████████████▎                  | 71kB 8.1MB/s eta 0:00:01\r\u001b[K     |███████████████▏                | 81kB 8.7MB/s eta 0:00:01\r\u001b[K     |█████████████████               | 92kB 8.7MB/s eta 0:00:01\r\u001b[K     |███████████████████             | 102kB 7.7MB/s eta 0:00:01\r\u001b[K     |████████████████████▉           | 112kB 7.7MB/s eta 0:00:01\r\u001b[K     |██████████████████████▊         | 122kB 7.7MB/s eta 0:00:01\r\u001b[K     |████████████████████████▊       | 133kB 7.7MB/s eta 0:00:01\r\u001b[K     |██████████████████████████▋     | 143kB 7.7MB/s eta 0:00:01\r\u001b[K     |████████████████████████████▌   | 153kB 7.7MB/s eta 0:00:01\r\u001b[K     |██████████████████████████████▍ | 163kB 7.7MB/s eta 0:00:01\r\u001b[K     |████████████████████████████████| 174kB 7.7MB/s \n",
            "\u001b[?25hRequirement already satisfied: dm-tree~=0.1.1 in /usr/local/lib/python3.6/dist-packages (from tensorflow_model_optimization) (0.1.5)\n",
            "Requirement already satisfied: six~=1.10 in /usr/local/lib/python3.6/dist-packages (from tensorflow_model_optimization) (1.15.0)\n",
            "Requirement already satisfied: numpy~=1.14 in /usr/local/lib/python3.6/dist-packages (from tensorflow_model_optimization) (1.19.4)\n",
            "Installing collected packages: tensorflow-model-optimization\n",
            "Successfully installed tensorflow-model-optimization-0.5.0\n"
          ],
          "name": "stdout"
        }
      ]
    },
    {
      "cell_type": "code",
      "metadata": {
        "id": "dm-avjys0Pgf",
        "outputId": "1396c8da-0e1d-4875-f598-7c4af59f0882",
        "colab": {
          "base_uri": "https://localhost:8080/"
        }
      },
      "source": [
        "import os\r\n",
        "# Clone github repository with data\r\n",
        "# if os.path.isdir('./Project_MLDL'):\r\n",
        "!rm -rf Project_MLDL\r\n",
        "DATA_DIR = './ml4iot_hw3'\r\n",
        "if not os.path.isdir(DATA_DIR):\r\n",
        "  !git clone https://github.com/Nicordaro/ml4iot_hw3"
      ],
      "execution_count": 2,
      "outputs": [
        {
          "output_type": "stream",
          "text": [
            "Cloning into 'ml4iot_hw3'...\n",
            "remote: Enumerating objects: 85, done.\u001b[K\n",
            "remote: Counting objects: 100% (85/85), done.\u001b[K\n",
            "remote: Compressing objects: 100% (84/84), done.\u001b[K\n",
            "remote: Total 85 (delta 51), reused 0 (delta 0), pack-reused 0\u001b[K\n",
            "Unpacking objects: 100% (85/85), done.\n"
          ],
          "name": "stdout"
        }
      ]
    },
    {
      "cell_type": "code",
      "metadata": {
        "id": "c7rxgp7Qzlhj",
        "outputId": "b0c29b94-ee5c-491e-e6e2-d9b7a730767c",
        "colab": {
          "base_uri": "https://localhost:8080/"
        }
      },
      "source": [
        "import argparse\n",
        "import os\n",
        "import numpy as np\n",
        "import tensorflow as tf\n",
        "from tensorflow import keras\n",
        "import tensorflow_model_optimization as tfmot\n",
        "import zlib\n",
        "import shutil\n",
        "\n",
        "seed = 42\n",
        "tf.random.set_seed(seed)\n",
        "np.random.seed(seed)\n",
        "\n",
        "zip_path = tf.keras.utils.get_file(\n",
        "                origin = 'http://storage.googleapis.com/download.tensorflow.org/data/mini_speech_commands.zip',\n",
        "                fname = 'mini_speech_commands.zip',\n",
        "                extract = True,\n",
        "                cache_dir = '.',\n",
        "                cache_subdir = 'data')\n",
        "\n",
        "data_dir = os.path.join('.','data', 'mini_speech_commands')\n",
        "\n",
        "def filenames(path) :\n",
        "    with open(path, \"rb\") as fp:\n",
        "        arr = np.array(fp.read().splitlines())\n",
        "    return arr\n",
        "    \n",
        "train_files = filenames(DATA_DIR+\"/kws_train_split.txt\")\n",
        "val_files = filenames(DATA_DIR+\"/kws_val_split.txt\")\n",
        "test_files = filenames(DATA_DIR+\"/kws_test_split.txt\")\n",
        "\n",
        "LABELS = np.array(['down', 'stop', 'right', 'left', 'up', 'yes', 'no', 'go'])"
      ],
      "execution_count": 3,
      "outputs": [
        {
          "output_type": "stream",
          "text": [
            "Downloading data from http://storage.googleapis.com/download.tensorflow.org/data/mini_speech_commands.zip\n",
            "182083584/182082353 [==============================] - 1s 0us/step\n"
          ],
          "name": "stdout"
        }
      ]
    },
    {
      "cell_type": "code",
      "metadata": {
        "id": "pK4GjgFezlhl"
      },
      "source": [
        "class SignalGenerator:\n",
        "    def __init__(self, labels, sampling_rate, frame_length, frame_step, num_mel_bins=None, lower_frequency=None,\n",
        "                upper_frequency=None, num_coefficients=None, mfcc=False):\n",
        "        \n",
        "        self.labels = labels\n",
        "        self.sampling_rate = sampling_rate \n",
        "        self.frame_length = frame_length  \n",
        "        self.frame_step = frame_step       \n",
        "        self.num_mel_bins = num_mel_bins   \n",
        "        self.lower_frequency = lower_frequency  \n",
        "        self.upper_frequency = upper_frequency  \n",
        "        self.num_coefficients = num_coefficients  \n",
        "        self.mfcc = mfcc  \n",
        "        \n",
        "        if mfcc is True:\n",
        "            self.preprocess = self.preprocess_with_mfcc\n",
        "        else :\n",
        "            self.preprocess = self.preprocess_with_stft\n",
        "            \n",
        "            \n",
        "    def read(self, file_path):\n",
        "        parts = tf.strings.split(file_path, os.path.sep)\n",
        "        label = parts[-2]  \n",
        "        label_id = tf.argmax(label == self.labels)\n",
        "        \n",
        "        audio_binary = tf.io.read_file(file_path)\n",
        "        audio,_ = tf.audio.decode_wav(audio_binary)\n",
        "        audio = tf.squeeze(audio, axis=1)  \n",
        "        audio = self.pad(audio)\n",
        "        \n",
        "        return audio, label_id\n",
        "    \n",
        "    def pad(self, audio):\n",
        "        zero_padding = tf.zeros([self.sampling_rate] - tf.shape(audio), dtype=tf.float32)\n",
        "        audio = tf.concat([audio, zero_padding], 0)\n",
        "        audio.set_shape([self.sampling_rate])\n",
        "        \n",
        "        return audio\n",
        "      \n",
        "    def preprocess_with_stft(self, file_path):\n",
        "        audio, label = self.read(file_path)\n",
        "        \n",
        "        stft = tf.signal.stft(audio, frame_length=self.frame_length, frame_step=self.frame_step, fft_length=self.frame_length)\n",
        "        spectrogram = tf.abs(stft)\n",
        "        \n",
        "        if self.mfcc == False:\n",
        "            spectrogram = tf.expand_dims(spectrogram, -1)\n",
        "            spectrogram = tf.image.resize(spectrogram, [55,55])\n",
        "            \n",
        "        return spectrogram, label\n",
        "    \n",
        "    \n",
        "    def preprocess_with_mfcc(self, file_path):\n",
        "        \n",
        "        spectrogram, label = self.preprocess_with_stft(file_path)\n",
        "        \n",
        "        num_spectrogram_bins = spectrogram.shape[-1]\n",
        "        linear_to_mel_weight_matrix = tf.signal.linear_to_mel_weight_matrix(self.num_mel_bins, num_spectrogram_bins,\n",
        "                                                                            self.sampling_rate, \n",
        "                                                                            self.lower_frequency, self.upper_frequency)\n",
        "        \n",
        "        mel_spectrogram = tf.tensordot(spectrogram, linear_to_mel_weight_matrix, 1)\n",
        "        log_mel_spectrogram = tf.math.log(mel_spectrogram + 1e-6)\n",
        "        mfccs = tf.signal.mfccs_from_log_mel_spectrograms(log_mel_spectrogram)[..., :self.num_coefficients]\n",
        "        mfccs = tf.expand_dims(mfccs, -1)\n",
        "          \n",
        "        return mfccs, label\n",
        "        \n",
        "    \n",
        "    def make_ds(self, filenames, train):\n",
        "        ds = tf.data.Dataset.from_tensor_slices(filenames)\n",
        "        ds = ds.map(self.preprocess, num_parallel_calls=4)\n",
        "        ds = ds.batch(32)\n",
        "        ds = ds.cache()\n",
        "        \n",
        "        if train == True:\n",
        "            ds = ds.shuffle(100, reshuffle_each_iteration=True)\n",
        "            \n",
        "        return ds"
      ],
      "execution_count": 4,
      "outputs": []
    },
    {
      "cell_type": "code",
      "metadata": {
        "id": "lo-vw8Xuzlhm"
      },
      "source": [
        "sampling_rate = 16000\n",
        "frame_length = 256\n",
        "frame_step = 128"
      ],
      "execution_count": 5,
      "outputs": []
    },
    {
      "cell_type": "code",
      "metadata": {
        "id": "qaMEvYeBzlhm"
      },
      "source": [
        "generator = SignalGenerator(LABELS, sampling_rate, frame_length, frame_step)                          # STFT\n",
        "\n",
        "train_ds = generator.make_ds(train_files, True)\n",
        "val_ds = generator.make_ds(val_files, False)\n",
        "test_ds = generator.make_ds(test_files, False)"
      ],
      "execution_count": 6,
      "outputs": []
    },
    {
      "cell_type": "code",
      "metadata": {
        "id": "kRccvJTNzlhm"
      },
      "source": [
        "def model_creation(name, alpha, mfcc=False):\n",
        "    \n",
        "    stride = [2,2]  #[2,2]\n",
        "        \n",
        "    if name == \"cnn\":\n",
        "        model = keras.Sequential([\n",
        "            keras.layers.Conv2D(filters = int(128*alpha), kernel_size=[3,3], strides=stride, use_bias=False, activation='relu'), \n",
        "            keras.layers.BatchNormalization(momentum=0.1),\n",
        "            keras.layers.Conv2D(filters = int(128*alpha), kernel_size=[3,3], strides=[1,1], use_bias=False, activation='relu'), \n",
        "            keras.layers.BatchNormalization(momentum=0.1),\n",
        "            keras.layers.Conv2D(filters = int(128*alpha), kernel_size=[3,3], strides=[1,1], use_bias=False, activation='relu'), \n",
        "            keras.layers.BatchNormalization(momentum=0.1),\n",
        "            keras.layers.GlobalAveragePooling2D(),\n",
        "            keras.layers.Dense(8)\n",
        "        ])\n",
        "    \n",
        "    return model"
      ],
      "execution_count": 7,
      "outputs": []
    },
    {
      "cell_type": "code",
      "metadata": {
        "id": "YrmL-CjFzlhn"
      },
      "source": [
        "alpha = 0.28\n",
        "mfcc = False\n",
        "number_of_clusters = 32\n",
        "    \n",
        "optimizer = tf.keras.optimizers.Adam(learning_rate = 0.02)\n",
        "loss = tf.keras.losses.SparseCategoricalCrossentropy(from_logits=True)\n",
        "metric = tf.keras.metrics.SparseCategoricalAccuracy()\n",
        "n_epochs = 30\n",
        "model_name = 'cnn'\n",
        "\n",
        "def scheduler(epoch, lr):\n",
        "    if epoch == 10 or epoch == 17:\n",
        "        return lr*0.1   \n",
        "    return lr"
      ],
      "execution_count": 8,
      "outputs": []
    },
    {
      "cell_type": "code",
      "metadata": {
        "id": "sEnc5U7Dzlhn"
      },
      "source": [
        "# Callbacks\n",
        "early_stopping = tf.keras.callbacks.EarlyStopping(monitor = 'val_loss', mode = 'min', min_delta = 0.005, patience = 5)\n",
        "\n",
        "checkpoint = tf.keras.callbacks.ModelCheckpoint( './solutions Group16/small_model_stft', \n",
        "                                                 save_best_only = True,\n",
        "                                                 save_weights_only = True,\n",
        "                                                 monitor = 'val_loss',\n",
        "                                                 mode = 'min')\n",
        "\n",
        "schedule_callback = tf.keras.callbacks.LearningRateScheduler(schedule = scheduler)"
      ],
      "execution_count": 9,
      "outputs": []
    },
    {
      "cell_type": "code",
      "metadata": {
        "id": "Km8OvR9mzlhn",
        "colab": {
          "base_uri": "https://localhost:8080/"
        },
        "outputId": "b722874d-28fc-438d-952f-1f11f1101abb"
      },
      "source": [
        "cnn = model_creation(model_name, alpha, mfcc = mfcc)\n",
        "\n",
        "cnn.compile(optimizer = optimizer,\n",
        "            loss = loss,              \n",
        "            metrics = metric)\n",
        "\n",
        "cnn.fit(train_ds, epochs = n_epochs, validation_data=val_ds, callbacks = [schedule_callback, checkpoint])"
      ],
      "execution_count": 10,
      "outputs": [
        {
          "output_type": "stream",
          "text": [
            "Epoch 1/30\n",
            "200/200 [==============================] - 19s 39ms/step - loss: 1.8703 - sparse_categorical_accuracy: 0.2758 - val_loss: 1.2694 - val_sparse_categorical_accuracy: 0.5325\n",
            "Epoch 2/30\n",
            "200/200 [==============================] - 1s 5ms/step - loss: 1.1985 - sparse_categorical_accuracy: 0.5837 - val_loss: 1.2429 - val_sparse_categorical_accuracy: 0.6075\n",
            "Epoch 3/30\n",
            "200/200 [==============================] - 1s 4ms/step - loss: 0.7392 - sparse_categorical_accuracy: 0.7340 - val_loss: 0.5919 - val_sparse_categorical_accuracy: 0.8062\n",
            "Epoch 4/30\n",
            "200/200 [==============================] - 1s 4ms/step - loss: 0.5644 - sparse_categorical_accuracy: 0.8090 - val_loss: 0.4551 - val_sparse_categorical_accuracy: 0.8512\n",
            "Epoch 5/30\n",
            "200/200 [==============================] - 1s 4ms/step - loss: 0.4745 - sparse_categorical_accuracy: 0.8454 - val_loss: 0.5581 - val_sparse_categorical_accuracy: 0.8075\n",
            "Epoch 6/30\n",
            "200/200 [==============================] - 1s 4ms/step - loss: 0.4131 - sparse_categorical_accuracy: 0.8691 - val_loss: 0.5034 - val_sparse_categorical_accuracy: 0.8200\n",
            "Epoch 7/30\n",
            "200/200 [==============================] - 1s 4ms/step - loss: 0.3506 - sparse_categorical_accuracy: 0.8832 - val_loss: 0.5096 - val_sparse_categorical_accuracy: 0.8275\n",
            "Epoch 8/30\n",
            "200/200 [==============================] - 1s 4ms/step - loss: 0.3373 - sparse_categorical_accuracy: 0.8913 - val_loss: 0.5362 - val_sparse_categorical_accuracy: 0.8375\n",
            "Epoch 9/30\n",
            "200/200 [==============================] - 1s 4ms/step - loss: 0.3898 - sparse_categorical_accuracy: 0.8737 - val_loss: 0.4268 - val_sparse_categorical_accuracy: 0.8537\n",
            "Epoch 10/30\n",
            "200/200 [==============================] - 1s 4ms/step - loss: 0.2723 - sparse_categorical_accuracy: 0.9089 - val_loss: 0.3934 - val_sparse_categorical_accuracy: 0.8813\n",
            "Epoch 11/30\n",
            "200/200 [==============================] - 1s 4ms/step - loss: 0.2173 - sparse_categorical_accuracy: 0.9312 - val_loss: 0.3518 - val_sparse_categorical_accuracy: 0.8875\n",
            "Epoch 12/30\n",
            "200/200 [==============================] - 1s 5ms/step - loss: 0.1697 - sparse_categorical_accuracy: 0.9501 - val_loss: 0.3385 - val_sparse_categorical_accuracy: 0.8913\n",
            "Epoch 13/30\n",
            "200/200 [==============================] - 1s 4ms/step - loss: 0.1612 - sparse_categorical_accuracy: 0.9550 - val_loss: 0.2903 - val_sparse_categorical_accuracy: 0.9000\n",
            "Epoch 14/30\n",
            "200/200 [==============================] - 1s 4ms/step - loss: 0.1644 - sparse_categorical_accuracy: 0.9479 - val_loss: 0.3675 - val_sparse_categorical_accuracy: 0.8850\n",
            "Epoch 15/30\n",
            "200/200 [==============================] - 1s 4ms/step - loss: 0.1589 - sparse_categorical_accuracy: 0.9544 - val_loss: 0.2946 - val_sparse_categorical_accuracy: 0.9175\n",
            "Epoch 16/30\n",
            "200/200 [==============================] - 1s 4ms/step - loss: 0.1343 - sparse_categorical_accuracy: 0.9636 - val_loss: 0.2901 - val_sparse_categorical_accuracy: 0.9087\n",
            "Epoch 17/30\n",
            "200/200 [==============================] - 1s 4ms/step - loss: 0.1380 - sparse_categorical_accuracy: 0.9596 - val_loss: 0.3061 - val_sparse_categorical_accuracy: 0.9075\n",
            "Epoch 18/30\n",
            "200/200 [==============================] - 1s 4ms/step - loss: 0.1325 - sparse_categorical_accuracy: 0.9615 - val_loss: 0.2834 - val_sparse_categorical_accuracy: 0.9075\n",
            "Epoch 19/30\n",
            "200/200 [==============================] - 1s 4ms/step - loss: 0.1323 - sparse_categorical_accuracy: 0.9614 - val_loss: 0.3100 - val_sparse_categorical_accuracy: 0.8988\n",
            "Epoch 20/30\n",
            "200/200 [==============================] - 1s 4ms/step - loss: 0.1282 - sparse_categorical_accuracy: 0.9641 - val_loss: 0.2638 - val_sparse_categorical_accuracy: 0.9187\n",
            "Epoch 21/30\n",
            "200/200 [==============================] - 1s 4ms/step - loss: 0.1276 - sparse_categorical_accuracy: 0.9632 - val_loss: 0.3122 - val_sparse_categorical_accuracy: 0.9013\n",
            "Epoch 22/30\n",
            "200/200 [==============================] - 1s 5ms/step - loss: 0.1230 - sparse_categorical_accuracy: 0.9672 - val_loss: 0.3161 - val_sparse_categorical_accuracy: 0.8950\n",
            "Epoch 23/30\n",
            "200/200 [==============================] - 1s 4ms/step - loss: 0.1351 - sparse_categorical_accuracy: 0.9626 - val_loss: 0.2791 - val_sparse_categorical_accuracy: 0.9162\n",
            "Epoch 24/30\n",
            "200/200 [==============================] - 1s 5ms/step - loss: 0.1202 - sparse_categorical_accuracy: 0.9676 - val_loss: 0.3175 - val_sparse_categorical_accuracy: 0.9137\n",
            "Epoch 25/30\n",
            "200/200 [==============================] - 1s 4ms/step - loss: 0.1277 - sparse_categorical_accuracy: 0.9651 - val_loss: 0.2744 - val_sparse_categorical_accuracy: 0.9125\n",
            "Epoch 26/30\n",
            "200/200 [==============================] - 1s 4ms/step - loss: 0.1242 - sparse_categorical_accuracy: 0.9651 - val_loss: 0.3235 - val_sparse_categorical_accuracy: 0.8863\n",
            "Epoch 27/30\n",
            "200/200 [==============================] - 1s 4ms/step - loss: 0.1261 - sparse_categorical_accuracy: 0.9651 - val_loss: 0.2687 - val_sparse_categorical_accuracy: 0.9175\n",
            "Epoch 28/30\n",
            "200/200 [==============================] - 1s 4ms/step - loss: 0.1173 - sparse_categorical_accuracy: 0.9700 - val_loss: 0.3073 - val_sparse_categorical_accuracy: 0.8975\n",
            "Epoch 29/30\n",
            "200/200 [==============================] - 1s 4ms/step - loss: 0.1164 - sparse_categorical_accuracy: 0.9694 - val_loss: 0.3351 - val_sparse_categorical_accuracy: 0.8938\n",
            "Epoch 30/30\n",
            "200/200 [==============================] - 1s 4ms/step - loss: 0.1200 - sparse_categorical_accuracy: 0.9683 - val_loss: 0.3037 - val_sparse_categorical_accuracy: 0.9087\n"
          ],
          "name": "stdout"
        },
        {
          "output_type": "execute_result",
          "data": {
            "text/plain": [
              "<tensorflow.python.keras.callbacks.History at 0x7f5533765198>"
            ]
          },
          "metadata": {
            "tags": []
          },
          "execution_count": 10
        }
      ]
    },
    {
      "cell_type": "code",
      "metadata": {
        "id": "nJosedkSzlho",
        "colab": {
          "base_uri": "https://localhost:8080/"
        },
        "outputId": "f1389a47-f78c-4aaa-d3da-78edf8bbd32c"
      },
      "source": [
        "cnn.load_weights('./solutions Group16/small_model_stft')\n",
        "test_loss, test_accuracy = cnn.evaluate(test_ds, verbose=2)\n",
        "test_accuracy"
      ],
      "execution_count": 11,
      "outputs": [
        {
          "output_type": "stream",
          "text": [
            "25/25 - 1s - loss: 0.3039 - sparse_categorical_accuracy: 0.9112\n"
          ],
          "name": "stdout"
        },
        {
          "output_type": "execute_result",
          "data": {
            "text/plain": [
              "0.9112499952316284"
            ]
          },
          "metadata": {
            "tags": []
          },
          "execution_count": 11
        }
      ]
    },
    {
      "cell_type": "code",
      "metadata": {
        "id": "iu2qnIifzlho",
        "colab": {
          "base_uri": "https://localhost:8080/"
        },
        "outputId": "cce21f40-7980-444c-9d8e-bd2822508d58"
      },
      "source": [
        "# Weights clustering\n",
        "cnn_clustered = tfmot.clustering.keras.cluster_weights(cnn, \n",
        "                                            number_of_clusters = number_of_clusters,\n",
        "                                            cluster_centroids_init = tfmot.clustering.keras.CentroidInitialization.LINEAR)\n",
        "\n",
        "cnn_clustered.compile(optimizer = optimizer,\n",
        "            loss = loss,              \n",
        "            metrics = metric)\n",
        "\n",
        "cnn_clustered.fit(train_ds, epochs = n_epochs, validation_data=val_ds, callbacks = [checkpoint, schedule_callback, early_stopping])"
      ],
      "execution_count": 12,
      "outputs": [
        {
          "output_type": "stream",
          "text": [
            "Epoch 1/30\n",
            "200/200 [==============================] - 2s 7ms/step - loss: 0.1724 - sparse_categorical_accuracy: 0.9377 - val_loss: 0.2537 - val_sparse_categorical_accuracy: 0.9262\n",
            "Epoch 2/30\n",
            "200/200 [==============================] - 1s 6ms/step - loss: 0.1472 - sparse_categorical_accuracy: 0.9535 - val_loss: 0.2433 - val_sparse_categorical_accuracy: 0.9287\n",
            "Epoch 3/30\n",
            "200/200 [==============================] - 1s 6ms/step - loss: 0.1500 - sparse_categorical_accuracy: 0.9516 - val_loss: 0.2449 - val_sparse_categorical_accuracy: 0.9337\n",
            "Epoch 4/30\n",
            "200/200 [==============================] - 1s 6ms/step - loss: 0.1380 - sparse_categorical_accuracy: 0.9542 - val_loss: 0.2437 - val_sparse_categorical_accuracy: 0.9350\n",
            "Epoch 5/30\n",
            "200/200 [==============================] - 1s 6ms/step - loss: 0.1284 - sparse_categorical_accuracy: 0.9585 - val_loss: 0.2410 - val_sparse_categorical_accuracy: 0.9300\n",
            "Epoch 6/30\n",
            "200/200 [==============================] - 1s 6ms/step - loss: 0.1377 - sparse_categorical_accuracy: 0.9543 - val_loss: 0.2390 - val_sparse_categorical_accuracy: 0.9300\n",
            "Epoch 7/30\n",
            "200/200 [==============================] - 1s 6ms/step - loss: 0.1350 - sparse_categorical_accuracy: 0.9585 - val_loss: 0.2407 - val_sparse_categorical_accuracy: 0.9300\n"
          ],
          "name": "stdout"
        },
        {
          "output_type": "execute_result",
          "data": {
            "text/plain": [
              "<tensorflow.python.keras.callbacks.History at 0x7f55203737f0>"
            ]
          },
          "metadata": {
            "tags": []
          },
          "execution_count": 12
        }
      ]
    },
    {
      "cell_type": "code",
      "metadata": {
        "id": "KURmclt2zlhp",
        "colab": {
          "base_uri": "https://localhost:8080/"
        },
        "outputId": "9d112bdd-7eb2-43cd-c3b4-a8598ff78625"
      },
      "source": [
        "cnn_clustered.load_weights('./solutions Group16/small_model_stft')\n",
        "test_loss, test_accuracy = cnn_clustered.evaluate(test_ds, verbose=2)\n",
        "test_accuracy"
      ],
      "execution_count": 13,
      "outputs": [
        {
          "output_type": "stream",
          "text": [
            "25/25 - 0s - loss: 0.2954 - sparse_categorical_accuracy: 0.9137\n"
          ],
          "name": "stdout"
        },
        {
          "output_type": "execute_result",
          "data": {
            "text/plain": [
              "0.9137499928474426"
            ]
          },
          "metadata": {
            "tags": []
          },
          "execution_count": 13
        }
      ]
    },
    {
      "cell_type": "code",
      "metadata": {
        "id": "43hN7YXNzlhp",
        "colab": {
          "base_uri": "https://localhost:8080/"
        },
        "outputId": "95a509bb-38a7-4127-8196-d22773d37f9e"
      },
      "source": [
        "# Save the clustered model\n",
        "cnn_clustered = tfmot.clustering.keras.strip_clustering(cnn_clustered)\n",
        "cnn_clustered.save('./solutions Group16/small_model_stft')"
      ],
      "execution_count": 14,
      "outputs": [
        {
          "output_type": "stream",
          "text": [
            "INFO:tensorflow:Assets written to: ./solutions Group16/small_model_stft/assets\n"
          ],
          "name": "stdout"
        }
      ]
    },
    {
      "cell_type": "code",
      "metadata": {
        "id": "0Hv9RvD_zlhp"
      },
      "source": [
        "# Save the tflite\n",
        "converter = tf.lite.TFLiteConverter.from_saved_model('./solutions Group16/small_model_stft')\n",
        "    \n",
        "tflite_model = converter.convert()\n",
        "\n",
        "with open('small_model_stft.tflite.zlib', 'wb') as fp:\n",
        "    fp.write(tflite_model)"
      ],
      "execution_count": 15,
      "outputs": []
    },
    {
      "cell_type": "code",
      "metadata": {
        "id": "j90jwn1jzlhp"
      },
      "source": [
        "tflite_model = converter.convert()\n",
        "\n",
        "with open('small_model_stft.tflite.zlib', 'wb') as fp:\n",
        "    tflite_compressed = zlib.compress(tflite_model)\n",
        "    fp.write(tflite_compressed)"
      ],
      "execution_count": 16,
      "outputs": []
    },
    {
      "cell_type": "code",
      "metadata": {
        "id": "2KWADwwSzlhq"
      },
      "source": [
        "# Delete the directory with keras models and checkpoints\n",
        "#shutil.rmtree('solutions Group16', ignore_errors=True)"
      ],
      "execution_count": 17,
      "outputs": []
    },
    {
      "cell_type": "code",
      "metadata": {
        "id": "Hq8jy6Zjzlhq"
      },
      "source": [
        "# Test the model\n",
        "test_ds_tflite = test_ds.unbatch().batch(1)\n",
        "\n",
        "def acc_inference(interpreter):\n",
        "    \n",
        "    interpreter.allocate_tensors()\n",
        "    input_details = interpreter.get_input_details() \n",
        "    output_details = interpreter.get_output_details()\n",
        "    \n",
        "    acc = tf.keras.metrics.SparseCategoricalAccuracy()\n",
        "    \n",
        "    for (x,y) in test_ds_tflite:\n",
        "        interpreter.set_tensor(input_details[0][\"index\"], x)\n",
        "        interpreter.invoke()\n",
        "        y_pred = interpreter.get_tensor(output_details[0][\"index\"])\n",
        "        \n",
        "        y_true = y\n",
        "        acc.update_state(y_true, y_pred)\n",
        "    \n",
        "    return acc.result().numpy()"
      ],
      "execution_count": 18,
      "outputs": []
    },
    {
      "cell_type": "code",
      "metadata": {
        "id": "Xetn1bXFzlhq",
        "colab": {
          "base_uri": "https://localhost:8080/"
        },
        "outputId": "fb6150fb-e0c4-4813-c830-ac9d80970163"
      },
      "source": [
        "with open('small_model_stft.tflite.zlib', 'rb') as fp:\n",
        "    model_zip = zlib.decompress(fp.read())\n",
        "    interpreter = tf.lite.Interpreter(model_content=model_zip)\n",
        "    tflite_acc = acc_inference(interpreter)\n",
        "tflite_acc, os.path.getsize('small_model_stft.tflite.zlib')"
      ],
      "execution_count": 19,
      "outputs": [
        {
          "output_type": "execute_result",
          "data": {
            "text/plain": [
              "(0.91375, 19432)"
            ]
          },
          "metadata": {
            "tags": []
          },
          "execution_count": 19
        }
      ]
    }
  ]
}
