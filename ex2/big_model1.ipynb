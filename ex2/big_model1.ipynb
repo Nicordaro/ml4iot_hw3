{
  "nbformat": 4,
  "nbformat_minor": 0,
  "metadata": {
    "accelerator": "GPU",
    "colab": {
      "name": "big_model.ipynb",
      "provenance": [],
      "collapsed_sections": [],
      "include_colab_link": true
    },
    "kernelspec": {
      "display_name": "Python 3",
      "language": "python",
      "name": "python3"
    },
    "language_info": {
      "codemirror_mode": {
        "name": "ipython",
        "version": 3
      },
      "file_extension": ".py",
      "mimetype": "text/x-python",
      "name": "python",
      "nbconvert_exporter": "python",
      "pygments_lexer": "ipython3",
      "version": "3.7.3"
    }
  },
  "cells": [
    {
      "cell_type": "markdown",
      "metadata": {
        "id": "view-in-github",
        "colab_type": "text"
      },
      "source": [
        "<a href=\"https://colab.research.google.com/github/Nicordaro/ml4iot_hw3/blob/main/ex2/big_model1.ipynb\" target=\"_parent\"><img src=\"https://colab.research.google.com/assets/colab-badge.svg\" alt=\"Open In Colab\"/></a>"
      ]
    },
    {
      "cell_type": "code",
      "metadata": {
        "colab": {
          "base_uri": "https://localhost:8080/"
        },
        "id": "80PyM417dkcv",
        "outputId": "8f5f2525-0dc4-49fe-bd4f-f3ac707a5b4d"
      },
      "source": [
        "pip install tensorflow_model_optimization"
      ],
      "execution_count": null,
      "outputs": [
        {
          "output_type": "stream",
          "text": [
            "Collecting tensorflow_model_optimization\n",
            "\u001b[?25l  Downloading https://files.pythonhosted.org/packages/55/38/4fd48ea1bfcb0b6e36d949025200426fe9c3a8bfae029f0973d85518fa5a/tensorflow_model_optimization-0.5.0-py2.py3-none-any.whl (172kB)\n",
            "\r\u001b[K     |██                              | 10kB 20.4MB/s eta 0:00:01\r\u001b[K     |███▉                            | 20kB 13.8MB/s eta 0:00:01\r\u001b[K     |█████▊                          | 30kB 9.8MB/s eta 0:00:01\r\u001b[K     |███████▋                        | 40kB 8.8MB/s eta 0:00:01\r\u001b[K     |█████████▌                      | 51kB 9.2MB/s eta 0:00:01\r\u001b[K     |███████████▍                    | 61kB 9.5MB/s eta 0:00:01\r\u001b[K     |█████████████▎                  | 71kB 9.7MB/s eta 0:00:01\r\u001b[K     |███████████████▏                | 81kB 9.5MB/s eta 0:00:01\r\u001b[K     |█████████████████               | 92kB 9.8MB/s eta 0:00:01\r\u001b[K     |███████████████████             | 102kB 10.0MB/s eta 0:00:01\r\u001b[K     |████████████████████▉           | 112kB 10.0MB/s eta 0:00:01\r\u001b[K     |██████████████████████▊         | 122kB 10.0MB/s eta 0:00:01\r\u001b[K     |████████████████████████▊       | 133kB 10.0MB/s eta 0:00:01\r\u001b[K     |██████████████████████████▋     | 143kB 10.0MB/s eta 0:00:01\r\u001b[K     |████████████████████████████▌   | 153kB 10.0MB/s eta 0:00:01\r\u001b[K     |██████████████████████████████▍ | 163kB 10.0MB/s eta 0:00:01\r\u001b[K     |████████████████████████████████| 174kB 10.0MB/s \n",
            "\u001b[?25hRequirement already satisfied: six~=1.10 in /usr/local/lib/python3.6/dist-packages (from tensorflow_model_optimization) (1.15.0)\n",
            "Requirement already satisfied: numpy~=1.14 in /usr/local/lib/python3.6/dist-packages (from tensorflow_model_optimization) (1.19.4)\n",
            "Requirement already satisfied: dm-tree~=0.1.1 in /usr/local/lib/python3.6/dist-packages (from tensorflow_model_optimization) (0.1.5)\n",
            "Installing collected packages: tensorflow-model-optimization\n",
            "Successfully installed tensorflow-model-optimization-0.5.0\n"
          ],
          "name": "stdout"
        }
      ]
    },
    {
      "cell_type": "code",
      "metadata": {
        "id": "QQ0ko-6beGek",
        "colab": {
          "base_uri": "https://localhost:8080/"
        },
        "outputId": "dfd966c7-af44-491f-ee4a-6ab618d5a87a"
      },
      "source": [
        "import os\r\n",
        "# Clone github repository with data\r\n",
        "# if os.path.isdir('./Project_MLDL'):\r\n",
        "!rm -rf Project_MLDL\r\n",
        "DATA_DIR = './ml4iot_hw3'\r\n",
        "if not os.path.isdir(DATA_DIR):\r\n",
        "  !git clone https://github.com/Nicordaro/ml4iot_hw3\r\n"
      ],
      "execution_count": null,
      "outputs": [
        {
          "output_type": "stream",
          "text": [
            "Cloning into 'ml4iot_hw3'...\n",
            "remote: Enumerating objects: 88, done.\u001b[K\n",
            "remote: Counting objects: 100% (88/88), done.\u001b[K\n",
            "remote: Compressing objects: 100% (87/87), done.\u001b[K\n",
            "remote: Total 88 (delta 53), reused 0 (delta 0), pack-reused 0\u001b[K\n",
            "Unpacking objects: 100% (88/88), done.\n"
          ],
          "name": "stdout"
        }
      ]
    },
    {
      "cell_type": "code",
      "metadata": {
        "id": "Ryt1AEmvcn3W",
        "colab": {
          "base_uri": "https://localhost:8080/"
        },
        "outputId": "8e170ce7-aff2-4d78-8a2e-541074c42b3b"
      },
      "source": [
        "import argparse\n",
        "import os\n",
        "import numpy as np\n",
        "import tensorflow as tf\n",
        "from tensorflow import keras\n",
        "import tensorflow_model_optimization as tfmot\n",
        "import zlib\n",
        "import shutil\n",
        "\n",
        "'''\n",
        "parser = argparse.ArgumentParser()\n",
        "parser.add_argument('--version', type=str, required=False,\n",
        "        help='model version: a,b or c')\n",
        "args = parser.parse_args()\n",
        "\n",
        "version = args.version\n",
        "'''\n",
        "\n",
        "seed = 42\n",
        "tf.random.set_seed(seed)\n",
        "np.random.seed(seed)\n",
        "\n",
        "zip_path = tf.keras.utils.get_file(\n",
        "                origin = 'http://storage.googleapis.com/download.tensorflow.org/data/mini_speech_commands.zip',\n",
        "                fname = 'mini_speech_commands.zip',\n",
        "                extract = True,\n",
        "                cache_dir = '.',\n",
        "                cache_subdir = 'data')\n",
        "\n",
        "data_dir = os.path.join('.','data', 'mini_speech_commands')\n",
        "\n",
        "def filenames(path) :\n",
        "    with open(path, \"rb\") as fp:\n",
        "        arr = np.array(fp.read().splitlines())\n",
        "    return arr\n",
        "    \n",
        "train_files = filenames(DATA_DIR+\"/kws_train_split.txt\")\n",
        "val_files = filenames(DATA_DIR+\"/kws_val_split.txt\")\n",
        "test_files = filenames(DATA_DIR+\"/kws_test_split.txt\")\n",
        "\n",
        "LABELS = np.array(['down', 'stop', 'right', 'left', 'up', 'yes', 'no', 'go'])"
      ],
      "execution_count": null,
      "outputs": [
        {
          "output_type": "stream",
          "text": [
            "Downloading data from http://storage.googleapis.com/download.tensorflow.org/data/mini_speech_commands.zip\n",
            "182083584/182082353 [==============================] - 1s 0us/step\n"
          ],
          "name": "stdout"
        }
      ]
    },
    {
      "cell_type": "code",
      "metadata": {
        "id": "3jLWOPgtcn3d"
      },
      "source": [
        "class SignalGenerator:\n",
        "    def __init__(self, labels, sampling_rate, frame_length, frame_step, num_mel_bins=None, lower_frequency=None,\n",
        "                upper_frequency=None, num_coefficients=None, mfcc=False):\n",
        "        \n",
        "        self.labels = labels\n",
        "        self.sampling_rate = sampling_rate \n",
        "        self.frame_length = frame_length  \n",
        "        self.frame_step = frame_step       \n",
        "        self.num_mel_bins = num_mel_bins   \n",
        "        self.lower_frequency = lower_frequency  \n",
        "        self.upper_frequency = upper_frequency  \n",
        "        self.num_coefficients = num_coefficients  \n",
        "        self.mfcc = mfcc  \n",
        "        \n",
        "        if mfcc is True:\n",
        "            self.preprocess = self.preprocess_with_mfcc\n",
        "        else :\n",
        "            self.preprocess = self.preprocess_with_stft\n",
        "            \n",
        "            \n",
        "    def read(self, file_path):\n",
        "        parts = tf.strings.split(file_path, os.path.sep)\n",
        "        label = parts[-2]  \n",
        "        label_id = tf.argmax(label == self.labels)\n",
        "        \n",
        "        audio_binary = tf.io.read_file(file_path)\n",
        "        audio,_ = tf.audio.decode_wav(audio_binary)\n",
        "        audio = tf.squeeze(audio, axis=1)  \n",
        "        audio = self.pad(audio)\n",
        "        \n",
        "        return audio, label_id\n",
        "    \n",
        "    def pad(self, audio):\n",
        "        zero_padding = tf.zeros([self.sampling_rate] - tf.shape(audio), dtype=tf.float32)\n",
        "        audio = tf.concat([audio, zero_padding], 0)\n",
        "        audio.set_shape([self.sampling_rate])\n",
        "        \n",
        "        return audio\n",
        "      \n",
        "    def preprocess_with_stft(self, file_path):\n",
        "        audio, label = self.read(file_path)\n",
        "        \n",
        "        stft = tf.signal.stft(audio, frame_length=self.frame_length, frame_step=self.frame_step, fft_length=self.frame_length)\n",
        "        spectrogram = tf.abs(stft)\n",
        "        \n",
        "        if self.mfcc == False:\n",
        "            spectrogram = tf.expand_dims(spectrogram, -1)\n",
        "            spectrogram = tf.image.resize(spectrogram, [50,50])\n",
        "            \n",
        "        return spectrogram, label\n",
        "    \n",
        "    \n",
        "    def preprocess_with_mfcc(self, file_path):\n",
        "        \n",
        "        spectrogram, label = self.preprocess_with_stft(file_path)\n",
        "        \n",
        "        num_spectrogram_bins = spectrogram.shape[-1]\n",
        "        linear_to_mel_weight_matrix = tf.signal.linear_to_mel_weight_matrix(self.num_mel_bins, num_spectrogram_bins,\n",
        "                                                                            self.sampling_rate, \n",
        "                                                                            self.lower_frequency, self.upper_frequency)\n",
        "        \n",
        "        mel_spectrogram = tf.tensordot(spectrogram, linear_to_mel_weight_matrix, 1)\n",
        "        log_mel_spectrogram = tf.math.log(mel_spectrogram + 1e-6)\n",
        "        mfccs = tf.signal.mfccs_from_log_mel_spectrograms(log_mel_spectrogram)[..., :self.num_coefficients]\n",
        "        mfccs = tf.expand_dims(mfccs, -1)\n",
        "          \n",
        "        return mfccs, label\n",
        "        \n",
        "    \n",
        "    def make_ds(self, filenames, train):\n",
        "        ds = tf.data.Dataset.from_tensor_slices(filenames)\n",
        "        ds = ds.map(self.preprocess, num_parallel_calls=4)\n",
        "        ds = ds.batch(32)\n",
        "        ds = ds.cache()\n",
        "        \n",
        "        if train == True:\n",
        "            ds = ds.shuffle(100, reshuffle_each_iteration=True)\n",
        "            \n",
        "        return ds"
      ],
      "execution_count": null,
      "outputs": []
    },
    {
      "cell_type": "code",
      "metadata": {
        "id": "rnc5AEiecn3e"
      },
      "source": [
        "# Big model parameters\n",
        "sampling_rate = 16000\n",
        "frame_length = 640\n",
        "frame_step = 320\n",
        "num_mel_bins = 40\n",
        "lower_frequency = 20\n",
        "upper_frequency = 4000\n",
        "num_mfccs = 12"
      ],
      "execution_count": null,
      "outputs": []
    },
    {
      "cell_type": "code",
      "metadata": {
        "id": "XmFiOq9Qcn3e"
      },
      "source": [
        "# MFCC\n",
        "generator = SignalGenerator(LABELS, sampling_rate, frame_length, frame_step, num_mel_bins, \n",
        "                                lower_frequency, upper_frequency, num_mfccs, mfcc=True)                  \n",
        "\n",
        "train_ds = generator.make_ds(train_files, True)\n",
        "val_ds = generator.make_ds(val_files, False)\n",
        "test_ds = generator.make_ds(test_files, False)"
      ],
      "execution_count": null,
      "outputs": []
    },
    {
      "cell_type": "code",
      "metadata": {
        "id": "wH80Vvzvcn3e"
      },
      "source": [
        "#temp = tf.squeeze(next(iter(train_ds))[0][0]).shape"
      ],
      "execution_count": null,
      "outputs": []
    },
    {
      "cell_type": "code",
      "metadata": {
        "id": "O1VAXAzlBwdO"
      },
      "source": [
        "#shape1 = temp[0]\r\n",
        "#shape2 = temp[1]  # = num_mfccs\r\n",
        "#shape1, shape2"
      ],
      "execution_count": null,
      "outputs": []
    },
    {
      "cell_type": "code",
      "metadata": {
        "id": "mpgnTTFocn3f"
      },
      "source": [
        "def model_creation(name, alpha, mfcc=True):\n",
        "    \n",
        "    stride = [1,1]\n",
        "        \n",
        "    if name == \"cnn\":\n",
        "        model = keras.Sequential([\n",
        "            keras.layers.Conv2D(filters = int(128*alpha), kernel_size=[3,3], strides=stride, use_bias=False, activation='relu'), \n",
        "            keras.layers.BatchNormalization(momentum=0.1),\n",
        "            keras.layers.Conv2D(filters = int(128*alpha), kernel_size=[3,3], strides=[1,1], use_bias=False, activation='relu'), \n",
        "            keras.layers.BatchNormalization(momentum=0.1),\n",
        "            keras.layers.Conv2D(filters = int(128*alpha), kernel_size=[3,3], strides=[1,1], use_bias=False, activation='relu'), \n",
        "            keras.layers.BatchNormalization(momentum=0.1),\n",
        "            keras.layers.Conv2D(filters = int(128*alpha), kernel_size=[3,3], strides=[1,1], use_bias=False, activation='relu'), \n",
        "            keras.layers.BatchNormalization(momentum=0.1),\n",
        "            keras.layers.GlobalAveragePooling2D(),\n",
        "            keras.layers.Dense(8)\n",
        "        ])\n",
        "    \n",
        "    return model"
      ],
      "execution_count": null,
      "outputs": []
    },
    {
      "cell_type": "code",
      "metadata": {
        "id": "G0TOfKxwcn3f"
      },
      "source": [
        "alpha = 1\n",
        "mfcc = True\n",
        "#number_of_clusters = 8\n",
        "    \n",
        "optimizer = tf.keras.optimizers.Adam(learning_rate = 0.02)\n",
        "loss = tf.keras.losses.SparseCategoricalCrossentropy(from_logits=True)\n",
        "metric = tf.keras.metrics.SparseCategoricalAccuracy()\n",
        "n_epochs = 20\n",
        "model_name = 'cnn'\n",
        "\n",
        "def scheduler(epoch, lr):\n",
        "    if epoch == 10 or epoch == 14:\n",
        "        return lr*0.1   \n",
        "    return lr"
      ],
      "execution_count": null,
      "outputs": []
    },
    {
      "cell_type": "code",
      "metadata": {
        "id": "zNYfRzEwcn3g"
      },
      "source": [
        "# Callbacks\n",
        "early_stopping = tf.keras.callbacks.EarlyStopping(monitor = 'val_loss', mode = 'min', min_delta = 0.005, patience = 5)\n",
        "\n",
        "checkpoint = tf.keras.callbacks.ModelCheckpoint( './solutions Group16/Group16_big', \n",
        "                                                 save_best_only = True,\n",
        "                                                 save_weights_only = True,\n",
        "                                                 monitor = 'val_loss',\n",
        "                                                 mode = 'min')\n",
        "\n",
        "schedule_callback = tf.keras.callbacks.LearningRateScheduler(schedule = scheduler)"
      ],
      "execution_count": null,
      "outputs": []
    },
    {
      "cell_type": "code",
      "metadata": {
        "id": "vDcjbw3lcn3g",
        "colab": {
          "base_uri": "https://localhost:8080/"
        },
        "outputId": "776af1c6-f376-45b1-90e6-c56b7850638d"
      },
      "source": [
        "cnn = model_creation(model_name, alpha, mfcc = mfcc)\n",
        "\n",
        "cnn.compile(optimizer = optimizer,\n",
        "            loss = loss,              \n",
        "            metrics = metric)\n",
        "\n",
        "cnn.fit(train_ds, epochs = n_epochs, validation_data=val_ds, callbacks = [schedule_callback, checkpoint])"
      ],
      "execution_count": null,
      "outputs": [
        {
          "output_type": "stream",
          "text": [
            "Epoch 1/20\n",
            "200/200 [==============================] - 145s 389ms/step - loss: 1.9360 - sparse_categorical_accuracy: 0.3054 - val_loss: 0.7602 - val_sparse_categorical_accuracy: 0.7450\n",
            "Epoch 2/20\n",
            "200/200 [==============================] - 2s 8ms/step - loss: 0.6464 - sparse_categorical_accuracy: 0.7825 - val_loss: 0.3802 - val_sparse_categorical_accuracy: 0.8763\n",
            "Epoch 3/20\n",
            "200/200 [==============================] - 2s 8ms/step - loss: 0.3243 - sparse_categorical_accuracy: 0.9006 - val_loss: 0.3150 - val_sparse_categorical_accuracy: 0.9150\n",
            "Epoch 4/20\n",
            "200/200 [==============================] - 2s 8ms/step - loss: 0.2487 - sparse_categorical_accuracy: 0.9172 - val_loss: 0.2487 - val_sparse_categorical_accuracy: 0.9262\n",
            "Epoch 5/20\n",
            "200/200 [==============================] - 2s 8ms/step - loss: 0.1859 - sparse_categorical_accuracy: 0.9349 - val_loss: 0.4067 - val_sparse_categorical_accuracy: 0.8788\n",
            "Epoch 6/20\n",
            "200/200 [==============================] - 2s 8ms/step - loss: 0.1787 - sparse_categorical_accuracy: 0.9428 - val_loss: 0.2343 - val_sparse_categorical_accuracy: 0.9212\n",
            "Epoch 7/20\n",
            "200/200 [==============================] - 2s 8ms/step - loss: 0.1630 - sparse_categorical_accuracy: 0.9446 - val_loss: 0.2277 - val_sparse_categorical_accuracy: 0.9312\n",
            "Epoch 8/20\n",
            "200/200 [==============================] - 2s 8ms/step - loss: 0.1291 - sparse_categorical_accuracy: 0.9580 - val_loss: 0.2578 - val_sparse_categorical_accuracy: 0.9187\n",
            "Epoch 9/20\n",
            "200/200 [==============================] - 2s 8ms/step - loss: 0.1184 - sparse_categorical_accuracy: 0.9604 - val_loss: 0.3495 - val_sparse_categorical_accuracy: 0.9087\n",
            "Epoch 10/20\n",
            "200/200 [==============================] - 2s 8ms/step - loss: 0.1059 - sparse_categorical_accuracy: 0.9622 - val_loss: 0.2958 - val_sparse_categorical_accuracy: 0.9287\n",
            "Epoch 11/20\n",
            "200/200 [==============================] - 2s 8ms/step - loss: 0.0898 - sparse_categorical_accuracy: 0.9726 - val_loss: 0.1814 - val_sparse_categorical_accuracy: 0.9450\n",
            "Epoch 12/20\n",
            "200/200 [==============================] - 2s 8ms/step - loss: 0.0440 - sparse_categorical_accuracy: 0.9877 - val_loss: 0.1873 - val_sparse_categorical_accuracy: 0.9488\n",
            "Epoch 13/20\n",
            "200/200 [==============================] - 2s 8ms/step - loss: 0.0335 - sparse_categorical_accuracy: 0.9924 - val_loss: 0.1584 - val_sparse_categorical_accuracy: 0.9538\n",
            "Epoch 14/20\n",
            "200/200 [==============================] - 2s 8ms/step - loss: 0.0346 - sparse_categorical_accuracy: 0.9912 - val_loss: 0.1733 - val_sparse_categorical_accuracy: 0.9500\n",
            "Epoch 15/20\n",
            "200/200 [==============================] - 2s 8ms/step - loss: 0.0321 - sparse_categorical_accuracy: 0.9912 - val_loss: 0.1544 - val_sparse_categorical_accuracy: 0.9575\n",
            "Epoch 16/20\n",
            "200/200 [==============================] - 2s 8ms/step - loss: 0.0233 - sparse_categorical_accuracy: 0.9948 - val_loss: 0.1951 - val_sparse_categorical_accuracy: 0.9450\n",
            "Epoch 17/20\n",
            "200/200 [==============================] - 2s 8ms/step - loss: 0.0279 - sparse_categorical_accuracy: 0.9937 - val_loss: 0.1548 - val_sparse_categorical_accuracy: 0.9600\n",
            "Epoch 18/20\n",
            "200/200 [==============================] - 2s 8ms/step - loss: 0.0283 - sparse_categorical_accuracy: 0.9931 - val_loss: 0.1800 - val_sparse_categorical_accuracy: 0.9463\n",
            "Epoch 19/20\n",
            "200/200 [==============================] - 2s 8ms/step - loss: 0.0279 - sparse_categorical_accuracy: 0.9921 - val_loss: 0.1692 - val_sparse_categorical_accuracy: 0.9475\n",
            "Epoch 20/20\n",
            "200/200 [==============================] - 2s 8ms/step - loss: 0.0273 - sparse_categorical_accuracy: 0.9934 - val_loss: 0.1650 - val_sparse_categorical_accuracy: 0.9563\n"
          ],
          "name": "stdout"
        },
        {
          "output_type": "execute_result",
          "data": {
            "text/plain": [
              "<tensorflow.python.keras.callbacks.History at 0x7fe98c6e7fd0>"
            ]
          },
          "metadata": {
            "tags": []
          },
          "execution_count": 12
        }
      ]
    },
    {
      "cell_type": "code",
      "metadata": {
        "id": "jyMNOW6lcn3h",
        "colab": {
          "base_uri": "https://localhost:8080/"
        },
        "outputId": "a21167a2-fef0-483d-9e83-9d1bcf8c8807"
      },
      "source": [
        "cnn.load_weights('./solutions Group16/Group16_big')\n",
        "test_loss, test_accuracy = cnn.evaluate(test_ds, verbose=2)\n",
        "test_accuracy"
      ],
      "execution_count": null,
      "outputs": [
        {
          "output_type": "stream",
          "text": [
            "25/25 - 16s - loss: 0.1562 - sparse_categorical_accuracy: 0.9488\n"
          ],
          "name": "stdout"
        },
        {
          "output_type": "execute_result",
          "data": {
            "text/plain": [
              "0.9487500190734863"
            ]
          },
          "metadata": {
            "tags": []
          },
          "execution_count": 13
        }
      ]
    },
    {
      "cell_type": "code",
      "metadata": {
        "id": "ZWFOKFF4cn3i",
        "colab": {
          "base_uri": "https://localhost:8080/"
        },
        "outputId": "b9a45e9b-1342-4a7e-e049-4060b8eaed68"
      },
      "source": [
        "# Save the model\n",
        "cnn.save('./solutions Group16/big_model')"
      ],
      "execution_count": null,
      "outputs": [
        {
          "output_type": "stream",
          "text": [
            "INFO:tensorflow:Assets written to: ./solutions Group16/big_model/assets\n"
          ],
          "name": "stdout"
        }
      ]
    },
    {
      "cell_type": "code",
      "metadata": {
        "id": "hdpJxuKvcn3i"
      },
      "source": [
        "# Save the tflite\n",
        "converter = tf.lite.TFLiteConverter.from_saved_model('./solutions Group16/big_model')\n",
        "    \n",
        "tflite_model = converter.convert()\n",
        "\n",
        "with open('big_model.tflite', 'wb') as fp:\n",
        "    fp.write(tflite_model)"
      ],
      "execution_count": null,
      "outputs": []
    },
    {
      "cell_type": "code",
      "metadata": {
        "id": "d6Y80wgScn3j"
      },
      "source": [
        "# Delete the directory with keras models and checkpoints\n",
        "#shutil.rmtree('solutions Group16', ignore_errors=True)"
      ],
      "execution_count": null,
      "outputs": []
    },
    {
      "cell_type": "code",
      "metadata": {
        "id": "Nfsqx6Jkcn3j"
      },
      "source": [
        "# Test the model\n",
        "test_ds_tflite = test_ds.unbatch().batch(1)\n",
        "\n",
        "def acc_inference(interpreter):\n",
        "    \n",
        "    interpreter.allocate_tensors()\n",
        "    input_details = interpreter.get_input_details() \n",
        "    output_details = interpreter.get_output_details()\n",
        "    \n",
        "    acc = tf.keras.metrics.SparseCategoricalAccuracy()\n",
        "    \n",
        "    for (x,y) in test_ds_tflite:\n",
        "        interpreter.set_tensor(input_details[0][\"index\"], x)\n",
        "        interpreter.invoke()\n",
        "        y_pred = interpreter.get_tensor(output_details[0][\"index\"])\n",
        "        \n",
        "        y_true = y\n",
        "        acc.update_state(y_true, y_pred)\n",
        "    \n",
        "    return acc.result().numpy()"
      ],
      "execution_count": null,
      "outputs": []
    },
    {
      "cell_type": "code",
      "metadata": {
        "id": "kXRzW_jIcn3j",
        "colab": {
          "base_uri": "https://localhost:8080/"
        },
        "outputId": "dc0eba52-064c-4710-8974-bdcd4e07992b"
      },
      "source": [
        "interpreter = tf.lite.Interpreter(model_path = 'big_model.tflite')\n",
        "tflite_acc = acc_inference(interpreter)\n",
        "tflite_acc, os.path.getsize('big_model.tflite')"
      ],
      "execution_count": null,
      "outputs": [
        {
          "output_type": "execute_result",
          "data": {
            "text/plain": [
              "(0.94875, 1786836)"
            ]
          },
          "metadata": {
            "tags": []
          },
          "execution_count": 18
        }
      ]
    }
  ]
}