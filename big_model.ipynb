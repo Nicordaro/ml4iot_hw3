{
  "nbformat": 4,
  "nbformat_minor": 0,
  "metadata": {
    "kernelspec": {
      "display_name": "Python 3",
      "language": "python",
      "name": "python3"
    },
    "language_info": {
      "codemirror_mode": {
        "name": "ipython",
        "version": 3
      },
      "file_extension": ".py",
      "mimetype": "text/x-python",
      "name": "python",
      "nbconvert_exporter": "python",
      "pygments_lexer": "ipython3",
      "version": "3.7.3"
    },
    "colab": {
      "name": "big_model.ipynb",
      "provenance": [],
      "include_colab_link": true
    }
  },
  "cells": [
    {
      "cell_type": "markdown",
      "metadata": {
        "id": "view-in-github",
        "colab_type": "text"
      },
      "source": [
        "<a href=\"https://colab.research.google.com/github/Nicordaro/ml4iot_hw3/blob/main/big_model.ipynb\" target=\"_parent\"><img src=\"https://colab.research.google.com/assets/colab-badge.svg\" alt=\"Open In Colab\"/></a>"
      ]
    },
    {
      "cell_type": "code",
      "metadata": {
        "id": "80PyM417dkcv",
        "colab": {
          "base_uri": "https://localhost:8080/"
        },
        "outputId": "2d47ee18-1186-4351-9dac-d9bb334e9d93"
      },
      "source": [
        "#pip install tensorflow_model_optimization"
      ],
      "execution_count": 1,
      "outputs": [
        {
          "output_type": "stream",
          "text": [
            "Collecting tensorflow_model_optimization\n",
            "\u001b[?25l  Downloading https://files.pythonhosted.org/packages/55/38/4fd48ea1bfcb0b6e36d949025200426fe9c3a8bfae029f0973d85518fa5a/tensorflow_model_optimization-0.5.0-py2.py3-none-any.whl (172kB)\n",
            "\r\u001b[K     |██                              | 10kB 16.3MB/s eta 0:00:01\r\u001b[K     |███▉                            | 20kB 21.4MB/s eta 0:00:01\r\u001b[K     |█████▊                          | 30kB 8.5MB/s eta 0:00:01\r\u001b[K     |███████▋                        | 40kB 8.8MB/s eta 0:00:01\r\u001b[K     |█████████▌                      | 51kB 4.4MB/s eta 0:00:01\r\u001b[K     |███████████▍                    | 61kB 5.1MB/s eta 0:00:01\r\u001b[K     |█████████████▎                  | 71kB 5.1MB/s eta 0:00:01\r\u001b[K     |███████████████▏                | 81kB 5.7MB/s eta 0:00:01\r\u001b[K     |█████████████████               | 92kB 5.4MB/s eta 0:00:01\r\u001b[K     |███████████████████             | 102kB 5.8MB/s eta 0:00:01\r\u001b[K     |████████████████████▉           | 112kB 5.8MB/s eta 0:00:01\r\u001b[K     |██████████████████████▊         | 122kB 5.8MB/s eta 0:00:01\r\u001b[K     |████████████████████████▊       | 133kB 5.8MB/s eta 0:00:01\r\u001b[K     |██████████████████████████▋     | 143kB 5.8MB/s eta 0:00:01\r\u001b[K     |████████████████████████████▌   | 153kB 5.8MB/s eta 0:00:01\r\u001b[K     |██████████████████████████████▍ | 163kB 5.8MB/s eta 0:00:01\r\u001b[K     |████████████████████████████████| 174kB 5.8MB/s \n",
            "\u001b[?25hRequirement already satisfied: dm-tree~=0.1.1 in /usr/local/lib/python3.6/dist-packages (from tensorflow_model_optimization) (0.1.5)\n",
            "Requirement already satisfied: numpy~=1.14 in /usr/local/lib/python3.6/dist-packages (from tensorflow_model_optimization) (1.19.4)\n",
            "Requirement already satisfied: six~=1.10 in /usr/local/lib/python3.6/dist-packages (from tensorflow_model_optimization) (1.15.0)\n",
            "Installing collected packages: tensorflow-model-optimization\n",
            "Successfully installed tensorflow-model-optimization-0.5.0\n"
          ],
          "name": "stdout"
        }
      ]
    },
    {
      "cell_type": "code",
      "metadata": {
        "colab": {
          "base_uri": "https://localhost:8080/"
        },
        "id": "QQ0ko-6beGek",
        "outputId": "864253a2-e2df-4ea4-b508-676cfe0e17e8"
      },
      "source": [
        "import os\r\n",
        "# Clone github repository with data\r\n",
        "# if os.path.isdir('./Project_MLDL'):\r\n",
        "!rm -rf Project_MLDL\r\n",
        "if not os.path.isdir('./resources'):\r\n",
        "  !git clone https://github.com/Nicordaro/ml4iot_hw3\r\n",
        "DATA_DIR = './ml4iot_hw3'"
      ],
      "execution_count": 2,
      "outputs": [
        {
          "output_type": "stream",
          "text": [
            "Cloning into 'ml4iot_hw3'...\n",
            "remote: Enumerating objects: 26, done.\u001b[K\n",
            "remote: Counting objects: 100% (26/26), done.\u001b[K\n",
            "remote: Compressing objects: 100% (25/25), done.\u001b[K\n",
            "remote: Total 26 (delta 12), reused 0 (delta 0), pack-reused 0\u001b[K\n",
            "Unpacking objects: 100% (26/26), done.\n"
          ],
          "name": "stdout"
        }
      ]
    },
    {
      "cell_type": "code",
      "metadata": {
        "id": "Ryt1AEmvcn3W"
      },
      "source": [
        "import argparse\n",
        "import os\n",
        "import numpy as np\n",
        "import tensorflow as tf\n",
        "from tensorflow import keras\n",
        "import tensorflow_model_optimization as tfmot\n",
        "import zlib\n",
        "import shutil\n",
        "\n",
        "'''\n",
        "parser = argparse.ArgumentParser()\n",
        "parser.add_argument('--version', type=str, required=False,\n",
        "        help='model version: a,b or c')\n",
        "args = parser.parse_args()\n",
        "\n",
        "version = args.version\n",
        "'''\n",
        "\n",
        "seed = 42\n",
        "tf.random.set_seed(seed)\n",
        "np.random.seed(seed)\n",
        "\n",
        "zip_path = tf.keras.utils.get_file(\n",
        "                origin = 'http://storage.googleapis.com/download.tensorflow.org/data/mini_speech_commands.zip',\n",
        "                fname = 'mini_speech_commands.zip',\n",
        "                extract = True,\n",
        "                cache_dir = '.',\n",
        "                cache_subdir = 'data')\n",
        "\n",
        "data_dir = os.path.join('.','data', 'mini_speech_commands')\n",
        "\n",
        "def filenames(path) :\n",
        "    with open(path, \"rb\") as fp:\n",
        "        arr = np.array([line.replace(b\"/\", b\"\\\\\") for line in fp.read().splitlines()])\n",
        "    return arr\n",
        "    \n",
        "train_files = filenames(DATA_DIR+\"/kws_train_split.txt\")\n",
        "val_files = filenames(DATA_DIR+\"/kws_val_split.txt\")\n",
        "test_files = filenames(DATA_DIR+\"/kws_test_split.txt\")\n",
        "\n",
        "LABELS = np.array(tf.io.gfile.listdir(str(data_dir)))\n",
        "LABELS = LABELS[LABELS != 'README.md']"
      ],
      "execution_count": 5,
      "outputs": []
    },
    {
      "cell_type": "code",
      "metadata": {
        "colab": {
          "base_uri": "https://localhost:8080/"
        },
        "id": "fqm5va9SeaUH",
        "outputId": "f5701bba-dfd2-4177-8830-3ac73eb958a8"
      },
      "source": [
        "LABELS"
      ],
      "execution_count": 7,
      "outputs": [
        {
          "output_type": "execute_result",
          "data": {
            "text/plain": [
              "array(['down', 'no', 'yes', 'stop', 'go', 'up', 'right', 'left'],\n",
              "      dtype='<U9')"
            ]
          },
          "metadata": {
            "tags": []
          },
          "execution_count": 7
        }
      ]
    },
    {
      "cell_type": "code",
      "metadata": {
        "id": "3jLWOPgtcn3d"
      },
      "source": [
        "class SignalGenerator:\n",
        "    def __init__(self, labels, sampling_rate, frame_length, frame_step, num_mel_bins=None, lower_frequency=None,\n",
        "                upper_frequency=None, num_coefficients=None, mfcc=False):\n",
        "        \n",
        "        self.labels = labels\n",
        "        self.sampling_rate = sampling_rate \n",
        "        self.frame_length = frame_length  \n",
        "        self.frame_step = frame_step       \n",
        "        self.num_mel_bins = num_mel_bins   \n",
        "        self.lower_frequency = lower_frequency  \n",
        "        self.upper_frequency = upper_frequency  \n",
        "        self.num_coefficients = num_coefficients  \n",
        "        self.mfcc = mfcc  \n",
        "        \n",
        "        if mfcc is True:\n",
        "            self.preprocess = self.preprocess_with_mfcc\n",
        "        else :\n",
        "            self.preprocess = self.preprocess_with_stft\n",
        "            \n",
        "            \n",
        "    def read(self, file_path):\n",
        "        parts = tf.strings.split(file_path, os.path.sep)\n",
        "        label = parts[-2]  \n",
        "        label_id = tf.argmax(label == self.labels)\n",
        "        \n",
        "        audio_binary = tf.io.read_file(file_path)\n",
        "        audio,_ = tf.audio.decode_wav(audio_binary)\n",
        "        audio = tf.squeeze(audio, axis=1)  \n",
        "        audio = self.pad(audio)\n",
        "        \n",
        "        return audio, label_id\n",
        "    \n",
        "    def pad(self, audio):\n",
        "        zero_padding = tf.zeros([self.sampling_rate] - tf.shape(audio), dtype=tf.float32)\n",
        "        audio = tf.concat([audio, zero_padding], 0)\n",
        "        audio.set_shape([self.sampling_rate])\n",
        "        \n",
        "        return audio\n",
        "      \n",
        "    def preprocess_with_stft(self, file_path):\n",
        "        audio, label = self.read(file_path)\n",
        "        \n",
        "        stft = tf.signal.stft(audio, frame_length=self.frame_length, frame_step=self.frame_step, fft_length=self.frame_length)\n",
        "        spectrogram = tf.abs(stft)\n",
        "        \n",
        "        if self.mfcc == False:\n",
        "            spectrogram = tf.expand_dims(spectrogram, -1)\n",
        "            spectrogram = tf.image.resize(spectrogram, [50,50])\n",
        "            \n",
        "        return spectrogram, label\n",
        "    \n",
        "    \n",
        "    def preprocess_with_mfcc(self, file_path):\n",
        "        \n",
        "        spectrogram, label = self.preprocess_with_stft(file_path)\n",
        "        \n",
        "        num_spectrogram_bins = spectrogram.shape[-1]\n",
        "        linear_to_mel_weight_matrix = tf.signal.linear_to_mel_weight_matrix(self.num_mel_bins, num_spectrogram_bins,\n",
        "                                                                            self.sampling_rate, \n",
        "                                                                            self.lower_frequency, self.upper_frequency)\n",
        "        \n",
        "        mel_spectrogram = tf.tensordot(spectrogram, linear_to_mel_weight_matrix, 1)\n",
        "        log_mel_spectrogram = tf.math.log(mel_spectrogram + 1e-6)\n",
        "        mfccs = tf.signal.mfccs_from_log_mel_spectrograms(log_mel_spectrogram)[..., :self.num_coefficients]\n",
        "        mfccs = tf.expand_dims(mfccs, -1)\n",
        "          \n",
        "        return mfccs, label\n",
        "        \n",
        "    \n",
        "    def make_ds(self, filenames, train):\n",
        "        ds = tf.data.Dataset.from_tensor_slices(filenames)\n",
        "        ds = ds.map(self.preprocess, num_parallel_calls=4)\n",
        "        ds = ds.batch(32)\n",
        "        ds = ds.cache()\n",
        "        \n",
        "        if train == True:\n",
        "            ds = ds.shuffle(100, reshuffle_each_iteration=True)\n",
        "            \n",
        "        return ds"
      ],
      "execution_count": null,
      "outputs": []
    },
    {
      "cell_type": "code",
      "metadata": {
        "id": "rnc5AEiecn3e"
      },
      "source": [
        "# Big model parameters\n",
        "sampling_rate = 16000\n",
        "frame_length = 640\n",
        "frame_step = 320\n",
        "num_mel_bins = 40\n",
        "lower_frequency = 20\n",
        "upper_frequency = 4000\n",
        "num_mfccs = 20"
      ],
      "execution_count": null,
      "outputs": []
    },
    {
      "cell_type": "code",
      "metadata": {
        "id": "XmFiOq9Qcn3e"
      },
      "source": [
        "# MFCC\n",
        "generator = SignalGenerator(LABELS, sampling_rate, frame_length, frame_step, num_mel_bins, \n",
        "                                lower_frequency, upper_frequency, num_mfccs, mfcc=True)                  \n",
        "\n",
        "train_ds = generator.make_ds(train_files, True)\n",
        "val_ds = generator.make_ds(val_files, False)\n",
        "test_ds = generator.make_ds(test_files, False)"
      ],
      "execution_count": null,
      "outputs": []
    },
    {
      "cell_type": "code",
      "metadata": {
        "id": "wH80Vvzvcn3e",
        "outputId": "b2e9b2e4-7ae2-403c-de15-88dd0080af8e"
      },
      "source": [
        "next(iter(train_ds))[0][0].shape"
      ],
      "execution_count": null,
      "outputs": [
        {
          "output_type": "execute_result",
          "data": {
            "text/plain": [
              "TensorShape([49, 20, 1])"
            ]
          },
          "metadata": {
            "tags": []
          },
          "execution_count": 11
        }
      ]
    },
    {
      "cell_type": "code",
      "metadata": {
        "id": "mpgnTTFocn3f"
      },
      "source": [
        "def model_creation(name, alpha, mfcc=True):\n",
        "    \n",
        "    stride = [2,1]\n",
        "    input_shape = (49,num_mfccs) \n",
        "        \n",
        "    if name == \"cnn\":\n",
        "        model = keras.Sequential([\n",
        "            keras.layers.Conv2D(filters = int(128*alpha), kernel_size=[3,3], strides=stride, use_bias=False, activation='relu'), \n",
        "            keras.layers.BatchNormalization(momentum=0.1),\n",
        "            keras.layers.Conv2D(filters = int(128*alpha), kernel_size=[3,3], strides=[1,2], use_bias=False, activation='relu'), \n",
        "            keras.layers.BatchNormalization(momentum=0.1),\n",
        "            keras.layers.Conv2D(filters = int(128*alpha), kernel_size=[3,3], strides=[1,2], use_bias=False, activation='relu'), \n",
        "            keras.layers.BatchNormalization(momentum=0.1),\n",
        "            keras.layers.GlobalAveragePooling2D(),\n",
        "            keras.layers.Dense(8)\n",
        "        ])\n",
        "    \n",
        "    return model"
      ],
      "execution_count": null,
      "outputs": []
    },
    {
      "cell_type": "code",
      "metadata": {
        "id": "G0TOfKxwcn3f"
      },
      "source": [
        "alpha = 1\n",
        "mfcc = True\n",
        "#number_of_clusters = 8\n",
        "    \n",
        "optimizer = tf.keras.optimizers.Adam(learning_rate = 0.02)\n",
        "loss = tf.keras.losses.SparseCategoricalCrossentropy(from_logits=True)\n",
        "metric = tf.keras.metrics.SparseCategoricalAccuracy()\n",
        "n_epochs = 20\n",
        "model_name = 'cnn'\n",
        "\n",
        "def scheduler(epoch, lr):\n",
        "    if epoch == 10 or epoch == 17:\n",
        "        return lr*0.1   \n",
        "    return lr"
      ],
      "execution_count": null,
      "outputs": []
    },
    {
      "cell_type": "code",
      "metadata": {
        "id": "zNYfRzEwcn3g"
      },
      "source": [
        "# Callbacks\n",
        "early_stopping = tf.keras.callbacks.EarlyStopping(monitor = 'val_loss', mode = 'min', min_delta = 0.005, patience = 5)\n",
        "\n",
        "checkpoint = tf.keras.callbacks.ModelCheckpoint( './solutions Group16/Group16_big', \n",
        "                                                 save_best_only = True,\n",
        "                                                 save_weights_only = True,\n",
        "                                                 monitor = 'val_loss',\n",
        "                                                 mode = 'min')\n",
        "\n",
        "schedule_callback = tf.keras.callbacks.LearningRateScheduler(schedule = scheduler)"
      ],
      "execution_count": null,
      "outputs": []
    },
    {
      "cell_type": "code",
      "metadata": {
        "id": "vDcjbw3lcn3g",
        "outputId": "bfe087a8-1d10-423d-9575-ada53c838f66"
      },
      "source": [
        "cnn = model_creation(model_name, alpha, mfcc = mfcc)\n",
        "\n",
        "cnn.compile(optimizer = optimizer,\n",
        "            loss = loss,              \n",
        "            metrics = metric)\n",
        "\n",
        "cnn.fit(train_ds, epochs = n_epochs, validation_data=val_ds, callbacks = [schedule_callback, checkpoint])"
      ],
      "execution_count": null,
      "outputs": [
        {
          "output_type": "stream",
          "text": [
            "Epoch 1/20\n",
            "200/200 [==============================] - 23s 114ms/step - loss: 1.2840 - sparse_categorical_accuracy: 0.5525 - val_loss: 1.2715 - val_sparse_categorical_accuracy: 0.5675\n",
            "Epoch 2/20\n",
            "200/200 [==============================] - 15s 73ms/step - loss: 0.6555 - sparse_categorical_accuracy: 0.7836 - val_loss: 0.5414 - val_sparse_categorical_accuracy: 0.8075\n",
            "Epoch 3/20\n",
            "200/200 [==============================] - 14s 72ms/step - loss: 0.4898 - sparse_categorical_accuracy: 0.8367 - val_loss: 0.5411 - val_sparse_categorical_accuracy: 0.8338\n",
            "Epoch 4/20\n",
            "200/200 [==============================] - 15s 74ms/step - loss: 0.4031 - sparse_categorical_accuracy: 0.8641 - val_loss: 0.3400 - val_sparse_categorical_accuracy: 0.8975\n",
            "Epoch 5/20\n",
            "200/200 [==============================] - 14s 69ms/step - loss: 0.3335 - sparse_categorical_accuracy: 0.8888 - val_loss: 0.4279 - val_sparse_categorical_accuracy: 0.8487\n",
            "Epoch 6/20\n",
            "200/200 [==============================] - 14s 68ms/step - loss: 0.2762 - sparse_categorical_accuracy: 0.9070 - val_loss: 0.5848 - val_sparse_categorical_accuracy: 0.8487\n",
            "Epoch 7/20\n",
            "200/200 [==============================] - 14s 71ms/step - loss: 0.2711 - sparse_categorical_accuracy: 0.9098 - val_loss: 0.3835 - val_sparse_categorical_accuracy: 0.8687\n",
            "Epoch 8/20\n",
            "200/200 [==============================] - 14s 69ms/step - loss: 0.2508 - sparse_categorical_accuracy: 0.9164 - val_loss: 0.3311 - val_sparse_categorical_accuracy: 0.9038\n",
            "Epoch 9/20\n",
            "200/200 [==============================] - 14s 71ms/step - loss: 0.2220 - sparse_categorical_accuracy: 0.9237 - val_loss: 0.4637 - val_sparse_categorical_accuracy: 0.8650\n",
            "Epoch 10/20\n",
            "200/200 [==============================] - 14s 72ms/step - loss: 0.1797 - sparse_categorical_accuracy: 0.9392 - val_loss: 0.4894 - val_sparse_categorical_accuracy: 0.8750\n",
            "Epoch 11/20\n",
            "200/200 [==============================] - 14s 72ms/step - loss: 0.1324 - sparse_categorical_accuracy: 0.9589 - val_loss: 0.3553 - val_sparse_categorical_accuracy: 0.9013\n",
            "Epoch 12/20\n",
            "200/200 [==============================] - 14s 71ms/step - loss: 0.0960 - sparse_categorical_accuracy: 0.9712 - val_loss: 0.3228 - val_sparse_categorical_accuracy: 0.8975\n",
            "Epoch 13/20\n",
            "200/200 [==============================] - 14s 71ms/step - loss: 0.0858 - sparse_categorical_accuracy: 0.9745 - val_loss: 0.3021 - val_sparse_categorical_accuracy: 0.9112\n",
            "Epoch 14/20\n",
            "200/200 [==============================] - 14s 70ms/step - loss: 0.0804 - sparse_categorical_accuracy: 0.9759 - val_loss: 0.4154 - val_sparse_categorical_accuracy: 0.9013\n",
            "Epoch 15/20\n",
            "200/200 [==============================] - 14s 71ms/step - loss: 0.0749 - sparse_categorical_accuracy: 0.9778 - val_loss: 0.2714 - val_sparse_categorical_accuracy: 0.9212\n",
            "Epoch 16/20\n",
            "200/200 [==============================] - 14s 70ms/step - loss: 0.0702 - sparse_categorical_accuracy: 0.9798 - val_loss: 0.3091 - val_sparse_categorical_accuracy: 0.9062\n",
            "Epoch 17/20\n",
            "200/200 [==============================] - 14s 70ms/step - loss: 0.0675 - sparse_categorical_accuracy: 0.9795 - val_loss: 0.2768 - val_sparse_categorical_accuracy: 0.9150\n",
            "Epoch 18/20\n",
            "200/200 [==============================] - 14s 70ms/step - loss: 0.0602 - sparse_categorical_accuracy: 0.9837 - val_loss: 0.3446 - val_sparse_categorical_accuracy: 0.9100\n",
            "Epoch 19/20\n",
            "200/200 [==============================] - 15s 73ms/step - loss: 0.0595 - sparse_categorical_accuracy: 0.9834 - val_loss: 0.3003 - val_sparse_categorical_accuracy: 0.9162\n",
            "Epoch 20/20\n",
            "200/200 [==============================] - 15s 76ms/step - loss: 0.0591 - sparse_categorical_accuracy: 0.9834 - val_loss: 0.3080 - val_sparse_categorical_accuracy: 0.9125\n"
          ],
          "name": "stdout"
        },
        {
          "output_type": "execute_result",
          "data": {
            "text/plain": [
              "<tensorflow.python.keras.callbacks.History at 0x186f03ee710>"
            ]
          },
          "metadata": {
            "tags": []
          },
          "execution_count": 94
        }
      ]
    },
    {
      "cell_type": "code",
      "metadata": {
        "id": "jyMNOW6lcn3h",
        "outputId": "a01f04a0-62aa-40a0-f399-d0ed67abbedb"
      },
      "source": [
        "cnn.load_weights('./solutions Group16/Group16_kws_'+version)\n",
        "test_loss, test_accuracy = cnn.evaluate(test_ds, verbose=2)\n",
        "test_accuracy"
      ],
      "execution_count": null,
      "outputs": [
        {
          "output_type": "stream",
          "text": [
            "25/25 - 2s - loss: 0.3046 - sparse_categorical_accuracy: 0.9100\n"
          ],
          "name": "stdout"
        },
        {
          "output_type": "execute_result",
          "data": {
            "text/plain": [
              "0.9100000262260437"
            ]
          },
          "metadata": {
            "tags": []
          },
          "execution_count": 95
        }
      ]
    },
    {
      "cell_type": "code",
      "metadata": {
        "id": "QmKgxU9Ncn3h",
        "outputId": "012612f2-11be-4f41-c43c-3a86d9c667a1"
      },
      "source": [
        "'''\n",
        "# Weights clustering\n",
        "cnn_clustered = tfmot.clustering.keras.cluster_weights(cnn, \n",
        "                                            number_of_clusters = number_of_clusters,\n",
        "                                            cluster_centroids_init = tfmot.clustering.keras.CentroidInitialization.LINEAR)\n",
        "\n",
        "cnn_clustered.compile(optimizer = optimizer,\n",
        "            loss = loss,              \n",
        "            metrics = metric)\n",
        "\n",
        "cnn_clustered.fit(train_ds, epochs = n_epochs, validation_data=val_ds, callbacks = [checkpoint, schedule_callback, early_stopping])\n",
        "'''"
      ],
      "execution_count": null,
      "outputs": [
        {
          "output_type": "stream",
          "text": [
            "Epoch 1/20\n",
            "200/200 [==============================] - 10s 49ms/step - loss: 0.1215 - sparse_categorical_accuracy: 0.9543 - val_loss: 0.2890 - val_sparse_categorical_accuracy: 0.9100\n",
            "Epoch 2/20\n",
            "200/200 [==============================] - 10s 48ms/step - loss: 0.1034 - sparse_categorical_accuracy: 0.9623 - val_loss: 0.2857 - val_sparse_categorical_accuracy: 0.9187\n",
            "Epoch 3/20\n",
            "200/200 [==============================] - 10s 48ms/step - loss: 0.0974 - sparse_categorical_accuracy: 0.9653 - val_loss: 0.3783 - val_sparse_categorical_accuracy: 0.9275\n",
            "Epoch 4/20\n",
            "200/200 [==============================] - 10s 48ms/step - loss: 0.0943 - sparse_categorical_accuracy: 0.9650 - val_loss: 0.3351 - val_sparse_categorical_accuracy: 0.9225\n",
            "Epoch 5/20\n",
            "200/200 [==============================] - 10s 48ms/step - loss: 0.0933 - sparse_categorical_accuracy: 0.9694 - val_loss: 0.2899 - val_sparse_categorical_accuracy: 0.9250\n",
            "Epoch 6/20\n",
            "200/200 [==============================] - 9s 47ms/step - loss: 0.0895 - sparse_categorical_accuracy: 0.9684 - val_loss: 0.3251 - val_sparse_categorical_accuracy: 0.9200\n"
          ],
          "name": "stdout"
        },
        {
          "output_type": "execute_result",
          "data": {
            "text/plain": [
              "<tensorflow.python.keras.callbacks.History at 0x18680b4da58>"
            ]
          },
          "metadata": {
            "tags": []
          },
          "execution_count": 96
        }
      ]
    },
    {
      "cell_type": "code",
      "metadata": {
        "id": "4jADzyhScn3h",
        "outputId": "be2f8e52-d679-4ab8-8e04-935f194fe590"
      },
      "source": [
        "'''\n",
        "cnn_clustered.load_weights('./solutions Group16/Group16_kws_'+version)\n",
        "test_loss, test_accuracy = cnn_clustered.evaluate(test_ds, verbose=2)\n",
        "test_accuracy\n",
        "'''"
      ],
      "execution_count": null,
      "outputs": [
        {
          "output_type": "stream",
          "text": [
            "25/25 - 0s - loss: 0.3760 - sparse_categorical_accuracy: 0.9175\n"
          ],
          "name": "stdout"
        },
        {
          "output_type": "execute_result",
          "data": {
            "text/plain": [
              "0.9175000190734863"
            ]
          },
          "metadata": {
            "tags": []
          },
          "execution_count": 97
        }
      ]
    },
    {
      "cell_type": "code",
      "metadata": {
        "id": "-cyrzBxxcn3i",
        "outputId": "9a19119b-1294-4617-d063-a61b2a8ddd75"
      },
      "source": [
        "'''\n",
        "# Save the clustered model\n",
        "cnn_clustered = tfmot.clustering.keras.strip_clustering(cnn_clustered)\n",
        "cnn_clustered.save('./solutions Group16/Group16_kws_'+version)\n",
        "'''"
      ],
      "execution_count": null,
      "outputs": [
        {
          "output_type": "stream",
          "text": [
            "INFO:tensorflow:Assets written to: ./solutions Group16/Group16_kws_c\\assets\n"
          ],
          "name": "stdout"
        },
        {
          "output_type": "stream",
          "text": [
            "INFO:tensorflow:Assets written to: ./solutions Group16/Group16_kws_c\\assets\n"
          ],
          "name": "stderr"
        }
      ]
    },
    {
      "cell_type": "code",
      "metadata": {
        "id": "ZWFOKFF4cn3i"
      },
      "source": [
        "# Save the model\n",
        "cnn.save('./solutions Group16/Group16_kws_'+version)"
      ],
      "execution_count": null,
      "outputs": []
    },
    {
      "cell_type": "code",
      "metadata": {
        "id": "hdpJxuKvcn3i"
      },
      "source": [
        "# Save the tflite\n",
        "converter = tf.lite.TFLiteConverter.from_saved_model('./solutions Group16/Group16_kws_'+version)\n",
        "    \n",
        "tflite_model = converter.convert()\n",
        "\n",
        "with open('./Group16_kws_'+version+'.tflite.zlib', 'wb') as fp:\n",
        "    fp.write(tflite_model)"
      ],
      "execution_count": null,
      "outputs": []
    },
    {
      "cell_type": "code",
      "metadata": {
        "id": "cpSQ1m8Tcn3i"
      },
      "source": [
        "tflite_model = converter.convert()\n",
        "\n",
        "with open('./Group16_kws_'+version+'.tflite.zlib', 'wb') as fp:\n",
        "    tflite_compressed = zlib.compress(tflite_model)\n",
        "    fp.write(tflite_compressed)"
      ],
      "execution_count": null,
      "outputs": []
    },
    {
      "cell_type": "code",
      "metadata": {
        "id": "d6Y80wgScn3j"
      },
      "source": [
        "# Delete the directory with keras models and checkpoints\n",
        "shutil.rmtree('solutions Group16', ignore_errors=True)"
      ],
      "execution_count": null,
      "outputs": []
    },
    {
      "cell_type": "code",
      "metadata": {
        "id": "Nfsqx6Jkcn3j"
      },
      "source": [
        "# Test the model\n",
        "test_ds_tflite = test_ds.unbatch().batch(1)\n",
        "\n",
        "def acc_inference(interpreter):\n",
        "    \n",
        "    interpreter.allocate_tensors()\n",
        "    input_details = interpreter.get_input_details() \n",
        "    output_details = interpreter.get_output_details()\n",
        "    \n",
        "    acc = tf.keras.metrics.SparseCategoricalAccuracy()\n",
        "    \n",
        "    for (x,y) in test_ds_tflite:\n",
        "        interpreter.set_tensor(input_details[0][\"index\"], x)\n",
        "        interpreter.invoke()\n",
        "        y_pred = interpreter.get_tensor(output_details[0][\"index\"])\n",
        "        \n",
        "        y_true = y\n",
        "        acc.update_state(y_true, y_pred)\n",
        "    \n",
        "    return acc.result().numpy()"
      ],
      "execution_count": null,
      "outputs": []
    },
    {
      "cell_type": "code",
      "metadata": {
        "id": "kXRzW_jIcn3j",
        "outputId": "1f17da9c-8853-4739-92ff-8a0e4b10a120"
      },
      "source": [
        "with open('Group16_kws_'+version+'.tflite.zlib', 'rb') as fp:\n",
        "    model_zip = zlib.decompress(fp.read())\n",
        "    interpreter = tf.lite.Interpreter(model_content=model_zip)\n",
        "    tflite_acc = acc_inference(interpreter)\n",
        "tflite_acc, os.path.getsize('Group16_kws_'+version+'.tflite.zlib')"
      ],
      "execution_count": null,
      "outputs": [
        {
          "output_type": "execute_result",
          "data": {
            "text/plain": [
              "(0.9175, 40190)"
            ]
          },
          "metadata": {
            "tags": []
          },
          "execution_count": 103
        }
      ]
    }
  ]
}