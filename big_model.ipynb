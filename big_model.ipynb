{
  "nbformat": 4,
  "nbformat_minor": 0,
  "metadata": {
    "accelerator": "GPU",
    "colab": {
      "name": "big_model.ipynb",
      "provenance": [],
      "collapsed_sections": [],
      "include_colab_link": true
    },
    "kernelspec": {
      "display_name": "Python 3",
      "language": "python",
      "name": "python3"
    },
    "language_info": {
      "codemirror_mode": {
        "name": "ipython",
        "version": 3
      },
      "file_extension": ".py",
      "mimetype": "text/x-python",
      "name": "python",
      "nbconvert_exporter": "python",
      "pygments_lexer": "ipython3",
      "version": "3.7.3"
    }
  },
  "cells": [
    {
      "cell_type": "markdown",
      "metadata": {
        "id": "view-in-github",
        "colab_type": "text"
      },
      "source": [
        "<a href=\"https://colab.research.google.com/github/Nicordaro/ml4iot_hw3/blob/main/big_model.ipynb\" target=\"_parent\"><img src=\"https://colab.research.google.com/assets/colab-badge.svg\" alt=\"Open In Colab\"/></a>"
      ]
    },
    {
      "cell_type": "code",
      "metadata": {
        "colab": {
          "base_uri": "https://localhost:8080/"
        },
        "id": "80PyM417dkcv",
        "outputId": "4335bd07-8d43-48d3-ca0f-aa4284edd881"
      },
      "source": [
        "pip install tensorflow_model_optimization"
      ],
      "execution_count": 21,
      "outputs": [
        {
          "output_type": "stream",
          "text": [
            "Requirement already satisfied: tensorflow_model_optimization in /usr/local/lib/python3.6/dist-packages (0.5.0)\n",
            "Requirement already satisfied: six~=1.10 in /usr/local/lib/python3.6/dist-packages (from tensorflow_model_optimization) (1.15.0)\n",
            "Requirement already satisfied: numpy~=1.14 in /usr/local/lib/python3.6/dist-packages (from tensorflow_model_optimization) (1.19.4)\n",
            "Requirement already satisfied: dm-tree~=0.1.1 in /usr/local/lib/python3.6/dist-packages (from tensorflow_model_optimization) (0.1.5)\n"
          ],
          "name": "stdout"
        }
      ]
    },
    {
      "cell_type": "code",
      "metadata": {
        "id": "QQ0ko-6beGek"
      },
      "source": [
        "import os\r\n",
        "# Clone github repository with data\r\n",
        "# if os.path.isdir('./Project_MLDL'):\r\n",
        "!rm -rf Project_MLDL\r\n",
        "DATA_DIR = './ml4iot_hw3'\r\n",
        "if not os.path.isdir(DATA_DIR):\r\n",
        "  !git clone https://github.com/Nicordaro/ml4iot_hw3\r\n"
      ],
      "execution_count": 22,
      "outputs": []
    },
    {
      "cell_type": "code",
      "metadata": {
        "id": "Ryt1AEmvcn3W"
      },
      "source": [
        "import argparse\n",
        "import os\n",
        "import numpy as np\n",
        "import tensorflow as tf\n",
        "from tensorflow import keras\n",
        "import tensorflow_model_optimization as tfmot\n",
        "import zlib\n",
        "import shutil\n",
        "\n",
        "'''\n",
        "parser = argparse.ArgumentParser()\n",
        "parser.add_argument('--version', type=str, required=False,\n",
        "        help='model version: a,b or c')\n",
        "args = parser.parse_args()\n",
        "\n",
        "version = args.version\n",
        "'''\n",
        "\n",
        "seed = 42\n",
        "tf.random.set_seed(seed)\n",
        "np.random.seed(seed)\n",
        "\n",
        "zip_path = tf.keras.utils.get_file(\n",
        "                origin = 'http://storage.googleapis.com/download.tensorflow.org/data/mini_speech_commands.zip',\n",
        "                fname = 'mini_speech_commands.zip',\n",
        "                extract = True,\n",
        "                cache_dir = '.',\n",
        "                cache_subdir = 'data')\n",
        "\n",
        "data_dir = os.path.join('.','data', 'mini_speech_commands')\n",
        "\n",
        "def filenames(path) :\n",
        "    with open(path, \"rb\") as fp:\n",
        "        arr = np.array(fp.read().splitlines())\n",
        "    return arr\n",
        "    \n",
        "train_files = filenames(DATA_DIR+\"/kws_train_split.txt\")\n",
        "val_files = filenames(DATA_DIR+\"/kws_val_split.txt\")\n",
        "test_files = filenames(DATA_DIR+\"/kws_test_split.txt\")\n",
        "\n",
        "LABELS = np.array(tf.io.gfile.listdir(str(data_dir)))\n",
        "LABELS = LABELS[LABELS != 'README.md']"
      ],
      "execution_count": 23,
      "outputs": []
    },
    {
      "cell_type": "code",
      "metadata": {
        "id": "3jLWOPgtcn3d"
      },
      "source": [
        "class SignalGenerator:\n",
        "    def __init__(self, labels, sampling_rate, frame_length, frame_step, num_mel_bins=None, lower_frequency=None,\n",
        "                upper_frequency=None, num_coefficients=None, mfcc=False):\n",
        "        \n",
        "        self.labels = labels\n",
        "        self.sampling_rate = sampling_rate \n",
        "        self.frame_length = frame_length  \n",
        "        self.frame_step = frame_step       \n",
        "        self.num_mel_bins = num_mel_bins   \n",
        "        self.lower_frequency = lower_frequency  \n",
        "        self.upper_frequency = upper_frequency  \n",
        "        self.num_coefficients = num_coefficients  \n",
        "        self.mfcc = mfcc  \n",
        "        \n",
        "        if mfcc is True:\n",
        "            self.preprocess = self.preprocess_with_mfcc\n",
        "        else :\n",
        "            self.preprocess = self.preprocess_with_stft\n",
        "            \n",
        "            \n",
        "    def read(self, file_path):\n",
        "        parts = tf.strings.split(file_path, os.path.sep)\n",
        "        label = parts[-2]  \n",
        "        label_id = tf.argmax(label == self.labels)\n",
        "        \n",
        "        audio_binary = tf.io.read_file(file_path)\n",
        "        audio,_ = tf.audio.decode_wav(audio_binary)\n",
        "        audio = tf.squeeze(audio, axis=1)  \n",
        "        audio = self.pad(audio)\n",
        "        \n",
        "        return audio, label_id\n",
        "    \n",
        "    def pad(self, audio):\n",
        "        zero_padding = tf.zeros([self.sampling_rate] - tf.shape(audio), dtype=tf.float32)\n",
        "        audio = tf.concat([audio, zero_padding], 0)\n",
        "        audio.set_shape([self.sampling_rate])\n",
        "        \n",
        "        return audio\n",
        "      \n",
        "    def preprocess_with_stft(self, file_path):\n",
        "        audio, label = self.read(file_path)\n",
        "        \n",
        "        stft = tf.signal.stft(audio, frame_length=self.frame_length, frame_step=self.frame_step, fft_length=self.frame_length)\n",
        "        spectrogram = tf.abs(stft)\n",
        "        \n",
        "        if self.mfcc == False:\n",
        "            spectrogram = tf.expand_dims(spectrogram, -1)\n",
        "            spectrogram = tf.image.resize(spectrogram, [50,50])\n",
        "            \n",
        "        return spectrogram, label\n",
        "    \n",
        "    \n",
        "    def preprocess_with_mfcc(self, file_path):\n",
        "        \n",
        "        spectrogram, label = self.preprocess_with_stft(file_path)\n",
        "        \n",
        "        num_spectrogram_bins = spectrogram.shape[-1]\n",
        "        linear_to_mel_weight_matrix = tf.signal.linear_to_mel_weight_matrix(self.num_mel_bins, num_spectrogram_bins,\n",
        "                                                                            self.sampling_rate, \n",
        "                                                                            self.lower_frequency, self.upper_frequency)\n",
        "        \n",
        "        mel_spectrogram = tf.tensordot(spectrogram, linear_to_mel_weight_matrix, 1)\n",
        "        log_mel_spectrogram = tf.math.log(mel_spectrogram + 1e-6)\n",
        "        mfccs = tf.signal.mfccs_from_log_mel_spectrograms(log_mel_spectrogram)[..., :self.num_coefficients]\n",
        "        mfccs = tf.expand_dims(mfccs, -1)\n",
        "          \n",
        "        return mfccs, label\n",
        "        \n",
        "    \n",
        "    def make_ds(self, filenames, train):\n",
        "        ds = tf.data.Dataset.from_tensor_slices(filenames)\n",
        "        ds = ds.map(self.preprocess, num_parallel_calls=4)\n",
        "        ds = ds.batch(32)\n",
        "        ds = ds.cache()\n",
        "        \n",
        "        if train == True:\n",
        "            ds = ds.shuffle(100, reshuffle_each_iteration=True)\n",
        "            \n",
        "        return ds"
      ],
      "execution_count": 24,
      "outputs": []
    },
    {
      "cell_type": "code",
      "metadata": {
        "id": "rnc5AEiecn3e"
      },
      "source": [
        "# Big model parameters\n",
        "sampling_rate = 16000\n",
        "frame_length = 640\n",
        "frame_step = 320\n",
        "num_mel_bins = 40\n",
        "lower_frequency = 20\n",
        "upper_frequency = 4000\n",
        "num_mfccs = 10"
      ],
      "execution_count": 25,
      "outputs": []
    },
    {
      "cell_type": "code",
      "metadata": {
        "id": "XmFiOq9Qcn3e"
      },
      "source": [
        "# MFCC\n",
        "generator = SignalGenerator(LABELS, sampling_rate, frame_length, frame_step, num_mel_bins, \n",
        "                                lower_frequency, upper_frequency, num_mfccs, mfcc=True)                  \n",
        "\n",
        "train_ds = generator.make_ds(train_files, True)\n",
        "val_ds = generator.make_ds(val_files, False)\n",
        "test_ds = generator.make_ds(test_files, False)"
      ],
      "execution_count": 26,
      "outputs": []
    },
    {
      "cell_type": "code",
      "metadata": {
        "id": "wH80Vvzvcn3e"
      },
      "source": [
        "next(iter(train_ds))[0][0].shape"
      ],
      "execution_count": null,
      "outputs": []
    },
    {
      "cell_type": "code",
      "metadata": {
        "id": "mpgnTTFocn3f"
      },
      "source": [
        "def model_creation(name, alpha, mfcc=True):\n",
        "    \n",
        "    stride = [2,1]\n",
        "    input_shape = (49,num_mfccs) \n",
        "        \n",
        "    if name == \"cnn\":\n",
        "        model = keras.Sequential([\n",
        "            keras.layers.Conv2D(filters = int(128*alpha), kernel_size=[3,3], strides=stride, use_bias=False, activation='relu'), \n",
        "            keras.layers.BatchNormalization(momentum=0.1),\n",
        "            keras.layers.Conv2D(filters = int(128*alpha), kernel_size=[3,3], strides=[1,1], use_bias=False, activation='relu'), \n",
        "            keras.layers.BatchNormalization(momentum=0.1),\n",
        "            keras.layers.Conv2D(filters = int(128*alpha), kernel_size=[3,3], strides=[1,1], use_bias=False, activation='relu'), \n",
        "            keras.layers.BatchNormalization(momentum=0.1),\n",
        "            keras.layers.GlobalAveragePooling2D(),\n",
        "            keras.layers.Dense(8)\n",
        "        ])\n",
        "    \n",
        "    return model"
      ],
      "execution_count": null,
      "outputs": []
    },
    {
      "cell_type": "code",
      "metadata": {
        "id": "G0TOfKxwcn3f"
      },
      "source": [
        "alpha = 1\n",
        "mfcc = True\n",
        "#number_of_clusters = 8\n",
        "    \n",
        "optimizer = tf.keras.optimizers.Adam(learning_rate = 0.02)\n",
        "loss = tf.keras.losses.SparseCategoricalCrossentropy(from_logits=True)\n",
        "metric = tf.keras.metrics.SparseCategoricalAccuracy()\n",
        "n_epochs = 20\n",
        "model_name = 'cnn'\n",
        "\n",
        "def scheduler(epoch, lr):\n",
        "    if epoch == 10 or epoch == 17:\n",
        "        return lr*0.1   \n",
        "    return lr"
      ],
      "execution_count": null,
      "outputs": []
    },
    {
      "cell_type": "code",
      "metadata": {
        "id": "zNYfRzEwcn3g"
      },
      "source": [
        "# Callbacks\n",
        "early_stopping = tf.keras.callbacks.EarlyStopping(monitor = 'val_loss', mode = 'min', min_delta = 0.005, patience = 5)\n",
        "\n",
        "checkpoint = tf.keras.callbacks.ModelCheckpoint( './solutions Group16/Group16_big', \n",
        "                                                 save_best_only = True,\n",
        "                                                 save_weights_only = True,\n",
        "                                                 monitor = 'val_loss',\n",
        "                                                 mode = 'min')\n",
        "\n",
        "schedule_callback = tf.keras.callbacks.LearningRateScheduler(schedule = scheduler)"
      ],
      "execution_count": null,
      "outputs": []
    },
    {
      "cell_type": "code",
      "metadata": {
        "id": "vDcjbw3lcn3g",
        "colab": {
          "base_uri": "https://localhost:8080/"
        },
        "outputId": "4bc72fb3-637b-452f-b793-43d386de763f"
      },
      "source": [
        "cnn = model_creation(model_name, alpha, mfcc = mfcc)\n",
        "\n",
        "cnn.compile(optimizer = optimizer,\n",
        "            loss = loss,              \n",
        "            metrics = metric)\n",
        "\n",
        "cnn.fit(train_ds, epochs = n_epochs, validation_data=val_ds, callbacks = [schedule_callback, checkpoint])"
      ],
      "execution_count": null,
      "outputs": [
        {
          "output_type": "stream",
          "text": [
            "Epoch 1/50\n",
            "200/200 [==============================] - 152s 419ms/step - loss: 1.8111 - sparse_categorical_accuracy: 0.3681 - val_loss: 0.6457 - val_sparse_categorical_accuracy: 0.7862\n",
            "Epoch 2/50\n",
            "200/200 [==============================] - 1s 5ms/step - loss: 0.6053 - sparse_categorical_accuracy: 0.7984 - val_loss: 0.4328 - val_sparse_categorical_accuracy: 0.8612\n",
            "Epoch 3/50\n",
            "200/200 [==============================] - 1s 4ms/step - loss: 0.3774 - sparse_categorical_accuracy: 0.8772 - val_loss: 0.3421 - val_sparse_categorical_accuracy: 0.8913\n",
            "Epoch 4/50\n",
            "200/200 [==============================] - 1s 4ms/step - loss: 0.2743 - sparse_categorical_accuracy: 0.9101 - val_loss: 0.2967 - val_sparse_categorical_accuracy: 0.9137\n",
            "Epoch 5/50\n",
            "200/200 [==============================] - 1s 4ms/step - loss: 0.2373 - sparse_categorical_accuracy: 0.9212 - val_loss: 0.2775 - val_sparse_categorical_accuracy: 0.9025\n",
            "Epoch 6/50\n",
            "200/200 [==============================] - 1s 4ms/step - loss: 0.1943 - sparse_categorical_accuracy: 0.9341 - val_loss: 0.2702 - val_sparse_categorical_accuracy: 0.9175\n",
            "Epoch 7/50\n",
            "200/200 [==============================] - 1s 4ms/step - loss: 0.1996 - sparse_categorical_accuracy: 0.9307 - val_loss: 0.2580 - val_sparse_categorical_accuracy: 0.9137\n",
            "Epoch 8/50\n",
            "200/200 [==============================] - 1s 4ms/step - loss: 0.1450 - sparse_categorical_accuracy: 0.9540 - val_loss: 0.2821 - val_sparse_categorical_accuracy: 0.9175\n",
            "Epoch 9/50\n",
            "200/200 [==============================] - 1s 4ms/step - loss: 0.1484 - sparse_categorical_accuracy: 0.9521 - val_loss: 0.3710 - val_sparse_categorical_accuracy: 0.9087\n",
            "Epoch 10/50\n",
            "200/200 [==============================] - 1s 4ms/step - loss: 0.1462 - sparse_categorical_accuracy: 0.9500 - val_loss: 0.2669 - val_sparse_categorical_accuracy: 0.9237\n",
            "Epoch 11/50\n",
            "200/200 [==============================] - 1s 4ms/step - loss: 0.1230 - sparse_categorical_accuracy: 0.9551 - val_loss: 0.3156 - val_sparse_categorical_accuracy: 0.9162\n",
            "Epoch 12/50\n",
            "200/200 [==============================] - 1s 4ms/step - loss: 0.0787 - sparse_categorical_accuracy: 0.9726 - val_loss: 0.2490 - val_sparse_categorical_accuracy: 0.9325\n",
            "Epoch 13/50\n",
            "200/200 [==============================] - 1s 4ms/step - loss: 0.0797 - sparse_categorical_accuracy: 0.9738 - val_loss: 0.3248 - val_sparse_categorical_accuracy: 0.9312\n",
            "Epoch 14/50\n",
            "200/200 [==============================] - 1s 4ms/step - loss: 0.0803 - sparse_categorical_accuracy: 0.9766 - val_loss: 2.9165 - val_sparse_categorical_accuracy: 0.9137\n",
            "Epoch 15/50\n",
            "200/200 [==============================] - 1s 4ms/step - loss: 0.0982 - sparse_categorical_accuracy: 0.9655 - val_loss: 0.5203 - val_sparse_categorical_accuracy: 0.9337\n",
            "Epoch 16/50\n",
            "200/200 [==============================] - 1s 4ms/step - loss: 0.0642 - sparse_categorical_accuracy: 0.9777 - val_loss: 0.2765 - val_sparse_categorical_accuracy: 0.9450\n",
            "Epoch 17/50\n",
            "200/200 [==============================] - 1s 4ms/step - loss: 0.0487 - sparse_categorical_accuracy: 0.9855 - val_loss: 0.3491 - val_sparse_categorical_accuracy: 0.9162\n",
            "Epoch 18/50\n",
            "200/200 [==============================] - 1s 4ms/step - loss: 0.0752 - sparse_categorical_accuracy: 0.9776 - val_loss: 0.5056 - val_sparse_categorical_accuracy: 0.9175\n",
            "Epoch 19/50\n",
            "200/200 [==============================] - 1s 4ms/step - loss: 0.0626 - sparse_categorical_accuracy: 0.9771 - val_loss: 0.5668 - val_sparse_categorical_accuracy: 0.9087\n",
            "Epoch 20/50\n",
            "200/200 [==============================] - 1s 4ms/step - loss: 0.1095 - sparse_categorical_accuracy: 0.9669 - val_loss: 0.4320 - val_sparse_categorical_accuracy: 0.9125\n",
            "Epoch 21/50\n",
            "200/200 [==============================] - 1s 4ms/step - loss: 0.0750 - sparse_categorical_accuracy: 0.9784 - val_loss: 0.5933 - val_sparse_categorical_accuracy: 0.9325\n",
            "Epoch 22/50\n",
            "200/200 [==============================] - 1s 4ms/step - loss: 0.0257 - sparse_categorical_accuracy: 0.9923 - val_loss: 0.6256 - val_sparse_categorical_accuracy: 0.9287\n",
            "Epoch 23/50\n",
            "200/200 [==============================] - 1s 4ms/step - loss: 0.0199 - sparse_categorical_accuracy: 0.9951 - val_loss: 0.3892 - val_sparse_categorical_accuracy: 0.9325\n",
            "Epoch 24/50\n",
            "200/200 [==============================] - 1s 4ms/step - loss: 0.0140 - sparse_categorical_accuracy: 0.9969 - val_loss: 0.4960 - val_sparse_categorical_accuracy: 0.9200\n",
            "Epoch 25/50\n",
            "200/200 [==============================] - 1s 4ms/step - loss: 0.0149 - sparse_categorical_accuracy: 0.9960 - val_loss: 0.5199 - val_sparse_categorical_accuracy: 0.9300\n",
            "Epoch 26/50\n",
            "200/200 [==============================] - 1s 4ms/step - loss: 0.0111 - sparse_categorical_accuracy: 0.9987 - val_loss: 0.4712 - val_sparse_categorical_accuracy: 0.9312\n",
            "Epoch 27/50\n",
            "200/200 [==============================] - 1s 4ms/step - loss: 0.0105 - sparse_categorical_accuracy: 0.9986 - val_loss: 0.5967 - val_sparse_categorical_accuracy: 0.9275\n",
            "Epoch 28/50\n",
            "200/200 [==============================] - 1s 4ms/step - loss: 0.0096 - sparse_categorical_accuracy: 0.9982 - val_loss: 0.4410 - val_sparse_categorical_accuracy: 0.9300\n",
            "Epoch 29/50\n",
            "200/200 [==============================] - 1s 4ms/step - loss: 0.0086 - sparse_categorical_accuracy: 0.9987 - val_loss: 0.5560 - val_sparse_categorical_accuracy: 0.9350\n",
            "Epoch 30/50\n",
            "200/200 [==============================] - 1s 4ms/step - loss: 0.0062 - sparse_categorical_accuracy: 0.9993 - val_loss: 0.3449 - val_sparse_categorical_accuracy: 0.9287\n",
            "Epoch 31/50\n",
            "200/200 [==============================] - 1s 4ms/step - loss: 0.0056 - sparse_categorical_accuracy: 0.9998 - val_loss: 0.7279 - val_sparse_categorical_accuracy: 0.9200\n",
            "Epoch 32/50\n",
            "200/200 [==============================] - 1s 4ms/step - loss: 0.0051 - sparse_categorical_accuracy: 1.0000 - val_loss: 0.5138 - val_sparse_categorical_accuracy: 0.9250\n",
            "Epoch 33/50\n",
            "200/200 [==============================] - 1s 4ms/step - loss: 0.0043 - sparse_categorical_accuracy: 1.0000 - val_loss: 0.4435 - val_sparse_categorical_accuracy: 0.9300\n",
            "Epoch 34/50\n",
            "200/200 [==============================] - 1s 4ms/step - loss: 0.0033 - sparse_categorical_accuracy: 1.0000 - val_loss: 0.4032 - val_sparse_categorical_accuracy: 0.9300\n",
            "Epoch 35/50\n",
            "200/200 [==============================] - 1s 4ms/step - loss: 0.0028 - sparse_categorical_accuracy: 1.0000 - val_loss: 0.4524 - val_sparse_categorical_accuracy: 0.9275\n",
            "Epoch 36/50\n",
            "200/200 [==============================] - 1s 4ms/step - loss: 0.0022 - sparse_categorical_accuracy: 1.0000 - val_loss: 0.6517 - val_sparse_categorical_accuracy: 0.9237\n",
            "Epoch 37/50\n",
            "200/200 [==============================] - 1s 4ms/step - loss: 0.0022 - sparse_categorical_accuracy: 1.0000 - val_loss: 0.4924 - val_sparse_categorical_accuracy: 0.9325\n",
            "Epoch 38/50\n",
            "200/200 [==============================] - 1s 4ms/step - loss: 0.0018 - sparse_categorical_accuracy: 1.0000 - val_loss: 0.7647 - val_sparse_categorical_accuracy: 0.9225\n",
            "Epoch 39/50\n",
            "200/200 [==============================] - 1s 4ms/step - loss: 0.0017 - sparse_categorical_accuracy: 1.0000 - val_loss: 0.4640 - val_sparse_categorical_accuracy: 0.9287\n",
            "Epoch 40/50\n",
            "200/200 [==============================] - 1s 4ms/step - loss: 0.0014 - sparse_categorical_accuracy: 1.0000 - val_loss: 0.4028 - val_sparse_categorical_accuracy: 0.9325\n",
            "Epoch 41/50\n",
            "200/200 [==============================] - 1s 4ms/step - loss: 0.0012 - sparse_categorical_accuracy: 1.0000 - val_loss: 0.3021 - val_sparse_categorical_accuracy: 0.9300\n",
            "Epoch 42/50\n",
            "200/200 [==============================] - 1s 4ms/step - loss: 0.0012 - sparse_categorical_accuracy: 1.0000 - val_loss: 0.5043 - val_sparse_categorical_accuracy: 0.9262\n",
            "Epoch 43/50\n",
            "200/200 [==============================] - 1s 4ms/step - loss: 0.0011 - sparse_categorical_accuracy: 1.0000 - val_loss: 0.7579 - val_sparse_categorical_accuracy: 0.9250\n",
            "Epoch 44/50\n",
            "200/200 [==============================] - 1s 4ms/step - loss: 0.0011 - sparse_categorical_accuracy: 1.0000 - val_loss: 0.5513 - val_sparse_categorical_accuracy: 0.9312\n",
            "Epoch 45/50\n",
            "200/200 [==============================] - 1s 4ms/step - loss: 0.0010 - sparse_categorical_accuracy: 1.0000 - val_loss: 0.4294 - val_sparse_categorical_accuracy: 0.9350\n",
            "Epoch 46/50\n",
            "200/200 [==============================] - 1s 4ms/step - loss: 0.0011 - sparse_categorical_accuracy: 1.0000 - val_loss: 0.3372 - val_sparse_categorical_accuracy: 0.9325\n",
            "Epoch 47/50\n",
            "200/200 [==============================] - 1s 4ms/step - loss: 0.0011 - sparse_categorical_accuracy: 1.0000 - val_loss: 0.7253 - val_sparse_categorical_accuracy: 0.9212\n",
            "Epoch 48/50\n",
            "200/200 [==============================] - 1s 4ms/step - loss: 9.3484e-04 - sparse_categorical_accuracy: 1.0000 - val_loss: 0.5609 - val_sparse_categorical_accuracy: 0.9275\n",
            "Epoch 49/50\n",
            "200/200 [==============================] - 1s 4ms/step - loss: 0.0011 - sparse_categorical_accuracy: 1.0000 - val_loss: 0.6774 - val_sparse_categorical_accuracy: 0.9250\n",
            "Epoch 50/50\n",
            "200/200 [==============================] - 1s 5ms/step - loss: 0.0011 - sparse_categorical_accuracy: 1.0000 - val_loss: 0.4686 - val_sparse_categorical_accuracy: 0.9287\n"
          ],
          "name": "stdout"
        },
        {
          "output_type": "execute_result",
          "data": {
            "text/plain": [
              "<tensorflow.python.keras.callbacks.History at 0x7efd7cc02898>"
            ]
          },
          "metadata": {
            "tags": []
          },
          "execution_count": 22
        }
      ]
    },
    {
      "cell_type": "code",
      "metadata": {
        "id": "jyMNOW6lcn3h",
        "colab": {
          "base_uri": "https://localhost:8080/"
        },
        "outputId": "3aba561b-67ab-42dd-c67f-adcb9947cacd"
      },
      "source": [
        "cnn.load_weights('./solutions Group16/Group16_big')\n",
        "test_loss, test_accuracy = cnn.evaluate(test_ds, verbose=2)\n",
        "test_accuracy"
      ],
      "execution_count": null,
      "outputs": [
        {
          "output_type": "stream",
          "text": [
            "25/25 - 0s - loss: 0.2687 - sparse_categorical_accuracy: 0.9212\n"
          ],
          "name": "stdout"
        },
        {
          "output_type": "execute_result",
          "data": {
            "text/plain": [
              "0.9212499856948853"
            ]
          },
          "metadata": {
            "tags": []
          },
          "execution_count": 24
        }
      ]
    },
    {
      "cell_type": "code",
      "metadata": {
        "id": "QmKgxU9Ncn3h",
        "outputId": "012612f2-11be-4f41-c43c-3a86d9c667a1"
      },
      "source": [
        "'''\n",
        "# Weights clustering\n",
        "cnn_clustered = tfmot.clustering.keras.cluster_weights(cnn, \n",
        "                                            number_of_clusters = number_of_clusters,\n",
        "                                            cluster_centroids_init = tfmot.clustering.keras.CentroidInitialization.LINEAR)\n",
        "\n",
        "cnn_clustered.compile(optimizer = optimizer,\n",
        "            loss = loss,              \n",
        "            metrics = metric)\n",
        "\n",
        "cnn_clustered.fit(train_ds, epochs = n_epochs, validation_data=val_ds, callbacks = [checkpoint, schedule_callback, early_stopping])\n",
        "'''"
      ],
      "execution_count": null,
      "outputs": [
        {
          "output_type": "stream",
          "text": [
            "Epoch 1/20\n",
            "200/200 [==============================] - 10s 49ms/step - loss: 0.1215 - sparse_categorical_accuracy: 0.9543 - val_loss: 0.2890 - val_sparse_categorical_accuracy: 0.9100\n",
            "Epoch 2/20\n",
            "200/200 [==============================] - 10s 48ms/step - loss: 0.1034 - sparse_categorical_accuracy: 0.9623 - val_loss: 0.2857 - val_sparse_categorical_accuracy: 0.9187\n",
            "Epoch 3/20\n",
            "200/200 [==============================] - 10s 48ms/step - loss: 0.0974 - sparse_categorical_accuracy: 0.9653 - val_loss: 0.3783 - val_sparse_categorical_accuracy: 0.9275\n",
            "Epoch 4/20\n",
            "200/200 [==============================] - 10s 48ms/step - loss: 0.0943 - sparse_categorical_accuracy: 0.9650 - val_loss: 0.3351 - val_sparse_categorical_accuracy: 0.9225\n",
            "Epoch 5/20\n",
            "200/200 [==============================] - 10s 48ms/step - loss: 0.0933 - sparse_categorical_accuracy: 0.9694 - val_loss: 0.2899 - val_sparse_categorical_accuracy: 0.9250\n",
            "Epoch 6/20\n",
            "200/200 [==============================] - 9s 47ms/step - loss: 0.0895 - sparse_categorical_accuracy: 0.9684 - val_loss: 0.3251 - val_sparse_categorical_accuracy: 0.9200\n"
          ],
          "name": "stdout"
        },
        {
          "output_type": "execute_result",
          "data": {
            "text/plain": [
              "<tensorflow.python.keras.callbacks.History at 0x18680b4da58>"
            ]
          },
          "metadata": {
            "tags": []
          },
          "execution_count": 96
        }
      ]
    },
    {
      "cell_type": "code",
      "metadata": {
        "id": "4jADzyhScn3h",
        "outputId": "be2f8e52-d679-4ab8-8e04-935f194fe590"
      },
      "source": [
        "'''\n",
        "cnn_clustered.load_weights('./solutions Group16/Group16_kws_'+version)\n",
        "test_loss, test_accuracy = cnn_clustered.evaluate(test_ds, verbose=2)\n",
        "test_accuracy\n",
        "'''"
      ],
      "execution_count": null,
      "outputs": [
        {
          "output_type": "stream",
          "text": [
            "25/25 - 0s - loss: 0.3760 - sparse_categorical_accuracy: 0.9175\n"
          ],
          "name": "stdout"
        },
        {
          "output_type": "execute_result",
          "data": {
            "text/plain": [
              "0.9175000190734863"
            ]
          },
          "metadata": {
            "tags": []
          },
          "execution_count": 97
        }
      ]
    },
    {
      "cell_type": "code",
      "metadata": {
        "id": "-cyrzBxxcn3i",
        "outputId": "9a19119b-1294-4617-d063-a61b2a8ddd75"
      },
      "source": [
        "'''\n",
        "# Save the clustered model\n",
        "cnn_clustered = tfmot.clustering.keras.strip_clustering(cnn_clustered)\n",
        "cnn_clustered.save('./solutions Group16/Group16_kws_'+version)\n",
        "'''"
      ],
      "execution_count": null,
      "outputs": [
        {
          "output_type": "stream",
          "text": [
            "INFO:tensorflow:Assets written to: ./solutions Group16/Group16_kws_c\\assets\n"
          ],
          "name": "stdout"
        },
        {
          "output_type": "stream",
          "text": [
            "INFO:tensorflow:Assets written to: ./solutions Group16/Group16_kws_c\\assets\n"
          ],
          "name": "stderr"
        }
      ]
    },
    {
      "cell_type": "code",
      "metadata": {
        "id": "ZWFOKFF4cn3i"
      },
      "source": [
        "# Save the model\n",
        "cnn.save('./solutions Group16/Group16_kws_'+version)"
      ],
      "execution_count": null,
      "outputs": []
    },
    {
      "cell_type": "code",
      "metadata": {
        "id": "hdpJxuKvcn3i"
      },
      "source": [
        "# Save the tflite\n",
        "converter = tf.lite.TFLiteConverter.from_saved_model('./solutions Group16/Group16_kws_'+version)\n",
        "    \n",
        "tflite_model = converter.convert()\n",
        "\n",
        "with open('./Group16_kws_'+version+'.tflite.zlib', 'wb') as fp:\n",
        "    fp.write(tflite_model)"
      ],
      "execution_count": null,
      "outputs": []
    },
    {
      "cell_type": "code",
      "metadata": {
        "id": "cpSQ1m8Tcn3i"
      },
      "source": [
        "tflite_model = converter.convert()\n",
        "\n",
        "with open('./Group16_kws_'+version+'.tflite.zlib', 'wb') as fp:\n",
        "    tflite_compressed = zlib.compress(tflite_model)\n",
        "    fp.write(tflite_compressed)"
      ],
      "execution_count": null,
      "outputs": []
    },
    {
      "cell_type": "code",
      "metadata": {
        "id": "d6Y80wgScn3j"
      },
      "source": [
        "# Delete the directory with keras models and checkpoints\n",
        "shutil.rmtree('solutions Group16', ignore_errors=True)"
      ],
      "execution_count": null,
      "outputs": []
    },
    {
      "cell_type": "code",
      "metadata": {
        "id": "Nfsqx6Jkcn3j"
      },
      "source": [
        "# Test the model\n",
        "test_ds_tflite = test_ds.unbatch().batch(1)\n",
        "\n",
        "def acc_inference(interpreter):\n",
        "    \n",
        "    interpreter.allocate_tensors()\n",
        "    input_details = interpreter.get_input_details() \n",
        "    output_details = interpreter.get_output_details()\n",
        "    \n",
        "    acc = tf.keras.metrics.SparseCategoricalAccuracy()\n",
        "    \n",
        "    for (x,y) in test_ds_tflite:\n",
        "        interpreter.set_tensor(input_details[0][\"index\"], x)\n",
        "        interpreter.invoke()\n",
        "        y_pred = interpreter.get_tensor(output_details[0][\"index\"])\n",
        "        \n",
        "        y_true = y\n",
        "        acc.update_state(y_true, y_pred)\n",
        "    \n",
        "    return acc.result().numpy()"
      ],
      "execution_count": null,
      "outputs": []
    },
    {
      "cell_type": "code",
      "metadata": {
        "id": "kXRzW_jIcn3j",
        "outputId": "1f17da9c-8853-4739-92ff-8a0e4b10a120"
      },
      "source": [
        "with open('Group16_kws_'+version+'.tflite.zlib', 'rb') as fp:\n",
        "    model_zip = zlib.decompress(fp.read())\n",
        "    interpreter = tf.lite.Interpreter(model_content=model_zip)\n",
        "    tflite_acc = acc_inference(interpreter)\n",
        "tflite_acc, os.path.getsize('Group16_kws_'+version+'.tflite.zlib')"
      ],
      "execution_count": null,
      "outputs": [
        {
          "output_type": "execute_result",
          "data": {
            "text/plain": [
              "(0.9175, 40190)"
            ]
          },
          "metadata": {
            "tags": []
          },
          "execution_count": 103
        }
      ]
    }
  ]
}