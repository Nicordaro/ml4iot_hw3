{
  "nbformat": 4,
  "nbformat_minor": 0,
  "metadata": {
    "accelerator": "GPU",
    "colab": {
      "name": "big_model.ipynb",
      "provenance": [],
      "collapsed_sections": [],
      "include_colab_link": true
    },
    "kernelspec": {
      "display_name": "Python 3",
      "language": "python",
      "name": "python3"
    },
    "language_info": {
      "codemirror_mode": {
        "name": "ipython",
        "version": 3
      },
      "file_extension": ".py",
      "mimetype": "text/x-python",
      "name": "python",
      "nbconvert_exporter": "python",
      "pygments_lexer": "ipython3",
      "version": "3.7.3"
    }
  },
  "cells": [
    {
      "cell_type": "markdown",
      "metadata": {
        "id": "view-in-github",
        "colab_type": "text"
      },
      "source": [
        "<a href=\"https://colab.research.google.com/github/Nicordaro/ml4iot_hw3/blob/main/big_model.ipynb\" target=\"_parent\"><img src=\"https://colab.research.google.com/assets/colab-badge.svg\" alt=\"Open In Colab\"/></a>"
      ]
    },
    {
      "cell_type": "code",
      "metadata": {
        "colab": {
          "base_uri": "https://localhost:8080/"
        },
        "id": "80PyM417dkcv",
        "outputId": "0af6f9f4-8a9c-4fb2-9bbd-db4a4216e73b"
      },
      "source": [
        "pip install tensorflow_model_optimization"
      ],
      "execution_count": 13,
      "outputs": [
        {
          "output_type": "stream",
          "text": [
            "Requirement already satisfied: tensorflow_model_optimization in /usr/local/lib/python3.6/dist-packages (0.5.0)\n",
            "Requirement already satisfied: six~=1.10 in /usr/local/lib/python3.6/dist-packages (from tensorflow_model_optimization) (1.15.0)\n",
            "Requirement already satisfied: numpy~=1.14 in /usr/local/lib/python3.6/dist-packages (from tensorflow_model_optimization) (1.19.4)\n",
            "Requirement already satisfied: dm-tree~=0.1.1 in /usr/local/lib/python3.6/dist-packages (from tensorflow_model_optimization) (0.1.5)\n"
          ],
          "name": "stdout"
        }
      ]
    },
    {
      "cell_type": "code",
      "metadata": {
        "id": "QQ0ko-6beGek"
      },
      "source": [
        "import os\r\n",
        "# Clone github repository with data\r\n",
        "# if os.path.isdir('./Project_MLDL'):\r\n",
        "!rm -rf Project_MLDL\r\n",
        "DATA_DIR = './ml4iot_hw3'\r\n",
        "if not os.path.isdir(DATA_DIR):\r\n",
        "  !git clone https://github.com/Nicordaro/ml4iot_hw3\r\n"
      ],
      "execution_count": 14,
      "outputs": []
    },
    {
      "cell_type": "code",
      "metadata": {
        "id": "Ryt1AEmvcn3W"
      },
      "source": [
        "import argparse\n",
        "import os\n",
        "import numpy as np\n",
        "import tensorflow as tf\n",
        "from tensorflow import keras\n",
        "import tensorflow_model_optimization as tfmot\n",
        "import zlib\n",
        "import shutil\n",
        "\n",
        "'''\n",
        "parser = argparse.ArgumentParser()\n",
        "parser.add_argument('--version', type=str, required=False,\n",
        "        help='model version: a,b or c')\n",
        "args = parser.parse_args()\n",
        "\n",
        "version = args.version\n",
        "'''\n",
        "\n",
        "seed = 42\n",
        "tf.random.set_seed(seed)\n",
        "np.random.seed(seed)\n",
        "\n",
        "zip_path = tf.keras.utils.get_file(\n",
        "                origin = 'http://storage.googleapis.com/download.tensorflow.org/data/mini_speech_commands.zip',\n",
        "                fname = 'mini_speech_commands.zip',\n",
        "                extract = True,\n",
        "                cache_dir = '.',\n",
        "                cache_subdir = 'data')\n",
        "\n",
        "data_dir = os.path.join('.','data', 'mini_speech_commands')\n",
        "\n",
        "def filenames(path) :\n",
        "    with open(path, \"rb\") as fp:\n",
        "        arr = np.array(fp.read().splitlines())\n",
        "    return arr\n",
        "    \n",
        "train_files = filenames(DATA_DIR+\"/kws_train_split.txt\")\n",
        "val_files = filenames(DATA_DIR+\"/kws_val_split.txt\")\n",
        "test_files = filenames(DATA_DIR+\"/kws_test_split.txt\")\n",
        "\n",
        "LABELS = np.array(tf.io.gfile.listdir(str(data_dir)))\n",
        "LABELS = LABELS[LABELS != 'README.md']"
      ],
      "execution_count": 15,
      "outputs": []
    },
    {
      "cell_type": "code",
      "metadata": {
        "id": "3jLWOPgtcn3d"
      },
      "source": [
        "class SignalGenerator:\n",
        "    def __init__(self, labels, sampling_rate, frame_length, frame_step, num_mel_bins=None, lower_frequency=None,\n",
        "                upper_frequency=None, num_coefficients=None, mfcc=False):\n",
        "        \n",
        "        self.labels = labels\n",
        "        self.sampling_rate = sampling_rate \n",
        "        self.frame_length = frame_length  \n",
        "        self.frame_step = frame_step       \n",
        "        self.num_mel_bins = num_mel_bins   \n",
        "        self.lower_frequency = lower_frequency  \n",
        "        self.upper_frequency = upper_frequency  \n",
        "        self.num_coefficients = num_coefficients  \n",
        "        self.mfcc = mfcc  \n",
        "        \n",
        "        if mfcc is True:\n",
        "            self.preprocess = self.preprocess_with_mfcc\n",
        "        else :\n",
        "            self.preprocess = self.preprocess_with_stft\n",
        "            \n",
        "            \n",
        "    def read(self, file_path):\n",
        "        parts = tf.strings.split(file_path, os.path.sep)\n",
        "        label = parts[-2]  \n",
        "        label_id = tf.argmax(label == self.labels)\n",
        "        \n",
        "        audio_binary = tf.io.read_file(file_path)\n",
        "        audio,_ = tf.audio.decode_wav(audio_binary)\n",
        "        audio = tf.squeeze(audio, axis=1)  \n",
        "        audio = self.pad(audio)\n",
        "        \n",
        "        return audio, label_id\n",
        "    \n",
        "    def pad(self, audio):\n",
        "        zero_padding = tf.zeros([self.sampling_rate] - tf.shape(audio), dtype=tf.float32)\n",
        "        audio = tf.concat([audio, zero_padding], 0)\n",
        "        audio.set_shape([self.sampling_rate])\n",
        "        \n",
        "        return audio\n",
        "      \n",
        "    def preprocess_with_stft(self, file_path):\n",
        "        audio, label = self.read(file_path)\n",
        "        \n",
        "        stft = tf.signal.stft(audio, frame_length=self.frame_length, frame_step=self.frame_step, fft_length=self.frame_length)\n",
        "        spectrogram = tf.abs(stft)\n",
        "        \n",
        "        if self.mfcc == False:\n",
        "            spectrogram = tf.expand_dims(spectrogram, -1)\n",
        "            spectrogram = tf.image.resize(spectrogram, [50,50])\n",
        "            \n",
        "        return spectrogram, label\n",
        "    \n",
        "    \n",
        "    def preprocess_with_mfcc(self, file_path):\n",
        "        \n",
        "        spectrogram, label = self.preprocess_with_stft(file_path)\n",
        "        \n",
        "        num_spectrogram_bins = spectrogram.shape[-1]\n",
        "        linear_to_mel_weight_matrix = tf.signal.linear_to_mel_weight_matrix(self.num_mel_bins, num_spectrogram_bins,\n",
        "                                                                            self.sampling_rate, \n",
        "                                                                            self.lower_frequency, self.upper_frequency)\n",
        "        \n",
        "        mel_spectrogram = tf.tensordot(spectrogram, linear_to_mel_weight_matrix, 1)\n",
        "        log_mel_spectrogram = tf.math.log(mel_spectrogram + 1e-6)\n",
        "        mfccs = tf.signal.mfccs_from_log_mel_spectrograms(log_mel_spectrogram)[..., :self.num_coefficients]\n",
        "        mfccs = tf.expand_dims(mfccs, -1)\n",
        "          \n",
        "        return mfccs, label\n",
        "        \n",
        "    \n",
        "    def make_ds(self, filenames, train):\n",
        "        ds = tf.data.Dataset.from_tensor_slices(filenames)\n",
        "        ds = ds.map(self.preprocess, num_parallel_calls=4)\n",
        "        ds = ds.batch(32)\n",
        "        ds = ds.cache()\n",
        "        \n",
        "        if train == True:\n",
        "            ds = ds.shuffle(100, reshuffle_each_iteration=True)\n",
        "            \n",
        "        return ds"
      ],
      "execution_count": 16,
      "outputs": []
    },
    {
      "cell_type": "code",
      "metadata": {
        "id": "rnc5AEiecn3e"
      },
      "source": [
        "# Big model parameters\n",
        "sampling_rate = 16000\n",
        "frame_length = 640\n",
        "frame_step = 320\n",
        "num_mel_bins = 40\n",
        "lower_frequency = 20\n",
        "upper_frequency = 4000\n",
        "num_mfccs = 40"
      ],
      "execution_count": 100,
      "outputs": []
    },
    {
      "cell_type": "code",
      "metadata": {
        "id": "XmFiOq9Qcn3e"
      },
      "source": [
        "# MFCC\n",
        "generator = SignalGenerator(LABELS, sampling_rate, frame_length, frame_step, num_mel_bins, \n",
        "                                lower_frequency, upper_frequency, num_mfccs, mfcc=True)                  \n",
        "\n",
        "train_ds = generator.make_ds(train_files, True)\n",
        "val_ds = generator.make_ds(val_files, False)\n",
        "test_ds = generator.make_ds(test_files, False)"
      ],
      "execution_count": 102,
      "outputs": []
    },
    {
      "cell_type": "code",
      "metadata": {
        "id": "wH80Vvzvcn3e"
      },
      "source": [
        "temp = tf.squeeze(next(iter(train_ds))[0][0]).shape"
      ],
      "execution_count": null,
      "outputs": []
    },
    {
      "cell_type": "code",
      "metadata": {
        "id": "O1VAXAzlBwdO"
      },
      "source": [
        "shape1 = temp[0]\r\n",
        "shape2 = temp[1]  # = num_mfccs\r\n",
        "shape1, shape2"
      ],
      "execution_count": null,
      "outputs": []
    },
    {
      "cell_type": "code",
      "metadata": {
        "id": "mpgnTTFocn3f"
      },
      "source": [
        "def model_creation(name, alpha, mfcc=True):\n",
        "    \n",
        "    stride = [2,1]\n",
        "    input_shape = (shape1,shape2) \n",
        "        \n",
        "    if name == \"cnn\":\n",
        "        model = keras.Sequential([\n",
        "            keras.layers.Conv2D(filters = int(128*alpha), kernel_size=[3,3], strides=stride, use_bias=False, activation='relu'), \n",
        "            keras.layers.BatchNormalization(momentum=0.1),\n",
        "            keras.layers.Conv2D(filters = int(128*alpha), kernel_size=[3,3], strides=[1,2], use_bias=False, activation='relu'), \n",
        "            keras.layers.BatchNormalization(momentum=0.1),\n",
        "            keras.layers.Conv2D(filters = int(128*alpha), kernel_size=[3,3], strides=[1,2], use_bias=False, activation='relu'), \n",
        "            keras.layers.BatchNormalization(momentum=0.1),\n",
        "            keras.layers.Conv2D(filters = int(128*alpha), kernel_size=[3,3], strides=[1,2], use_bias=False, activation='relu'), \n",
        "            keras.layers.BatchNormalization(momentum=0.1),\n",
        "            keras.layers.GlobalAveragePooling2D(),\n",
        "            keras.layers.Dense(8)\n",
        "        ])\n",
        "    \n",
        "    return model"
      ],
      "execution_count": 76,
      "outputs": []
    },
    {
      "cell_type": "code",
      "metadata": {
        "id": "G0TOfKxwcn3f"
      },
      "source": [
        "alpha = 1\n",
        "mfcc = True\n",
        "#number_of_clusters = 8\n",
        "    \n",
        "optimizer = tf.keras.optimizers.Adam(learning_rate = 0.02)\n",
        "loss = tf.keras.losses.SparseCategoricalCrossentropy(from_logits=True)\n",
        "metric = tf.keras.metrics.SparseCategoricalAccuracy()\n",
        "n_epochs = 40\n",
        "model_name = 'cnn'\n",
        "\n",
        "def scheduler(epoch, lr):\n",
        "    if epoch == 10 or epoch == 35:\n",
        "        return lr*0.1   \n",
        "    return lr"
      ],
      "execution_count": 81,
      "outputs": []
    },
    {
      "cell_type": "code",
      "metadata": {
        "id": "zNYfRzEwcn3g"
      },
      "source": [
        "# Callbacks\n",
        "early_stopping = tf.keras.callbacks.EarlyStopping(monitor = 'val_loss', mode = 'min', min_delta = 0.005, patience = 5)\n",
        "\n",
        "checkpoint = tf.keras.callbacks.ModelCheckpoint( './solutions Group16/Group16_big', \n",
        "                                                 save_best_only = True,\n",
        "                                                 save_weights_only = True,\n",
        "                                                 monitor = 'val_loss',\n",
        "                                                 mode = 'min')\n",
        "\n",
        "schedule_callback = tf.keras.callbacks.LearningRateScheduler(schedule = scheduler)"
      ],
      "execution_count": 82,
      "outputs": []
    },
    {
      "cell_type": "code",
      "metadata": {
        "id": "vDcjbw3lcn3g",
        "colab": {
          "base_uri": "https://localhost:8080/"
        },
        "outputId": "68432d10-688e-41d0-cf62-031862d53c66"
      },
      "source": [
        "cnn = model_creation(model_name, alpha, mfcc = mfcc)\n",
        "\n",
        "cnn.compile(optimizer = optimizer,\n",
        "            loss = loss,              \n",
        "            metrics = metric)\n",
        "\n",
        "cnn.fit(train_ds, epochs = n_epochs, validation_data=val_ds, callbacks = [schedule_callback, checkpoint])"
      ],
      "execution_count": 83,
      "outputs": [
        {
          "output_type": "stream",
          "text": [
            "Epoch 1/40\n",
            "200/200 [==============================] - 3s 14ms/step - loss: 1.5114 - sparse_categorical_accuracy: 0.4936 - val_loss: 0.4994 - val_sparse_categorical_accuracy: 0.8400\n",
            "Epoch 2/40\n",
            "200/200 [==============================] - 2s 12ms/step - loss: 0.4507 - sparse_categorical_accuracy: 0.8516 - val_loss: 0.2997 - val_sparse_categorical_accuracy: 0.8938\n",
            "Epoch 3/40\n",
            "200/200 [==============================] - 2s 12ms/step - loss: 0.2892 - sparse_categorical_accuracy: 0.9034 - val_loss: 0.2566 - val_sparse_categorical_accuracy: 0.9100\n",
            "Epoch 4/40\n",
            "200/200 [==============================] - 2s 12ms/step - loss: 0.2005 - sparse_categorical_accuracy: 0.9314 - val_loss: 0.7184 - val_sparse_categorical_accuracy: 0.8913\n",
            "Epoch 5/40\n",
            "200/200 [==============================] - 2s 12ms/step - loss: 0.1810 - sparse_categorical_accuracy: 0.9385 - val_loss: 0.2519 - val_sparse_categorical_accuracy: 0.9237\n",
            "Epoch 6/40\n",
            "200/200 [==============================] - 2s 12ms/step - loss: 0.1752 - sparse_categorical_accuracy: 0.9381 - val_loss: 0.2856 - val_sparse_categorical_accuracy: 0.9187\n",
            "Epoch 7/40\n",
            "200/200 [==============================] - 2s 12ms/step - loss: 0.1338 - sparse_categorical_accuracy: 0.9517 - val_loss: 0.2792 - val_sparse_categorical_accuracy: 0.9262\n",
            "Epoch 8/40\n",
            "200/200 [==============================] - 2s 12ms/step - loss: 0.1151 - sparse_categorical_accuracy: 0.9584 - val_loss: 0.2228 - val_sparse_categorical_accuracy: 0.9300\n",
            "Epoch 9/40\n",
            "200/200 [==============================] - 2s 12ms/step - loss: 0.0849 - sparse_categorical_accuracy: 0.9714 - val_loss: 0.2116 - val_sparse_categorical_accuracy: 0.9325\n",
            "Epoch 10/40\n",
            "200/200 [==============================] - 2s 12ms/step - loss: 0.0750 - sparse_categorical_accuracy: 0.9761 - val_loss: 0.3231 - val_sparse_categorical_accuracy: 0.9200\n",
            "Epoch 11/40\n",
            "200/200 [==============================] - 2s 12ms/step - loss: 0.0438 - sparse_categorical_accuracy: 0.9870 - val_loss: 0.2046 - val_sparse_categorical_accuracy: 0.9413\n",
            "Epoch 12/40\n",
            "200/200 [==============================] - 2s 12ms/step - loss: 0.0216 - sparse_categorical_accuracy: 0.9943 - val_loss: 0.2225 - val_sparse_categorical_accuracy: 0.9362\n",
            "Epoch 13/40\n",
            "200/200 [==============================] - 2s 12ms/step - loss: 0.0164 - sparse_categorical_accuracy: 0.9956 - val_loss: 0.1696 - val_sparse_categorical_accuracy: 0.9488\n",
            "Epoch 14/40\n",
            "200/200 [==============================] - 2s 12ms/step - loss: 0.0153 - sparse_categorical_accuracy: 0.9964 - val_loss: 0.1806 - val_sparse_categorical_accuracy: 0.9450\n",
            "Epoch 15/40\n",
            "200/200 [==============================] - 2s 12ms/step - loss: 0.0152 - sparse_categorical_accuracy: 0.9960 - val_loss: 0.1895 - val_sparse_categorical_accuracy: 0.9400\n",
            "Epoch 16/40\n",
            "200/200 [==============================] - 2s 12ms/step - loss: 0.0128 - sparse_categorical_accuracy: 0.9968 - val_loss: 0.1727 - val_sparse_categorical_accuracy: 0.9463\n",
            "Epoch 17/40\n",
            "200/200 [==============================] - 2s 12ms/step - loss: 0.0099 - sparse_categorical_accuracy: 0.9974 - val_loss: 0.2528 - val_sparse_categorical_accuracy: 0.9362\n",
            "Epoch 18/40\n",
            "200/200 [==============================] - 2s 12ms/step - loss: 0.0075 - sparse_categorical_accuracy: 0.9987 - val_loss: 0.1828 - val_sparse_categorical_accuracy: 0.9475\n",
            "Epoch 19/40\n",
            "200/200 [==============================] - 2s 12ms/step - loss: 0.0043 - sparse_categorical_accuracy: 0.9995 - val_loss: 0.2224 - val_sparse_categorical_accuracy: 0.9450\n",
            "Epoch 20/40\n",
            "200/200 [==============================] - 2s 12ms/step - loss: 0.0042 - sparse_categorical_accuracy: 1.0000 - val_loss: 0.1976 - val_sparse_categorical_accuracy: 0.9450\n",
            "Epoch 21/40\n",
            "200/200 [==============================] - 2s 12ms/step - loss: 0.0031 - sparse_categorical_accuracy: 0.9997 - val_loss: 0.1948 - val_sparse_categorical_accuracy: 0.9438\n",
            "Epoch 22/40\n",
            "200/200 [==============================] - 2s 12ms/step - loss: 0.0021 - sparse_categorical_accuracy: 1.0000 - val_loss: 0.2438 - val_sparse_categorical_accuracy: 0.9362\n",
            "Epoch 23/40\n",
            "200/200 [==============================] - 2s 12ms/step - loss: 0.0019 - sparse_categorical_accuracy: 1.0000 - val_loss: 0.2856 - val_sparse_categorical_accuracy: 0.9325\n",
            "Epoch 24/40\n",
            "200/200 [==============================] - 2s 12ms/step - loss: 0.0012 - sparse_categorical_accuracy: 1.0000 - val_loss: 0.2699 - val_sparse_categorical_accuracy: 0.9325\n",
            "Epoch 25/40\n",
            "200/200 [==============================] - 2s 12ms/step - loss: 9.5823e-04 - sparse_categorical_accuracy: 1.0000 - val_loss: 0.2053 - val_sparse_categorical_accuracy: 0.9450\n",
            "Epoch 26/40\n",
            "200/200 [==============================] - 2s 12ms/step - loss: 8.4614e-04 - sparse_categorical_accuracy: 1.0000 - val_loss: 0.2513 - val_sparse_categorical_accuracy: 0.9362\n",
            "Epoch 27/40\n",
            "200/200 [==============================] - 2s 12ms/step - loss: 6.5788e-04 - sparse_categorical_accuracy: 1.0000 - val_loss: 0.2498 - val_sparse_categorical_accuracy: 0.9413\n",
            "Epoch 28/40\n",
            "200/200 [==============================] - 2s 12ms/step - loss: 5.8497e-04 - sparse_categorical_accuracy: 1.0000 - val_loss: 0.2150 - val_sparse_categorical_accuracy: 0.9475\n",
            "Epoch 29/40\n",
            "200/200 [==============================] - 2s 12ms/step - loss: 4.7209e-04 - sparse_categorical_accuracy: 1.0000 - val_loss: 0.2380 - val_sparse_categorical_accuracy: 0.9463\n",
            "Epoch 30/40\n",
            "200/200 [==============================] - 2s 12ms/step - loss: 3.4966e-04 - sparse_categorical_accuracy: 1.0000 - val_loss: 0.2666 - val_sparse_categorical_accuracy: 0.9388\n",
            "Epoch 31/40\n",
            "200/200 [==============================] - 2s 12ms/step - loss: 3.1720e-04 - sparse_categorical_accuracy: 1.0000 - val_loss: 0.2575 - val_sparse_categorical_accuracy: 0.9413\n",
            "Epoch 32/40\n",
            "200/200 [==============================] - 2s 12ms/step - loss: 3.0615e-04 - sparse_categorical_accuracy: 1.0000 - val_loss: 0.2422 - val_sparse_categorical_accuracy: 0.9463\n",
            "Epoch 33/40\n",
            "200/200 [==============================] - 2s 12ms/step - loss: 2.6021e-04 - sparse_categorical_accuracy: 1.0000 - val_loss: 0.2295 - val_sparse_categorical_accuracy: 0.9375\n",
            "Epoch 34/40\n",
            "200/200 [==============================] - 2s 12ms/step - loss: 2.1244e-04 - sparse_categorical_accuracy: 1.0000 - val_loss: 0.2542 - val_sparse_categorical_accuracy: 0.9375\n",
            "Epoch 35/40\n",
            "200/200 [==============================] - 2s 12ms/step - loss: 1.8542e-04 - sparse_categorical_accuracy: 1.0000 - val_loss: 0.2136 - val_sparse_categorical_accuracy: 0.9438\n",
            "Epoch 36/40\n",
            "200/200 [==============================] - 2s 12ms/step - loss: 1.6320e-04 - sparse_categorical_accuracy: 1.0000 - val_loss: 0.2234 - val_sparse_categorical_accuracy: 0.9475\n",
            "Epoch 37/40\n",
            "200/200 [==============================] - 2s 12ms/step - loss: 1.5299e-04 - sparse_categorical_accuracy: 1.0000 - val_loss: 0.2538 - val_sparse_categorical_accuracy: 0.9400\n",
            "Epoch 38/40\n",
            "200/200 [==============================] - 2s 12ms/step - loss: 1.5839e-04 - sparse_categorical_accuracy: 1.0000 - val_loss: 0.2111 - val_sparse_categorical_accuracy: 0.9450\n",
            "Epoch 39/40\n",
            "200/200 [==============================] - 2s 12ms/step - loss: 1.5097e-04 - sparse_categorical_accuracy: 1.0000 - val_loss: 0.2259 - val_sparse_categorical_accuracy: 0.9438\n",
            "Epoch 40/40\n",
            "200/200 [==============================] - 2s 12ms/step - loss: 1.6493e-04 - sparse_categorical_accuracy: 1.0000 - val_loss: 0.2268 - val_sparse_categorical_accuracy: 0.9475\n"
          ],
          "name": "stdout"
        },
        {
          "output_type": "execute_result",
          "data": {
            "text/plain": [
              "<tensorflow.python.keras.callbacks.History at 0x7f7d6c2ec400>"
            ]
          },
          "metadata": {
            "tags": []
          },
          "execution_count": 83
        }
      ]
    },
    {
      "cell_type": "code",
      "metadata": {
        "id": "jyMNOW6lcn3h",
        "colab": {
          "base_uri": "https://localhost:8080/"
        },
        "outputId": "d11d42c5-729d-474a-ac7d-11fcc5377bc7"
      },
      "source": [
        "cnn.load_weights('./solutions Group16/Group16_big')\n",
        "test_loss, test_accuracy = cnn.evaluate(test_ds, verbose=2)\n",
        "test_accuracy"
      ],
      "execution_count": 85,
      "outputs": [
        {
          "output_type": "stream",
          "text": [
            "25/25 - 0s - loss: 0.2159 - sparse_categorical_accuracy: 0.9463\n"
          ],
          "name": "stdout"
        },
        {
          "output_type": "execute_result",
          "data": {
            "text/plain": [
              "0.9462500214576721"
            ]
          },
          "metadata": {
            "tags": []
          },
          "execution_count": 85
        }
      ]
    },
    {
      "cell_type": "code",
      "metadata": {
        "id": "QmKgxU9Ncn3h",
        "outputId": "012612f2-11be-4f41-c43c-3a86d9c667a1"
      },
      "source": [
        "'''\n",
        "# Weights clustering\n",
        "cnn_clustered = tfmot.clustering.keras.cluster_weights(cnn, \n",
        "                                            number_of_clusters = number_of_clusters,\n",
        "                                            cluster_centroids_init = tfmot.clustering.keras.CentroidInitialization.LINEAR)\n",
        "\n",
        "cnn_clustered.compile(optimizer = optimizer,\n",
        "            loss = loss,              \n",
        "            metrics = metric)\n",
        "\n",
        "cnn_clustered.fit(train_ds, epochs = n_epochs, validation_data=val_ds, callbacks = [checkpoint, schedule_callback, early_stopping])\n",
        "'''"
      ],
      "execution_count": null,
      "outputs": [
        {
          "output_type": "stream",
          "text": [
            "Epoch 1/20\n",
            "200/200 [==============================] - 10s 49ms/step - loss: 0.1215 - sparse_categorical_accuracy: 0.9543 - val_loss: 0.2890 - val_sparse_categorical_accuracy: 0.9100\n",
            "Epoch 2/20\n",
            "200/200 [==============================] - 10s 48ms/step - loss: 0.1034 - sparse_categorical_accuracy: 0.9623 - val_loss: 0.2857 - val_sparse_categorical_accuracy: 0.9187\n",
            "Epoch 3/20\n",
            "200/200 [==============================] - 10s 48ms/step - loss: 0.0974 - sparse_categorical_accuracy: 0.9653 - val_loss: 0.3783 - val_sparse_categorical_accuracy: 0.9275\n",
            "Epoch 4/20\n",
            "200/200 [==============================] - 10s 48ms/step - loss: 0.0943 - sparse_categorical_accuracy: 0.9650 - val_loss: 0.3351 - val_sparse_categorical_accuracy: 0.9225\n",
            "Epoch 5/20\n",
            "200/200 [==============================] - 10s 48ms/step - loss: 0.0933 - sparse_categorical_accuracy: 0.9694 - val_loss: 0.2899 - val_sparse_categorical_accuracy: 0.9250\n",
            "Epoch 6/20\n",
            "200/200 [==============================] - 9s 47ms/step - loss: 0.0895 - sparse_categorical_accuracy: 0.9684 - val_loss: 0.3251 - val_sparse_categorical_accuracy: 0.9200\n"
          ],
          "name": "stdout"
        },
        {
          "output_type": "execute_result",
          "data": {
            "text/plain": [
              "<tensorflow.python.keras.callbacks.History at 0x18680b4da58>"
            ]
          },
          "metadata": {
            "tags": []
          },
          "execution_count": 96
        }
      ]
    },
    {
      "cell_type": "code",
      "metadata": {
        "id": "4jADzyhScn3h",
        "outputId": "be2f8e52-d679-4ab8-8e04-935f194fe590"
      },
      "source": [
        "'''\n",
        "cnn_clustered.load_weights('./solutions Group16/Group16_kws_'+version)\n",
        "test_loss, test_accuracy = cnn_clustered.evaluate(test_ds, verbose=2)\n",
        "test_accuracy\n",
        "'''"
      ],
      "execution_count": null,
      "outputs": [
        {
          "output_type": "stream",
          "text": [
            "25/25 - 0s - loss: 0.3760 - sparse_categorical_accuracy: 0.9175\n"
          ],
          "name": "stdout"
        },
        {
          "output_type": "execute_result",
          "data": {
            "text/plain": [
              "0.9175000190734863"
            ]
          },
          "metadata": {
            "tags": []
          },
          "execution_count": 97
        }
      ]
    },
    {
      "cell_type": "code",
      "metadata": {
        "id": "-cyrzBxxcn3i",
        "outputId": "9a19119b-1294-4617-d063-a61b2a8ddd75"
      },
      "source": [
        "'''\n",
        "# Save the clustered model\n",
        "cnn_clustered = tfmot.clustering.keras.strip_clustering(cnn_clustered)\n",
        "cnn_clustered.save('./solutions Group16/Group16_kws_'+version)\n",
        "'''"
      ],
      "execution_count": null,
      "outputs": [
        {
          "output_type": "stream",
          "text": [
            "INFO:tensorflow:Assets written to: ./solutions Group16/Group16_kws_c\\assets\n"
          ],
          "name": "stdout"
        },
        {
          "output_type": "stream",
          "text": [
            "INFO:tensorflow:Assets written to: ./solutions Group16/Group16_kws_c\\assets\n"
          ],
          "name": "stderr"
        }
      ]
    },
    {
      "cell_type": "code",
      "metadata": {
        "id": "ZWFOKFF4cn3i"
      },
      "source": [
        "# Save the model\n",
        "cnn.save('./solutions Group16/Group16_kws_'+version)"
      ],
      "execution_count": null,
      "outputs": []
    },
    {
      "cell_type": "code",
      "metadata": {
        "id": "hdpJxuKvcn3i"
      },
      "source": [
        "# Save the tflite\n",
        "converter = tf.lite.TFLiteConverter.from_saved_model('./solutions Group16/Group16_kws_'+version)\n",
        "    \n",
        "tflite_model = converter.convert()\n",
        "\n",
        "with open('./Group16_kws_'+version+'.tflite.zlib', 'wb') as fp:\n",
        "    fp.write(tflite_model)"
      ],
      "execution_count": null,
      "outputs": []
    },
    {
      "cell_type": "code",
      "metadata": {
        "id": "cpSQ1m8Tcn3i"
      },
      "source": [
        "tflite_model = converter.convert()\n",
        "\n",
        "with open('./Group16_kws_'+version+'.tflite.zlib', 'wb') as fp:\n",
        "    tflite_compressed = zlib.compress(tflite_model)\n",
        "    fp.write(tflite_compressed)"
      ],
      "execution_count": null,
      "outputs": []
    },
    {
      "cell_type": "code",
      "metadata": {
        "id": "d6Y80wgScn3j"
      },
      "source": [
        "# Delete the directory with keras models and checkpoints\n",
        "shutil.rmtree('solutions Group16', ignore_errors=True)"
      ],
      "execution_count": null,
      "outputs": []
    },
    {
      "cell_type": "code",
      "metadata": {
        "id": "Nfsqx6Jkcn3j"
      },
      "source": [
        "# Test the model\n",
        "test_ds_tflite = test_ds.unbatch().batch(1)\n",
        "\n",
        "def acc_inference(interpreter):\n",
        "    \n",
        "    interpreter.allocate_tensors()\n",
        "    input_details = interpreter.get_input_details() \n",
        "    output_details = interpreter.get_output_details()\n",
        "    \n",
        "    acc = tf.keras.metrics.SparseCategoricalAccuracy()\n",
        "    \n",
        "    for (x,y) in test_ds_tflite:\n",
        "        interpreter.set_tensor(input_details[0][\"index\"], x)\n",
        "        interpreter.invoke()\n",
        "        y_pred = interpreter.get_tensor(output_details[0][\"index\"])\n",
        "        \n",
        "        y_true = y\n",
        "        acc.update_state(y_true, y_pred)\n",
        "    \n",
        "    return acc.result().numpy()"
      ],
      "execution_count": null,
      "outputs": []
    },
    {
      "cell_type": "code",
      "metadata": {
        "id": "kXRzW_jIcn3j",
        "outputId": "1f17da9c-8853-4739-92ff-8a0e4b10a120"
      },
      "source": [
        "with open('Group16_kws_'+version+'.tflite.zlib', 'rb') as fp:\n",
        "    model_zip = zlib.decompress(fp.read())\n",
        "    interpreter = tf.lite.Interpreter(model_content=model_zip)\n",
        "    tflite_acc = acc_inference(interpreter)\n",
        "tflite_acc, os.path.getsize('Group16_kws_'+version+'.tflite.zlib')"
      ],
      "execution_count": null,
      "outputs": [
        {
          "output_type": "execute_result",
          "data": {
            "text/plain": [
              "(0.9175, 40190)"
            ]
          },
          "metadata": {
            "tags": []
          },
          "execution_count": 103
        }
      ]
    }
  ]
}